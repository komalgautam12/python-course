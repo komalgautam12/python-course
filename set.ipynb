{
 "cells": [
  {
   "cell_type": "markdown",
   "metadata": {},
   "source": [
    "# set\n",
    "- set is **mutable** (item can be changed during execution )\n",
    "- set is **heterogenous** (mixed data can be stored )\n",
    "- set can have **unique** values\n",
    "- set **uses{}** brackets with valuese insides it seperated with commas \n",
    "- to create empty we have to use set()\n",
    "- \n",
    "## what to learn "
   ]
  },
  {
   "cell_type": "code",
   "execution_count": 1,
   "metadata": {},
   "outputs": [
    {
     "name": "stdout",
     "output_type": "stream",
     "text": [
      "set() {1, 2, 3, 4} {1, 2, 3, 4}\n"
     ]
    }
   ],
   "source": [
    "a=set() # empty\n",
    "b={1,2,3,4,}\n",
    "c=set([1,2,3,3,4])\n",
    "print(a,b,c)"
   ]
  },
  {
   "cell_type": "code",
   "execution_count": 2,
   "metadata": {},
   "outputs": [],
   "source": [
    "a.add(1)"
   ]
  },
  {
   "cell_type": "code",
   "execution_count": 4,
   "metadata": {},
   "outputs": [
    {
     "name": "stdout",
     "output_type": "stream",
     "text": [
      "{1, 2, 3, 4, 5, 6, 74}\n"
     ]
    }
   ],
   "source": [
    "d={1,2,3,4,5,6,74,4,4,4,}\n",
    "print(d)"
   ]
  },
  {
   "cell_type": "code",
   "execution_count": 5,
   "metadata": {},
   "outputs": [],
   "source": [
    "d.remove(74)"
   ]
  },
  {
   "cell_type": "code",
   "execution_count": 9,
   "metadata": {},
   "outputs": [
    {
     "name": "stdout",
     "output_type": "stream",
     "text": [
      "{'54', '2', '1', '8', '7'}\n"
     ]
    }
   ],
   "source": [
    "x=set()\n",
    "for i in range(5):\n",
    "    val=input(\"enetr a value \")\n",
    "    x.add(val)\n",
    "print(x)"
   ]
  },
  {
   "cell_type": "code",
   "execution_count": 10,
   "metadata": {},
   "outputs": [
    {
     "name": "stdout",
     "output_type": "stream",
     "text": [
      "54\n",
      "2\n",
      "1\n",
      "8\n",
      "7\n"
     ]
    }
   ],
   "source": [
    "for i in x:\n",
    "    print(i)"
   ]
  },
  {
   "cell_type": "markdown",
   "metadata": {},
   "source": [
    "### function \n",
    "- adding values\n",
    "  - add(it add omly one values) \n",
    "  - update (it add multiple va;lues  at a times )\n",
    "- removing values \n",
    "  - remove()\n",
    "  - discard()\n",
    "  - pop ()\n",
    "  - clear()\n",
    "-set operation\n",
    "  - union \n",
    "  - intersection\n",
    "  - differnce\n",
    "  - symmetric_difference\n",
    "  -is_superset()\n",
    "  - is_subset()\n",
    "  - is_disjoint()"
   ]
  },
  {
   "cell_type": "code",
   "execution_count": 11,
   "metadata": {},
   "outputs": [],
   "source": [
    "sa ={1,2,3,4,5}\n",
    "sb={2,7,8,8,9,5}\n"
   ]
  },
  {
   "cell_type": "code",
   "execution_count": 15,
   "metadata": {},
   "outputs": [
    {
     "name": "stdout",
     "output_type": "stream",
     "text": [
      "{1, 2, 3, 4, 5, 7, 8, 9}\n"
     ]
    }
   ],
   "source": [
    "print(sb.union(sa))\n",
    "print(sa|sb )# pipe operator is union"
   ]
  },
  {
   "cell_type": "code",
   "execution_count": 16,
   "metadata": {},
   "outputs": [
    {
     "name": "stdout",
     "output_type": "stream",
     "text": [
      "{2, 5}\n",
      "{2, 5}\n"
     ]
    }
   ],
   "source": [
    "print(sb.intersection(sa))\n",
    "print(sa & sb )# & is operator is  intersaction"
   ]
  },
  {
   "cell_type": "code",
   "execution_count": 23,
   "metadata": {},
   "outputs": [
    {
     "name": "stdout",
     "output_type": "stream",
     "text": [
      "{8, 9, 7}\n",
      "{1, 3, 4}\n"
     ]
    }
   ],
   "source": [
    "print(sb.difference(sa))\n",
    "print(sa -sb)# -  operator is difference"
   ]
  },
  {
   "cell_type": "code",
   "execution_count": 22,
   "metadata": {},
   "outputs": [
    {
     "name": "stdout",
     "output_type": "stream",
     "text": [
      "{1, 3, 4, 7, 8, 9}\n",
      "{1, 3, 4, 7, 8, 9}\n"
     ]
    }
   ],
   "source": [
    "print(sb.symmetric_difference(sa))\n",
    "print(sa^ sb ) # ^ is operator is symmetric difference"
   ]
  },
  {
   "cell_type": "code",
   "execution_count": 30,
   "metadata": {},
   "outputs": [],
   "source": [
    "sc={1,2,3,4,5,6,7,8,9,10}\n",
    "sd={11,12,13,14}"
   ]
  },
  {
   "cell_type": "code",
   "execution_count": 29,
   "metadata": {},
   "outputs": [
    {
     "data": {
      "text/plain": [
       "True"
      ]
     },
     "execution_count": 29,
     "metadata": {},
     "output_type": "execute_result"
    }
   ],
   "source": [
    "sb.issubset(sc)"
   ]
  },
  {
   "cell_type": "code",
   "execution_count": 31,
   "metadata": {},
   "outputs": [
    {
     "data": {
      "text/plain": [
       "False"
      ]
     },
     "execution_count": 31,
     "metadata": {},
     "output_type": "execute_result"
    }
   ],
   "source": [
    "sd.issubset(sc)"
   ]
  },
  {
   "cell_type": "markdown",
   "metadata": {},
   "source": [
    "## Task \n",
    "## \n",
    "wap to take 10 integers in a set from user and display the sum of all values "
   ]
  },
  {
   "cell_type": "markdown",
   "metadata": {},
   "source": []
  },
  {
   "cell_type": "code",
   "execution_count": 37,
   "metadata": {},
   "outputs": [
    {
     "name": "stdout",
     "output_type": "stream",
     "text": [
      "set = {1, 2, 3, 4, 5, 6, 7, 8}\n",
      "sum of the item in set is  36\n"
     ]
    }
   ],
   "source": [
    "a=set()\n",
    "\n",
    "for i in range (10):\n",
    "    val=int(input(\"enter the value\"))\n",
    "    a.add(val)\n",
    "s=0\n",
    "for i in a:\n",
    "    s=s+i\n",
    "print(\"set =\" ,a)\n",
    "print(\"sum of the item in set is \", s)\n",
    "\n"
   ]
  },
  {
   "cell_type": "code",
   "execution_count": null,
   "metadata": {},
   "outputs": [],
   "source": [
    "3\n",
    "4\n",
    "5\n",
    "1\n",
    "3\n",
    "6\n",
    "7\n",
    "8\n",
    "9"
   ]
  },
  {
   "cell_type": "code",
   "execution_count": null,
   "metadata": {},
   "outputs": [],
   "source": []
  },
  {
   "cell_type": "code",
   "execution_count": null,
   "metadata": {},
   "outputs": [],
   "source": []
  },
  {
   "cell_type": "code",
   "execution_count": null,
   "metadata": {},
   "outputs": [],
   "source": []
  }
 ],
 "metadata": {
  "interpreter": {
   "hash": "fed30e36df380b4e7b7d06a801b217955ec3fc3256658018197483620292ab6f"
  },
  "kernelspec": {
   "display_name": "Python 3.9.5 ('base')",
   "language": "python",
   "name": "python3"
  },
  "language_info": {
   "codemirror_mode": {
    "name": "ipython",
    "version": 3
   },
   "file_extension": ".py",
   "mimetype": "text/x-python",
   "name": "python",
   "nbconvert_exporter": "python",
   "pygments_lexer": "ipython3",
   "version": "3.9.5"
  },
  "orig_nbformat": 4
 },
 "nbformat": 4,
 "nbformat_minor": 2
}
