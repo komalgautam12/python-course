{
 "cells": [
  {
   "cell_type": "markdown",
   "metadata": {},
   "source": [
    "# list \n",
    "- list is mutable (item add ,remove)\n",
    "- list is heterogenous (mixed data can be stored )\n",
    "- list can have duplicate value \n",
    "- list is indexed (item have indexes and can be sliced )\n",
    "- list uses '[ ]' brackets with value with insides it sepereated with commas\n",
    "\n",
    "## what to learn \n",
    "- ### creating  a list \n",
    "- ### indexing n slicing\n",
    "- ### transversal (looping )\n",
    "- ### function \n",
    "- ### comprehension\n",
    "- ### lambda,map,anf filter "
   ]
  },
  {
   "cell_type": "markdown",
   "metadata": {},
   "source": []
  },
  {
   "cell_type": "code",
   "execution_count": 7,
   "metadata": {},
   "outputs": [
    {
     "name": "stdout",
     "output_type": "stream",
     "text": [
      "['kaladin', 'adolin', 'dalinar', 'wit', 'shallan', 'naani']\n"
     ]
    }
   ],
   "source": [
    "# list of string \n",
    "names= [\"kaladin\",\"adolin\",\"dalinar\",\"wit\",\"shallan\",\"naani\"]\n",
    "print(names)\n",
    "# list of number  \n",
    "factor=[\"1,2,3,4,5,6,7\"]\n",
    "# mixed data list \n",
    "info=[\"ravi\",90,102,93,87,87,98,False,6.879]\n",
    "# list from function \n",
    "fact = \"icecube sets in its own blood\" \n",
    "words=fact.split()\n"
   ]
  },
  {
   "cell_type": "code",
   "execution_count": 1,
   "metadata": {},
   "outputs": [
    {
     "name": "stdout",
     "output_type": "stream",
     "text": [
      "[1, 1, 1, 1, 1, 1, 1, 1, 1, 1]\n"
     ]
    }
   ],
   "source": [
    "#  quick list hack with same value \n",
    "x=[1]*10\n",
    "print(x)"
   ]
  },
  {
   "cell_type": "code",
   "execution_count": 7,
   "metadata": {},
   "outputs": [
    {
     "name": "stdout",
     "output_type": "stream",
     "text": [
      "['LION ', 'LION ', 'LION ', 'LION ', 'LION ', 'LION ', 'LION ', 'LION ', 'LION ', 'LION ']\n"
     ]
    }
   ],
   "source": [
    "X=[\"LION \"]*10\n",
    "print(X)"
   ]
  },
  {
   "cell_type": "code",
   "execution_count": 8,
   "metadata": {},
   "outputs": [
    {
     "name": "stdout",
     "output_type": "stream",
     "text": [
      "[10, ' ', 9, 100]\n"
     ]
    }
   ],
   "source": [
    "# list from variable\n",
    "a=10\n",
    "b=\" \"\n",
    "c=9\n",
    "x=100\n",
    "l=[a,b,c,x]\n",
    "print(l)"
   ]
  },
  {
   "cell_type": "code",
   "execution_count": 9,
   "metadata": {},
   "outputs": [],
   "source": [
    "kharche=[]# empty list"
   ]
  },
  {
   "cell_type": "code",
   "execution_count": 13,
   "metadata": {},
   "outputs": [
    {
     "name": "stdout",
     "output_type": "stream",
     "text": [
      "[100, 200, 300, 100, 100, 200, 300, 100]\n",
      "[100, 200, 300, 100, 100, 200, 300, 100, 200]\n",
      "[100, 200, 300, 100, 100, 200, 300, 100, 200, 300]\n"
     ]
    }
   ],
   "source": [
    "kharche.append(100)\n",
    "print(kharche)\n",
    "kharche.append(200)\n",
    "print(kharche)\n",
    "kharche.append(300)\n",
    "print(kharche)"
   ]
  },
  {
   "cell_type": "code",
   "execution_count": 16,
   "metadata": {},
   "outputs": [
    {
     "name": "stdout",
     "output_type": "stream",
     "text": [
      "['burger', 'tikki', 'chat']\n"
     ]
    }
   ],
   "source": [
    "fav_food=[]\n",
    "for i in range (3):\n",
    "    food= input(\"eter name of ur fav food => \")\n",
    "    fav_food.append(food)\n",
    "print(fav_food)"
   ]
  },
  {
   "cell_type": "code",
   "execution_count": 2,
   "metadata": {},
   "outputs": [
    {
     "name": "stdout",
     "output_type": "stream",
     "text": [
      "[0]\n"
     ]
    }
   ],
   "source": [
    "nums=[]\n",
    "for i in range (1,100):\n",
    "    nums.append(i)\n",
    "print(nums)\n",
    "\n",
    "    "
   ]
  },
  {
   "cell_type": "code",
   "execution_count": 27,
   "metadata": {},
   "outputs": [
    {
     "data": {
      "text/plain": [
       "[2,\n",
       " 4,\n",
       " 6,\n",
       " 8,\n",
       " 10,\n",
       " 12,\n",
       " 14,\n",
       " 16,\n",
       " 18,\n",
       " 20,\n",
       " 22,\n",
       " 24,\n",
       " 26,\n",
       " 28,\n",
       " 30,\n",
       " 32,\n",
       " 34,\n",
       " 36,\n",
       " 38,\n",
       " 40,\n",
       " 42,\n",
       " 44,\n",
       " 46,\n",
       " 48,\n",
       " 50,\n",
       " 52,\n",
       " 54,\n",
       " 56,\n",
       " 58,\n",
       " 60,\n",
       " 62,\n",
       " 64,\n",
       " 66,\n",
       " 68,\n",
       " 70,\n",
       " 72,\n",
       " 74,\n",
       " 76,\n",
       " 78,\n",
       " 80,\n",
       " 82,\n",
       " 84,\n",
       " 86,\n",
       " 88,\n",
       " 90,\n",
       " 92,\n",
       " 94,\n",
       " 96,\n",
       " 98]"
      ]
     },
     "execution_count": 27,
     "metadata": {},
     "output_type": "execute_result"
    }
   ],
   "source": [
    "nums[1:100:2]"
   ]
  },
  {
   "cell_type": "code",
   "execution_count": 5,
   "metadata": {},
   "outputs": [
    {
     "data": {
      "text/plain": [
       "'dalinar'"
      ]
     },
     "execution_count": 5,
     "metadata": {},
     "output_type": "execute_result"
    }
   ],
   "source": [
    "names[2]"
   ]
  },
  {
   "cell_type": "code",
   "execution_count": 6,
   "metadata": {},
   "outputs": [],
   "source": [
    "words=[-2]"
   ]
  },
  {
   "cell_type": "markdown",
   "metadata": {},
   "source": []
  }
 ],
 "metadata": {
  "interpreter": {
   "hash": "feb5410b972a84561cf38b0fe3aceb480d942002c0e798026e87d39a79c73f3a"
  },
  "kernelspec": {
   "display_name": "Python 3.9.7 64-bit",
   "language": "python",
   "name": "python3"
  },
  "language_info": {
   "codemirror_mode": {
    "name": "ipython",
    "version": 3
   },
   "file_extension": ".py",
   "mimetype": "text/x-python",
   "name": "python",
   "nbconvert_exporter": "python",
   "pygments_lexer": "ipython3",
   "version": "3.9.5"
  },
  "orig_nbformat": 4
 },
 "nbformat": 4,
 "nbformat_minor": 2
}
