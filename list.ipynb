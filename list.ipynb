{
 "cells": [
  {
   "cell_type": "markdown",
   "metadata": {},
   "source": [
    "# list \n",
    "- list is mutable (item add ,remove)\n",
    "- list is heterogenous (mixed data can be stored )\n",
    "- list can have duplicate value \n",
    "- list is indexed (item have indexes and can be sliced )\n",
    "- list uses '[ ]' brackets with value with insides it sepereated with commas\n",
    "\n",
    "## what to learn \n",
    "- ### creating  a list \n",
    "- ### indexing n slicing\n",
    "- ### transversal (looping )\n",
    "- ### function (11)\n",
    "- ### comprehension\n",
    "- ### lambda,map,anf filter "
   ]
  },
  {
   "cell_type": "markdown",
   "metadata": {},
   "source": []
  },
  {
   "cell_type": "code",
   "execution_count": 7,
   "metadata": {},
   "outputs": [
    {
     "name": "stdout",
     "output_type": "stream",
     "text": [
      "['kaladin', 'adolin', 'dalinar', 'wit', 'shallan', 'naani']\n"
     ]
    }
   ],
   "source": [
    "# list of string \n",
    "names= [\"kaladin\",\"adolin\",\"dalinar\",\"wit\",\"shallan\",\"naani\"]\n",
    "print(names)\n",
    "# list of number  \n",
    "factor=[\"1,2,3,4,5,6,7\"]\n",
    "# mixed data list \n",
    "info=[\"ravi\",90,102,93,87,87,98,False,6.879]\n",
    "# list from function \n",
    "fact = \"icecube sets in its own blood\" \n",
    "words=fact.split()\n"
   ]
  },
  {
   "cell_type": "code",
   "execution_count": 1,
   "metadata": {},
   "outputs": [
    {
     "name": "stdout",
     "output_type": "stream",
     "text": [
      "[1, 1, 1, 1, 1, 1, 1, 1, 1, 1]\n"
     ]
    }
   ],
   "source": [
    "#  quick list hack with same value \n",
    "x=[1]*10\n",
    "print(x)"
   ]
  },
  {
   "cell_type": "code",
   "execution_count": 7,
   "metadata": {},
   "outputs": [
    {
     "name": "stdout",
     "output_type": "stream",
     "text": [
      "['LION ', 'LION ', 'LION ', 'LION ', 'LION ', 'LION ', 'LION ', 'LION ', 'LION ', 'LION ']\n"
     ]
    }
   ],
   "source": [
    "X=[\"LION \"]*10\n",
    "print(X)"
   ]
  },
  {
   "cell_type": "code",
   "execution_count": 8,
   "metadata": {},
   "outputs": [
    {
     "name": "stdout",
     "output_type": "stream",
     "text": [
      "[10, ' ', 9, 100]\n"
     ]
    }
   ],
   "source": [
    "# list from variable\n",
    "a=10\n",
    "b=\" \"\n",
    "c=9\n",
    "x=100\n",
    "l=[a,b,c,x]\n",
    "print(l)"
   ]
  },
  {
   "cell_type": "code",
   "execution_count": 9,
   "metadata": {},
   "outputs": [],
   "source": [
    "kharche=[]# empty list"
   ]
  },
  {
   "cell_type": "code",
   "execution_count": 13,
   "metadata": {},
   "outputs": [
    {
     "name": "stdout",
     "output_type": "stream",
     "text": [
      "[100, 200, 300, 100, 100, 200, 300, 100]\n",
      "[100, 200, 300, 100, 100, 200, 300, 100, 200]\n",
      "[100, 200, 300, 100, 100, 200, 300, 100, 200, 300]\n"
     ]
    }
   ],
   "source": [
    "kharche.append(100)\n",
    "print(kharche)\n",
    "kharche.append(200)\n",
    "print(kharche)\n",
    "kharche.append(300)\n",
    "print(kharche)"
   ]
  },
  {
   "cell_type": "code",
   "execution_count": 16,
   "metadata": {},
   "outputs": [
    {
     "name": "stdout",
     "output_type": "stream",
     "text": [
      "['burger', 'tikki', 'chat']\n"
     ]
    }
   ],
   "source": [
    "fav_food=[]\n",
    "for i in range (3):\n",
    "    food= input(\"eter name of ur fav food => \")\n",
    "    fav_food.append(food)\n",
    "print(fav_food)"
   ]
  },
  {
   "cell_type": "code",
   "execution_count": 2,
   "metadata": {},
   "outputs": [
    {
     "name": "stdout",
     "output_type": "stream",
     "text": [
      "[0]\n"
     ]
    }
   ],
   "source": [
    "nums=[]\n",
    "for i in range (1,100):\n",
    "    nums.append(i)\n",
    "print(nums)\n",
    "\n",
    "    "
   ]
  },
  {
   "cell_type": "code",
   "execution_count": 27,
   "metadata": {},
   "outputs": [
    {
     "data": {
      "text/plain": [
       "[2,\n",
       " 4,\n",
       " 6,\n",
       " 8,\n",
       " 10,\n",
       " 12,\n",
       " 14,\n",
       " 16,\n",
       " 18,\n",
       " 20,\n",
       " 22,\n",
       " 24,\n",
       " 26,\n",
       " 28,\n",
       " 30,\n",
       " 32,\n",
       " 34,\n",
       " 36,\n",
       " 38,\n",
       " 40,\n",
       " 42,\n",
       " 44,\n",
       " 46,\n",
       " 48,\n",
       " 50,\n",
       " 52,\n",
       " 54,\n",
       " 56,\n",
       " 58,\n",
       " 60,\n",
       " 62,\n",
       " 64,\n",
       " 66,\n",
       " 68,\n",
       " 70,\n",
       " 72,\n",
       " 74,\n",
       " 76,\n",
       " 78,\n",
       " 80,\n",
       " 82,\n",
       " 84,\n",
       " 86,\n",
       " 88,\n",
       " 90,\n",
       " 92,\n",
       " 94,\n",
       " 96,\n",
       " 98]"
      ]
     },
     "execution_count": 27,
     "metadata": {},
     "output_type": "execute_result"
    }
   ],
   "source": [
    "nums[1:100:2]"
   ]
  },
  {
   "cell_type": "code",
   "execution_count": 5,
   "metadata": {},
   "outputs": [
    {
     "data": {
      "text/plain": [
       "'dalinar'"
      ]
     },
     "execution_count": 5,
     "metadata": {},
     "output_type": "execute_result"
    }
   ],
   "source": [
    "names[2]"
   ]
  },
  {
   "cell_type": "code",
   "execution_count": 1,
   "metadata": {},
   "outputs": [],
   "source": [
    "word=[-2]"
   ]
  },
  {
   "cell_type": "markdown",
   "metadata": {},
   "source": [
    "## functions\n",
    "- adding items \n",
    "    - append \n",
    "    - insert \n",
    "    - exend\n",
    "- delete items \n",
    "    - remove\n",
    "    - pop\n",
    "    - clear\n",
    "- utility func\n",
    "    - reverse \n",
    "    - sort\n",
    "    - count \n",
    "    - index \n",
    "    - copy\n",
    "    "
   ]
  },
  {
   "cell_type": "code",
   "execution_count": 3,
   "metadata": {},
   "outputs": [
    {
     "name": "stdout",
     "output_type": "stream",
     "text": [
      "['apple', 'banana', 'cherry', 'fig', 'gauva']\n"
     ]
    }
   ],
   "source": [
    "fruits=[]\n",
    "\n",
    "fruits.append(\"apple\",)\n",
    "fruits.append(\"banana\")\n",
    "fruits.append(\"cherry\")\n",
    "fruits.append(\"gauva\")\n",
    "fruits.insert(-1,\"fig\")\n",
    "print(fruits)\n"
   ]
  },
  {
   "cell_type": "markdown",
   "metadata": {},
   "source": []
  },
  {
   "cell_type": "code",
   "execution_count": 4,
   "metadata": {},
   "outputs": [
    {
     "name": "stdout",
     "output_type": "stream",
     "text": [
      "['apple', 'banana', 'cherry', 'fig', 'gauva', 'rotten apple']\n"
     ]
    }
   ],
   "source": [
    "fruits.insert(100,\"rotten apple\")\n",
    "print(fruits)"
   ]
  },
  {
   "cell_type": "markdown",
   "metadata": {},
   "source": [
    "### extend is used to add two list "
   ]
  },
  {
   "cell_type": "code",
   "execution_count": 5,
   "metadata": {},
   "outputs": [
    {
     "data": {
      "text/plain": [
       "['almond', 'cashew', 'walnut']"
      ]
     },
     "execution_count": 5,
     "metadata": {},
     "output_type": "execute_result"
    }
   ],
   "source": [
    "dry_fruits=[\"almond\",\"cashew\",\"walnut\"]\n",
    "dry_fruits"
   ]
  },
  {
   "cell_type": "code",
   "execution_count": 6,
   "metadata": {},
   "outputs": [
    {
     "name": "stdout",
     "output_type": "stream",
     "text": [
      "['apple', 'banana', 'cherry', 'fig', 'gauva', 'rotten apple', 'almond', 'cashew', 'walnut']\n"
     ]
    }
   ],
   "source": [
    "fruits.extend(dry_fruits)\n",
    "print(fruits)"
   ]
  },
  {
   "cell_type": "code",
   "execution_count": 23,
   "metadata": {},
   "outputs": [
    {
     "name": "stdout",
     "output_type": "stream",
     "text": [
      " no rotten apple found\n"
     ]
    }
   ],
   "source": [
    "if \"rotten apple\" in fruits:\n",
    "    fruits.remove(\"rotten apple\")\n",
    "    print(fruits)\n",
    "else:\n",
    "    print(\" no rotten apple found\")\n"
   ]
  },
  {
   "cell_type": "code",
   "execution_count": 1,
   "metadata": {},
   "outputs": [
    {
     "ename": "NameError",
     "evalue": "name 'fruits' is not defined",
     "output_type": "error",
     "traceback": [
      "\u001b[1;31m---------------------------------------------------------------------------\u001b[0m",
      "\u001b[1;31mNameError\u001b[0m                                 Traceback (most recent call last)",
      "\u001b[1;32mc:\\Users\\samsa\\OneDrive\\Documents\\GitHub\\python-course\\list.ipynb Cell 22'\u001b[0m in \u001b[0;36m<module>\u001b[1;34m\u001b[0m\n\u001b[1;32m----> <a href='vscode-notebook-cell:/c%3A/Users/samsa/OneDrive/Documents/GitHub/python-course/list.ipynb#ch0000021?line=0'>1</a>\u001b[0m \u001b[39mif\u001b[39;00m \u001b[39m\"\u001b[39m\u001b[39mpapaya \u001b[39m\u001b[39m\"\u001b[39m \u001b[39min\u001b[39;00m fruits:\n\u001b[0;32m      <a href='vscode-notebook-cell:/c%3A/Users/samsa/OneDrive/Documents/GitHub/python-course/list.ipynb#ch0000021?line=1'>2</a>\u001b[0m   fruits\u001b[39m.\u001b[39mremove(\u001b[39m\"\u001b[39m\u001b[39mpapaya\u001b[39m\u001b[39m\"\u001b[39m)\n",
      "\u001b[1;31mNameError\u001b[0m: name 'fruits' is not defined"
     ]
    }
   ],
   "source": [
    "if \"papaya \" in fruits:\n",
    "  fruits.remove(\"papaya\")\n"
   ]
  },
  {
   "cell_type": "code",
   "execution_count": 31,
   "metadata": {},
   "outputs": [
    {
     "data": {
      "text/plain": [
       "[1, 2, 3, [1, 2, 3, 4]]"
      ]
     },
     "execution_count": 31,
     "metadata": {},
     "output_type": "execute_result"
    }
   ],
   "source": [
    "x=[1,2,3,[1,2,3,4]]\n",
    "x"
   ]
  },
  {
   "cell_type": "markdown",
   "metadata": {},
   "source": [
    "## pop can be used  in 2 way \n",
    "- list .pop ()=> remove the last value in the list and give us that value\n",
    "- list.pop(indx)=> remove tthe value from idx  if idx is valid and gives the value  "
   ]
  },
  {
   "cell_type": "code",
   "execution_count": 39,
   "metadata": {},
   "outputs": [
    {
     "name": "stdout",
     "output_type": "stream",
     "text": [
      "remove _vaLUE => cherry\n",
      "list=> ['apple', 'banana']\n"
     ]
    }
   ],
   "source": [
    "v=fruits.pop()\n",
    "print(\"remove _vaLUE =>\",v)\n",
    "print(\"list=>\",fruits)\n",
    "\n"
   ]
  },
  {
   "cell_type": "code",
   "execution_count": 46,
   "metadata": {},
   "outputs": [
    {
     "name": "stdout",
     "output_type": "stream",
     "text": [
      "remove _vaLUE => rotten apple\n",
      "list=> ['apple', 'banana', 'cherry']\n"
     ]
    }
   ],
   "source": [
    "\n",
    "v=fruits.pop(3) # removing from index 3\n",
    "print(\"remove _vaLUE =>\",v)\n",
    "print(\"list=>\",fruits)\n"
   ]
  },
  {
   "cell_type": "code",
   "execution_count": 48,
   "metadata": {},
   "outputs": [
    {
     "data": {
      "text/plain": [
       "[]"
      ]
     },
     "execution_count": 48,
     "metadata": {},
     "output_type": "execute_result"
    }
   ],
   "source": [
    "fruits.clear()\n",
    "fruits"
   ]
  },
  {
   "cell_type": "code",
   "execution_count": 56,
   "metadata": {},
   "outputs": [],
   "source": [
    "movies=[\n",
    "    \"ghost rider: afterlife\",\n",
    "    \"spider man : no way home \",\n",
    "    \"Shang -chi\",\n",
    "    \"pushpa\",\n",
    "    \"cinderalla\",\n",
    "    \"enchanted\",\n",
    "    \"never have i ever \",\n",
    "    \"venom\"\n",
    "]"
   ]
  },
  {
   "cell_type": "code",
   "execution_count": 57,
   "metadata": {},
   "outputs": [
    {
     "name": "stdout",
     "output_type": "stream",
     "text": [
      "normal /n  ['ghost rider: afterlife', 'spider man : no way home ', 'Shang -chi', 'pushpa', 'cinderalla', 'enchanted', 'never have i ever ', 'venom']\n",
      "reverse /n  ['venom', 'never have i ever ', 'enchanted', 'cinderalla', 'pushpa', 'Shang -chi', 'spider man : no way home ', 'ghost rider: afterlife']\n"
     ]
    }
   ],
   "source": [
    "print(\"normal /n \",movies)\n",
    "movies.reverse()\n",
    "print(\"reverse /n \",movies)\n"
   ]
  },
  {
   "cell_type": "markdown",
   "metadata": {},
   "source": [
    "### sort function is used to sort the element of the list "
   ]
  },
  {
   "cell_type": "code",
   "execution_count": 58,
   "metadata": {},
   "outputs": [
    {
     "data": {
      "text/plain": [
       "['Shang -chi',\n",
       " 'cinderalla',\n",
       " 'enchanted',\n",
       " 'ghost rider: afterlife',\n",
       " 'never have i ever ',\n",
       " 'pushpa',\n",
       " 'spider man : no way home ',\n",
       " 'venom']"
      ]
     },
     "execution_count": 58,
     "metadata": {},
     "output_type": "execute_result"
    }
   ],
   "source": [
    "movies.sort()\n",
    "movies"
   ]
  },
  {
   "cell_type": "code",
   "execution_count": 59,
   "metadata": {},
   "outputs": [
    {
     "name": "stdout",
     "output_type": "stream",
     "text": [
      "['venom', 'spider man : no way home ', 'pushpa', 'never have i ever ', 'ghost rider: afterlife', 'enchanted', 'cinderalla', 'Shang -chi']\n"
     ]
    }
   ],
   "source": [
    "movies.sort(reverse=True)\n",
    "print(movies)"
   ]
  },
  {
   "cell_type": "markdown",
   "metadata": {},
   "source": [
    "### copy function is used to copy the value of one list into another empty list "
   ]
  },
  {
   "cell_type": "code",
   "execution_count": 60,
   "metadata": {},
   "outputs": [
    {
     "name": "stdout",
     "output_type": "stream",
     "text": [
      "['venom', 'spider man : no way home ', 'pushpa', 'never have i ever ', 'ghost rider: afterlife', 'enchanted', 'cinderalla', 'Shang -chi']\n"
     ]
    }
   ],
   "source": [
    "dup_mov=movies.copy()\n",
    "print(dup_mov)"
   ]
  },
  {
   "cell_type": "markdown",
   "metadata": {},
   "source": [
    "### count function is used to count the number of times any item presend in the list "
   ]
  },
  {
   "cell_type": "code",
   "execution_count": 66,
   "metadata": {},
   "outputs": [],
   "source": [
    "if \"nobody\" in movies :\n",
    "    print(movies.index(\"nobody\"))"
   ]
  },
  {
   "cell_type": "code",
   "execution_count": 68,
   "metadata": {},
   "outputs": [
    {
     "data": {
      "text/plain": [
       "3"
      ]
     },
     "execution_count": 68,
     "metadata": {},
     "output_type": "execute_result"
    }
   ],
   "source": [
    "x=[1,2,3,4,4,567478,4,5,1,2,4,4,5,6,7,8,89,1,6,5,4,32,2]\n",
    "x.count(1)"
   ]
  },
  {
   "cell_type": "code",
   "execution_count": 69,
   "metadata": {},
   "outputs": [
    {
     "data": {
      "text/plain": [
       "6"
      ]
     },
     "execution_count": 69,
     "metadata": {},
     "output_type": "execute_result"
    }
   ],
   "source": [
    "x.count(4)"
   ]
  },
  {
   "cell_type": "markdown",
   "metadata": {},
   "source": [
    "## wap a program to enter 15 number in list ,then print the sum ,min ,max ,mean of that list"
   ]
  },
  {
   "cell_type": "code",
   "execution_count": 1,
   "metadata": {},
   "outputs": [
    {
     "name": "stdout",
     "output_type": "stream",
     "text": [
      "sum of nums= 30\n",
      "min of nums= 1\n",
      "max of nums= 3\n",
      "mean of nums= 2.0\n"
     ]
    }
   ],
   "source": [
    "num=[]\n",
    "for i in range(15):\n",
    "    a=int(input(f\"enter the item:{i+1}\"))\n",
    "    num.append(a)\n",
    "print(\"sum of nums=\", sum(num))\n",
    "print(\"min of nums=\", min(num))\n",
    "\n",
    "print(\"max of nums=\", max(num))\n",
    "print(\"mean of nums=\", sum(num)/len(num))\n"
   ]
  },
  {
   "cell_type": "code",
   "execution_count": 2,
   "metadata": {},
   "outputs": [
    {
     "name": "stdout",
     "output_type": "stream",
     "text": [
      "sum of the list is \n",
      " 105\n"
     ]
    }
   ],
   "source": [
    "x=[1,2,3,4,5,6,7,8,9,10,11,12,13,14,15]\n",
    "sm1=0\n",
    "for i in range(15):\n",
    "    sm1=sm1+i\n",
    "print(\"sum of the list is \\n\",sm1)"
   ]
  },
  {
   "cell_type": "code",
   "execution_count": null,
   "metadata": {},
   "outputs": [],
   "source": []
  }
 ],
 "metadata": {
  "interpreter": {
   "hash": "feb5410b972a84561cf38b0fe3aceb480d942002c0e798026e87d39a79c73f3a"
  },
  "kernelspec": {
   "display_name": "Python 3.9.7 64-bit",
   "language": "python",
   "name": "python3"
  },
  "language_info": {
   "codemirror_mode": {
    "name": "ipython",
    "version": 3
   },
   "file_extension": ".py",
   "mimetype": "text/x-python",
   "name": "python",
   "nbconvert_exporter": "python",
   "pygments_lexer": "ipython3",
   "version": "3.9.5"
  },
  "orig_nbformat": 4
 },
 "nbformat": 4,
 "nbformat_minor": 2
}
