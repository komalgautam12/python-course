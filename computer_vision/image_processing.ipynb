{
 "cells": [
  {
   "cell_type": "markdown",
   "metadata": {},
   "source": [
    "# install the library\n",
    "### pip install opencv-contrib-python pillow"
   ]
  },
  {
   "cell_type": "markdown",
   "metadata": {},
   "source": [
    "- load the image\n",
    "- view the detail\n",
    "- convert to greyscale(b/w)\n",
    "- convert to rgb\n",
    "- resize\n",
    "- rotate\n",
    "- blur\n",
    "- crop\n",
    "- merge\n",
    "- save"
   ]
  },
  {
   "cell_type": "code",
   "execution_count": 2,
   "metadata": {},
   "outputs": [
    {
     "name": "stdout",
     "output_type": "stream",
     "text": [
      "[[[136 119 100]\n",
      "  [137 120 101]\n",
      "  [138 121 102]\n",
      "  ...\n",
      "  [143 148 157]\n",
      "  [143 148 157]\n",
      "  [143 148 157]]\n",
      "\n",
      " [[139 122 103]\n",
      "  [139 122 103]\n",
      "  [140 123 104]\n",
      "  ...\n",
      "  [144 149 158]\n",
      "  [143 148 157]\n",
      "  [143 148 157]]\n",
      "\n",
      " [[145 126 105]\n",
      "  [145 126 105]\n",
      "  [146 127 106]\n",
      "  ...\n",
      "  [145 150 159]\n",
      "  [144 149 158]\n",
      "  [144 149 158]]\n",
      "\n",
      " ...\n",
      "\n",
      " [[164 173 206]\n",
      "  [165 174 207]\n",
      "  [167 176 210]\n",
      "  ...\n",
      "  [159 167 204]\n",
      "  [155 164 202]\n",
      "  [152 161 199]]\n",
      "\n",
      " [[168 177 210]\n",
      "  [170 179 212]\n",
      "  [172 181 215]\n",
      "  ...\n",
      "  [156 164 201]\n",
      "  [152 161 199]\n",
      "  [149 158 196]]\n",
      "\n",
      " [[166 175 208]\n",
      "  [168 177 210]\n",
      "  [171 180 213]\n",
      "  ...\n",
      "  [149 158 195]\n",
      "  [146 155 193]\n",
      "  [143 152 190]]]\n"
     ]
    }
   ],
   "source": [
    "import cv2\n",
    "im1=cv2.imread('1.jpg')\n",
    "print(im1)\n",
    "\n"
   ]
  },
  {
   "cell_type": "code",
   "execution_count": 3,
   "metadata": {},
   "outputs": [
    {
     "name": "stdout",
     "output_type": "stream",
     "text": [
      "(181, 278, 3)\n"
     ]
    }
   ],
   "source": [
    "print(im1.shape)"
   ]
  },
  {
   "cell_type": "code",
   "execution_count": 5,
   "metadata": {},
   "outputs": [],
   "source": [
    "cv2.imshow('image window',im1)\n",
    "cv2.waitKey(0)\n",
    "cv2.destroyAllWindows()\n"
   ]
  },
  {
   "cell_type": "code",
   "execution_count": 10,
   "metadata": {},
   "outputs": [
    {
     "data": {
      "text/plain": [
       "(227, 222, 3)"
      ]
     },
     "execution_count": 10,
     "metadata": {},
     "output_type": "execute_result"
    }
   ],
   "source": [
    "im2=cv2.imread('3.png')\n",
    "im2.shape\n"
   ]
  },
  {
   "cell_type": "code",
   "execution_count": 12,
   "metadata": {},
   "outputs": [],
   "source": [
    "grey_im1=cv2.cvtColor(im1,cv2.COLOR_BGR2GRAY)\n",
    "cv2.imshow('gray',grey_im1)\n",
    "cv2.destroyAllWindows()"
   ]
  },
  {
   "cell_type": "code",
   "execution_count": 13,
   "metadata": {},
   "outputs": [],
   "source": [
    "halved_im2=cv2.resize(im2,(90,0),fx=0.15,fy=0.15)\n",
    "cv2.imshow('halvedf',halved_im2)\n",
    "cv2.waitKey(0)\n",
    "cv2.destroyAllWindows()"
   ]
  },
  {
   "cell_type": "code",
   "execution_count": 14,
   "metadata": {},
   "outputs": [
    {
     "data": {
      "text/plain": [
       "(200, 200, 3)"
      ]
     },
     "execution_count": 14,
     "metadata": {},
     "output_type": "execute_result"
    }
   ],
   "source": [
    "cv2.resize(im2,(200,200)).shape\n"
   ]
  },
  {
   "cell_type": "code",
   "execution_count": 16,
   "metadata": {},
   "outputs": [],
   "source": [
    "cam=cv2.VideoCapture(0)\n",
    "while True:\n",
    "    status,frame=cam.read()\n",
    "    cv2.imshow('frame',frame)\n",
    "    if cv2.waitKey(1)==27:\n",
    "        break\n",
    "cam.release()\n",
    "cv2.destroyAllWindows()\n",
    "\n",
    "\n"
   ]
  },
  {
   "cell_type": "code",
   "execution_count": null,
   "metadata": {},
   "outputs": [],
   "source": []
  }
 ],
 "metadata": {
  "interpreter": {
   "hash": "fed30e36df380b4e7b7d06a801b217955ec3fc3256658018197483620292ab6f"
  },
  "kernelspec": {
   "display_name": "Python 3.9.5 ('base')",
   "language": "python",
   "name": "python3"
  },
  "language_info": {
   "codemirror_mode": {
    "name": "ipython",
    "version": 3
   },
   "file_extension": ".py",
   "mimetype": "text/x-python",
   "name": "python",
   "nbconvert_exporter": "python",
   "pygments_lexer": "ipython3",
   "version": "3.9.5"
  },
  "orig_nbformat": 4
 },
 "nbformat": 4,
 "nbformat_minor": 2
}
