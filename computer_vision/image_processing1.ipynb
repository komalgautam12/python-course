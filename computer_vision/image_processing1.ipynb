{
 "cells": [
  {
   "cell_type": "markdown",
   "metadata": {},
   "source": [
    "# install the library-\n",
    "- cmd\n",
    "- pip install opencv-contrib-python pillow\n",
    "- load the image\n",
    "- view the details\n",
    "-  convert to grayscale (b/w)\n",
    "- convert to rgb\n",
    "- resize\n",
    "- rotate\n",
    "- crop\n",
    "- blur\n",
    "- merge\n",
    "- save"
   ]
  },
  {
   "cell_type": "code",
   "execution_count": 1,
   "metadata": {},
   "outputs": [],
   "source": [
    "import cv2"
   ]
  },
  {
   "cell_type": "code",
   "execution_count": 3,
   "metadata": {},
   "outputs": [
    {
     "ename": "NameError",
     "evalue": "name 'cv2' is not defined",
     "output_type": "error",
     "traceback": [
      "\u001b[1;31m---------------------------------------------------------------------------\u001b[0m",
      "\u001b[1;31mNameError\u001b[0m                                 Traceback (most recent call last)",
      "\u001b[1;32mc:\\Users\\samsa\\OneDrive\\Documents\\GitHub\\python-course\\computer_vision\\im.ipynb Cell 3'\u001b[0m in \u001b[0;36m<module>\u001b[1;34m\u001b[0m\n\u001b[1;32m----> <a href='vscode-notebook-cell:/c%3A/Users/samsa/OneDrive/Documents/GitHub/python-course/computer_vision/im.ipynb#ch0000002?line=0'>1</a>\u001b[0m cv2\u001b[39m.\u001b[39mimread(\u001b[39m'\u001b[39m\u001b[39m2.jpg\u001b[39m\u001b[39m'\u001b[39m)\n",
      "\u001b[1;31mNameError\u001b[0m: name 'cv2' is not defined"
     ]
    }
   ],
   "source": [
    "cv2.imread('2.jpg')"
   ]
  },
  {
   "cell_type": "code",
   "execution_count": 4,
   "metadata": {},
   "outputs": [
    {
     "name": "stdout",
     "output_type": "stream",
     "text": [
      "(159, 317, 3)\n"
     ]
    }
   ],
   "source": [
    "im1=cv2.imread('2.jpg')\n",
    "print(im1.shape)"
   ]
  },
  {
   "cell_type": "code",
   "execution_count": 5,
   "metadata": {},
   "outputs": [
    {
     "data": {
      "text/plain": [
       "<function destroyAllWindows>"
      ]
     },
     "execution_count": 5,
     "metadata": {},
     "output_type": "execute_result"
    }
   ],
   "source": [
    "cv2.imshow('image window',im1)\n",
    "cv2.waitKey(0)\n",
    "cv2.destroyAllWindows"
   ]
  },
  {
   "cell_type": "code",
   "execution_count": 6,
   "metadata": {},
   "outputs": [
    {
     "data": {
      "text/plain": [
       "(227, 222, 3)"
      ]
     },
     "execution_count": 6,
     "metadata": {},
     "output_type": "execute_result"
    }
   ],
   "source": [
    "im2=cv2.imread('3.png')\n",
    "im2.shape"
   ]
  },
  {
   "cell_type": "code",
   "execution_count": 7,
   "metadata": {},
   "outputs": [],
   "source": [
    "gray_im1=cv2.cvtColor(im1,cv2.COLOR_BGR2GRAY)\n",
    "cv2.imshow('gray',gray_im1)\n",
    "cv2.waitKey(0)\n",
    "cv2.destroyAllWindows()"
   ]
  },
  {
   "cell_type": "code",
   "execution_count": 8,
   "metadata": {},
   "outputs": [],
   "source": [
    "halved_im2=cv2.resize(im2,(0,0),fx=.5,fy=.5)\n",
    "cv2.imshow('halved',halved_im2)\n",
    "cv2.waitKey(0)\n",
    "cv2.destroyAllWindows()"
   ]
  },
  {
   "cell_type": "code",
   "execution_count": 9,
   "metadata": {},
   "outputs": [
    {
     "data": {
      "text/plain": [
       "(200, 200, 3)"
      ]
     },
     "execution_count": 9,
     "metadata": {},
     "output_type": "execute_result"
    }
   ],
   "source": [
    "cv2.resize(im2,(200,200)).shape"
   ]
  },
  {
   "cell_type": "code",
   "execution_count": 10,
   "metadata": {},
   "outputs": [],
   "source": [
    "cam=cv2.VideoCapture(0)\n",
    "while True:\n",
    "    status,frame=cam.read()\n",
    "    cv2.imshow('frame',frame)\n",
    "    if cv2.waitKey(1)==27:\n",
    "        break\n",
    "cam.release()\n",
    "cv2.destroyAllWindows"
   ]
  },
  {
   "cell_type": "markdown",
   "metadata": {},
   "source": [
    "link->https://docs.opencv.org/4.x/d6/d00/tutorial_py_root.html"
   ]
  },
  {
   "cell_type": "code",
   "execution_count": 7,
   "metadata": {},
   "outputs": [
    {
     "data": {
      "text/plain": [
       "<function destroyAllWindows>"
      ]
     },
     "execution_count": 7,
     "metadata": {},
     "output_type": "execute_result"
    }
   ],
   "source": [
    "cam=cv2.VideoCapture(r'E:\\recovery s6s\\songs\\1.mkv')\n",
    "while True :\n",
    "    status,frame=cam.read()\n",
    "    if not status:\n",
    "        break\n",
    "    cv2.imshow('frame',frame)\n",
    "    if cv2.waitKey(1)==27:\n",
    "        break\n",
    "cam.release()\n",
    "cv2.destroyAllWindows"
   ]
  },
  {
   "cell_type": "code",
   "execution_count": 4,
   "metadata": {},
   "outputs": [],
   "source": [
    "cam=cv2.VideoCapture(0)\n",
    "while True:\n",
    "    status ,frame=cam.read()\n",
    "    h,w,_=frame.shape\n",
    "    center=(w//2,h//2)\n",
    "    font=cv2.FONT_HERSHEY_DUPLEX\n",
    "    cv2.line(frame,(0,100),(w,100),(255,255,255),5)\n",
    "    cv2.circle(frame,center,200,(0,0,255),-1)\n",
    "    cv2.imshow('frame',frame)\n",
    "    if cv2.waitKey(1)==27:\n",
    "        break\n",
    "cam.release()\n",
    "cv2.destroyAllWindows"
   ]
  },
  {
   "cell_type": "code",
   "execution_count": 2,
   "metadata": {},
   "outputs": [
    {
     "ename": "NameError",
     "evalue": "name 'frame' is not defined",
     "output_type": "error",
     "traceback": [
      "\u001b[1;31m---------------------------------------------------------------------------\u001b[0m",
      "\u001b[1;31mNameError\u001b[0m                                 Traceback (most recent call last)",
      "\u001b[1;32mc:\\Users\\samsa\\OneDrive\\Documents\\GitHub\\python-course\\computer_vision\\im.ipynb Cell 14'\u001b[0m in \u001b[0;36m<module>\u001b[1;34m\u001b[0m\n\u001b[1;32m----> <a href='vscode-notebook-cell:/c%3A/Users/samsa/OneDrive/Documents/GitHub/python-course/computer_vision/im.ipynb#ch0000013?line=0'>1</a>\u001b[0m cv2\u001b[39m.\u001b[39mputText(frame,\u001b[39m'\u001b[39m\u001b[39mpython class @ digipodium\u001b[39m\u001b[39m'\u001b[39m,(\u001b[39m10\u001b[39m,h\u001b[39m-\u001b[39m\u001b[39m10\u001b[39m),font,\u001b[39m-\u001b[39m\u001b[39m8\u001b[39m,(\u001b[39m255\u001b[39m,\u001b[39m255\u001b[39m,\u001b[39m255\u001b[39m),\u001b[39m1\u001b[39m,cv2\u001b[39m.\u001b[39mLINE_AA)\n",
      "\u001b[1;31mNameError\u001b[0m: name 'frame' is not defined"
     ]
    }
   ],
   "source": [
    "cv2.putText(frame,'python class @ digipodium',(10,h-10),font,-8,(255,255,255),1,cv2.LINE_AA)"
   ]
  },
  {
   "cell_type": "code",
   "execution_count": 4,
   "metadata": {},
   "outputs": [
    {
     "ename": "KeyboardInterrupt",
     "evalue": "",
     "output_type": "error",
     "traceback": [
      "\u001b[1;31m---------------------------------------------------------------------------\u001b[0m",
      "\u001b[1;31mKeyboardInterrupt\u001b[0m                         Traceback (most recent call last)",
      "\u001b[1;32mc:\\Users\\samsa\\OneDrive\\Documents\\GitHub\\python-course\\computer_vision\\im.ipynb Cell 15'\u001b[0m in \u001b[0;36m<module>\u001b[1;34m\u001b[0m\n\u001b[0;32m      <a href='vscode-notebook-cell:/c%3A/Users/samsa/OneDrive/Documents/GitHub/python-course/computer_vision/im.ipynb#ch0000014?line=0'>1</a>\u001b[0m cam\u001b[39m=\u001b[39mcv2\u001b[39m.\u001b[39mVideoCapture(\u001b[39m0\u001b[39m)\n\u001b[0;32m      <a href='vscode-notebook-cell:/c%3A/Users/samsa/OneDrive/Documents/GitHub/python-course/computer_vision/im.ipynb#ch0000014?line=1'>2</a>\u001b[0m \u001b[39mwhile\u001b[39;00m \u001b[39mTrue\u001b[39;00m:\n\u001b[1;32m----> <a href='vscode-notebook-cell:/c%3A/Users/samsa/OneDrive/Documents/GitHub/python-course/computer_vision/im.ipynb#ch0000014?line=2'>3</a>\u001b[0m     status ,frame\u001b[39m=\u001b[39mcam\u001b[39m.\u001b[39;49mread()\n\u001b[0;32m      <a href='vscode-notebook-cell:/c%3A/Users/samsa/OneDrive/Documents/GitHub/python-course/computer_vision/im.ipynb#ch0000014?line=3'>4</a>\u001b[0m     h,w,_\u001b[39m=\u001b[39mframe\u001b[39m.\u001b[39mshape\n\u001b[0;32m      <a href='vscode-notebook-cell:/c%3A/Users/samsa/OneDrive/Documents/GitHub/python-course/computer_vision/im.ipynb#ch0000014?line=4'>5</a>\u001b[0m     center\u001b[39m=\u001b[39m(w\u001b[39m/\u001b[39m\u001b[39m/\u001b[39m\u001b[39m2\u001b[39m,h\u001b[39m/\u001b[39m\u001b[39m/\u001b[39m\u001b[39m2\u001b[39m)\n",
      "\u001b[1;31mKeyboardInterrupt\u001b[0m: "
     ]
    }
   ],
   "source": [
    "cam=cv2.VideoCapture(0)\n",
    "while True:\n",
    "    status ,frame=cam.read()\n",
    "    h,w,_=frame.shape\n",
    "    center=(w//2,h//2)\n",
    "    font=cv2.FONT_HERSHEY_DUPLEX\n",
    "    cv2.putText(frame,'live cam 0',(10,30),font,1,(255,255,255),2,cv2.LINE_AA)\n",
    "    cv2.putText(frame,'python class @ digipodium',(10,h-10),font,.8,(255,255,255),1,cv2.LINE_AA)\n",
    "    cv2.imshow('frame',frame)\n",
    "    if cv2.waitKey(1)==27:\n",
    "        break\n",
    "cam.release()\n",
    "cv2.destroyAllWindows"
   ]
  },
  {
   "cell_type": "code",
   "execution_count": null,
   "metadata": {},
   "outputs": [],
   "source": []
  },
  {
   "cell_type": "markdown",
   "metadata": {},
   "source": []
  }
 ],
 "metadata": {
  "interpreter": {
   "hash": "fed30e36df380b4e7b7d06a801b217955ec3fc3256658018197483620292ab6f"
  },
  "kernelspec": {
   "display_name": "Python 3.9.5 ('base')",
   "language": "python",
   "name": "python3"
  },
  "language_info": {
   "codemirror_mode": {
    "name": "ipython",
    "version": 3
   },
   "file_extension": ".py",
   "mimetype": "text/x-python",
   "name": "python",
   "nbconvert_exporter": "python",
   "pygments_lexer": "ipython3",
   "version": "3.9.5"
  },
  "orig_nbformat": 4
 },
 "nbformat": 4,
 "nbformat_minor": 2
}
