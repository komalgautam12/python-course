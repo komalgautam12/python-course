{
 "cells": [
  {
   "cell_type": "code",
   "execution_count": 2,
   "metadata": {},
   "outputs": [
    {
     "name": "stdout",
     "output_type": "stream",
     "text": [
      "purchase 2kg of apples\n"
     ]
    }
   ],
   "source": [
    "q=input(\"do you like apples\")\n",
    "\n",
    "if q == \"yes\":\n",
    " print(\"purchase 2kg of apples\")\n",
    "if q == \"no\":\n",
    " print(\"you dont purchase apples\")     \n",
    "\n"
   ]
  },
  {
   "cell_type": "markdown",
   "metadata": {},
   "source": [
    "### if statement "
   ]
  },
  {
   "cell_type": "code",
   "execution_count": 5,
   "metadata": {},
   "outputs": [
    {
     "name": "stdout",
     "output_type": "stream",
     "text": [
      "x is greater than 5\n",
      "this the info we needed \n",
      "with this power ,come great reponsibility \n",
      "the end\n"
     ]
    }
   ],
   "source": [
    "x=10\n",
    "if x>5:\n",
    "    print(\"x is greater than 5\")\n",
    "    print (\"this the info we needed \")\n",
    "    print (\"with this power ,come great reponsibility \")\n",
    "print (\"the end\")"
   ]
  },
  {
   "cell_type": "markdown",
   "metadata": {},
   "source": [
    "### else statement "
   ]
  },
  {
   "cell_type": "code",
   "execution_count": 8,
   "metadata": {},
   "outputs": [
    {
     "name": "stdout",
     "output_type": "stream",
     "text": [
      "wear short.\n",
      "get some exercise outside\n"
     ]
    }
   ],
   "source": [
    "temp=float (input(\"what is the temperature ?\"))\n",
    "if temp>80:\n",
    "    print (\"wear short pant.\")\n",
    "else :\n",
    "    print (\"wear long pants.\")\n",
    "print(\"get some exercise outside.\")"
   ]
  },
  {
   "cell_type": "markdown",
   "metadata": {},
   "source": [
    "### if elif statement"
   ]
  },
  {
   "cell_type": "code",
   "execution_count": 11,
   "metadata": {},
   "outputs": [
    {
     "name": "stdout",
     "output_type": "stream",
     "text": [
      "F\n"
     ]
    }
   ],
   "source": [
    "score=int(input(\"enter the score ->\"))\n",
    "if score>=90:\n",
    "    letter=\"A\"\n",
    "elif score>=80:\n",
    "    letter=\"B\"\n",
    "elif score>=70:\n",
    "    letter=\"C\"\n",
    "elif score>=60:\n",
    "    letter=\"D\"\n",
    "else :\n",
    "    letter=\"F\"\n",
    "print(letter)\n"
   ]
  },
  {
   "cell_type": "markdown",
   "metadata": {},
   "source": [
    "### if else in one line "
   ]
  },
  {
   "cell_type": "code",
   "execution_count": 13,
   "metadata": {},
   "outputs": [
    {
     "name": "stdout",
     "output_type": "stream",
     "text": [
      "45\n"
     ]
    }
   ],
   "source": [
    "if 45 in range (100) : print(\"45\")"
   ]
  },
  {
   "cell_type": "code",
   "execution_count": 15,
   "metadata": {},
   "outputs": [
    {
     "name": "stdout",
     "output_type": "stream",
     "text": [
      "alice\n"
     ]
    }
   ],
   "source": [
    "x=\"alice\" if \"john\" in \"my name is john\" else \"bob \"\n",
    "print (x)"
   ]
  },
  {
   "cell_type": "code",
   "execution_count": 17,
   "metadata": {},
   "outputs": [
    {
     "name": "stdout",
     "output_type": "stream",
     "text": [
      "32\n"
     ]
    }
   ],
   "source": [
    "print(\"45\")if 45 in  [33,44,66] else print (\"32\")"
   ]
  },
  {
   "cell_type": "code",
   "execution_count": 2,
   "metadata": {},
   "outputs": [
    {
     "name": "stdout",
     "output_type": "stream",
     "text": [
      "brown\n"
     ]
    }
   ],
   "source": [
    "print(\"Yellow\")if \" Y\" in \"ORANGE\"else print(\"brown\")"
   ]
  },
  {
   "cell_type": "markdown",
   "metadata": {},
   "source": [
    "### wap to find the number is even or not"
   ]
  },
  {
   "cell_type": "code",
   "execution_count": 2,
   "metadata": {},
   "outputs": [
    {
     "name": "stdout",
     "output_type": "stream",
     "text": [
      "entered number is even \n"
     ]
    }
   ],
   "source": [
    "a=int (input(\"Enter the number \"))\n",
    "if a%2==0:\n",
    "    print(\"entered number is even \")\n",
    "else :\n",
    "    print(\"entered number is odd \")"
   ]
  },
  {
   "cell_type": "markdown",
   "metadata": {},
   "source": [
    "### wap to find the two list are the same or not "
   ]
  },
  {
   "cell_type": "code",
   "execution_count": 1,
   "metadata": {},
   "outputs": [
    {
     "name": "stdout",
     "output_type": "stream",
     "text": [
      "entered list are not same \n"
     ]
    }
   ],
   "source": [
    "#a=[2,3,5,7,65,45]\n",
    "#b=[65,76,897,97,34]\n",
    "a=input(\"enter the 1st list\")\n",
    "b=input(\"enter the 2nd list\")\n",
    "if a==b:\n",
    "    print(\"entered list is same \")\n",
    "else :\n",
    "    print(\"entered list are not same \")"
   ]
  },
  {
   "cell_type": "code",
   "execution_count": null,
   "metadata": {},
   "outputs": [],
   "source": []
  }
 ],
 "metadata": {
  "interpreter": {
   "hash": "b3ba2566441a7c06988d0923437866b63cedc61552a5af99d1f4fb67d367b25f"
  },
  "kernelspec": {
   "display_name": "Python 3.7.4 ('base')",
   "language": "python",
   "name": "python3"
  },
  "language_info": {
   "codemirror_mode": {
    "name": "ipython",
    "version": 3
   },
   "file_extension": ".py",
   "mimetype": "text/x-python",
   "name": "python",
   "nbconvert_exporter": "python",
   "pygments_lexer": "ipython3",
   "version": "3.7.4"
  },
  "orig_nbformat": 4
 },
 "nbformat": 4,
 "nbformat_minor": 2
}
