{
 "cells": [
  {
   "cell_type": "markdown",
   "metadata": {},
   "source": [
    "# what to learn \n",
    "- comprehension\n",
    "- lamda,mapand filter\n"
   ]
  },
  {
   "cell_type": "markdown",
   "metadata": {},
   "source": [
    "If you are doing a program where you need to get a list(sequence) of data from and existing data by performing some operation on existing data ,then you use the concept of comprehension or map/filter to make your code smaller and faster "
   ]
  },
  {
   "cell_type": "code",
   "execution_count": 1,
   "metadata": {},
   "outputs": [
    {
     "name": "stdout",
     "output_type": "stream",
     "text": [
      "[6, 7, 8, 9, 10, 11, 12]\n"
     ]
    }
   ],
   "source": [
    "x=[1,2,3,4,5,6,7]\n",
    "x5=[]# list empty \n",
    "for i in x:\n",
    "   o=i+5\n",
    "   x5.append(o)\n",
    "print(x5)"
   ]
  },
  {
   "cell_type": "markdown",
   "metadata": {},
   "source": [
    "# comprehension syntax\n",
    "- simple\n",
    "```\n",
    "newlist =[operation loop]\n",
    "```\n",
    "\n",
    "- condition\n",
    "```\n",
    "newlist=[operation loop condition]\n",
    "```"
   ]
  },
  {
   "cell_type": "code",
   "execution_count": 3,
   "metadata": {},
   "outputs": [
    {
     "name": "stdout",
     "output_type": "stream",
     "text": [
      "[6, 7, 8, 9, 10, 11, 12]\n"
     ]
    }
   ],
   "source": [
    "x5=[i+5 for i in x]\n",
    "print(x5)"
   ]
  },
  {
   "cell_type": "code",
   "execution_count": 4,
   "metadata": {},
   "outputs": [
    {
     "name": "stdout",
     "output_type": "stream",
     "text": [
      "[1, 4, 9, 16, 25, 36, 49]\n"
     ]
    }
   ],
   "source": [
    "xsqrt=[i**2 for i in x]\n",
    "print(xsqrt)"
   ]
  },
  {
   "cell_type": "markdown",
   "metadata": {},
   "source": [
    "### normal version"
   ]
  },
  {
   "cell_type": "code",
   "execution_count": 5,
   "metadata": {},
   "outputs": [
    {
     "name": "stdout",
     "output_type": "stream",
     "text": [
      "[4, 16, 36, 64, 100]\n"
     ]
    }
   ],
   "source": [
    "x=[1,2,3,4,5,6,7,8,9,10]\n",
    "xevensqr= []\n",
    "for  i in x:\n",
    "    if i%2==0:\n",
    "        xevensqr.append(i**2)\n",
    "print(xevensqr)"
   ]
  },
  {
   "cell_type": "code",
   "execution_count": 10,
   "metadata": {},
   "outputs": [
    {
     "name": "stdout",
     "output_type": "stream",
     "text": [
      "[4, 16, 36, 64, 100]\n"
     ]
    }
   ],
   "source": [
    "# pythonic version\n",
    "x=[1,2,3,4,5,6,7,8,9,10]\n",
    "xevencube=[]\n",
    "xevencube=[  i**2 for i in x if i%2==0 ]\n",
    "print(xevencube)"
   ]
  },
  {
   "cell_type": "code",
   "execution_count": 11,
   "metadata": {},
   "outputs": [
    {
     "name": "stdout",
     "output_type": "stream",
     "text": [
      "[-9, -7, -5, -3, -1]\n"
     ]
    }
   ],
   "source": [
    "xodd=[i-10 for i in x if i%2!=0 ]\n",
    "print(xodd)"
   ]
  },
  {
   "cell_type": "code",
   "execution_count": 23,
   "metadata": {},
   "outputs": [
    {
     "name": "stdout",
     "output_type": "stream",
     "text": [
      "['Mason', 'Grey', 'Lawson', 'Maxmillon']\n"
     ]
    }
   ],
   "source": [
    "names=['Alex Mason ' ,'Adam Grey ', 'Dana Lawson','Wax  Maxmillon']\n",
    "surnames=[]\n",
    "for n in names :\n",
    "    sn =n.split()[-1]# get the last word\n",
    "    surnames.append(sn)\n",
    "print(surnames)"
   ]
  },
  {
   "cell_type": "code",
   "execution_count": 20,
   "metadata": {},
   "outputs": [
    {
     "name": "stdout",
     "output_type": "stream",
     "text": [
      "['Mason', 'Grey', 'Lawson', 'Maxmillon']\n"
     ]
    }
   ],
   "source": [
    "surnames=[]\n",
    "surname=[n.split()[-1] for n in names ]\n",
    "print(surname)"
   ]
  },
  {
   "cell_type": "markdown",
   "metadata": {},
   "source": [
    "### task \n",
    "write a comprehension program that will return all the employee wih 'a'  in their list of 25 employee"
   ]
  },
  {
   "cell_type": "code",
   "execution_count": 29,
   "metadata": {},
   "outputs": [
    {
     "name": "stdout",
     "output_type": "stream",
     "text": [
      "['komal', 'yashi', 'shweta ', 'naushad', 'ravi', 'manoj', 'manish']\n"
     ]
    }
   ],
   "source": [
    "empolyee=['komal','yashi','shweta ','naushad','ravi','manoj','manish','rohit','physics',\"chemistry\",'biology']\n",
    "new=[]\n",
    "for i in empolyee:\n",
    "    \n",
    "    count=0\n",
    "    for k in i:\n",
    "        if k=='a':\n",
    "            count +=1\n",
    "    if count>0:\n",
    "        new.append(i)\n",
    "\n",
    "    \n",
    "print(new)\n"
   ]
  },
  {
   "cell_type": "code",
   "execution_count": 30,
   "metadata": {},
   "outputs": [
    {
     "name": "stdout",
     "output_type": "stream",
     "text": [
      "['komal', 'yashi', 'shweta ', 'naushad', 'ravi', 'manoj', 'manish']\n"
     ]
    }
   ],
   "source": [
    "new=[]\n",
    "new=[ i for i in empolyee if 'a' in i  ]\n",
    "print(new)"
   ]
  },
  {
   "cell_type": "markdown",
   "metadata": {},
   "source": [
    "### 1.Create a string and print it.\n",
    "\n",
    "\n",
    "\n"
   ]
  },
  {
   "cell_type": "code",
   "execution_count": 1,
   "metadata": {},
   "outputs": [
    {
     "name": "stdout",
     "output_type": "stream",
     "text": [
      "komal gautam \n"
     ]
    }
   ],
   "source": [
    "a=\"komal gautam \"\n",
    "print(a)"
   ]
  },
  {
   "cell_type": "code",
   "execution_count": 2,
   "metadata": {},
   "outputs": [
    {
     "name": "stdout",
     "output_type": "stream",
     "text": [
      "12\n"
     ]
    }
   ],
   "source": [
    "b=input(\"Enter a string \")\n",
    "print(len(b))"
   ]
  },
  {
   "cell_type": "code",
   "execution_count": 7,
   "metadata": {},
   "outputs": [
    {
     "name": "stdout",
     "output_type": "stream",
     "text": [
      "great\n"
     ]
    }
   ],
   "source": [
    "st=\"python is great\"\n",
    "\n",
    "print(st[-5:])"
   ]
  },
  {
   "cell_type": "code",
   "execution_count": 10,
   "metadata": {},
   "outputs": [
    {
     "name": "stdout",
     "output_type": "stream",
     "text": [
      "python\n",
      "is\n",
      "everywhere\n"
     ]
    }
   ],
   "source": [
    "s='python is everywhere'\n",
    "for i in s.split():\n",
    "    print(i)"
   ]
  },
  {
   "cell_type": "code",
   "execution_count": 17,
   "metadata": {},
   "outputs": [
    {
     "name": "stdout",
     "output_type": "stream",
     "text": [
      "dlrow olleh\n"
     ]
    }
   ],
   "source": [
    "p=\"hello world\"\n",
    "print(p[::-1])"
   ]
  },
  {
   "cell_type": "code",
   "execution_count": 18,
   "metadata": {},
   "outputs": [
    {
     "name": "stdout",
     "output_type": "stream",
     "text": [
      "HOW ARE YOU ?\n"
     ]
    }
   ],
   "source": [
    "i= \"how are you ?\"\n",
    "print(i.upper())"
   ]
  },
  {
   "cell_type": "code",
   "execution_count": 20,
   "metadata": {},
   "outputs": [
    {
     "name": "stdout",
     "output_type": "stream",
     "text": [
      "how is it going\n"
     ]
    }
   ],
   "source": [
    "w=\"HOW Is It GOING\"\n",
    "print(w.lower())"
   ]
  },
  {
   "cell_type": "code",
   "execution_count": 22,
   "metadata": {},
   "outputs": [
    {
     "name": "stdout",
     "output_type": "stream",
     "text": [
      "python is  easy to learn "
     ]
    }
   ],
   "source": [
    "word=['python', 'is ','easy', 'to', 'learn']\n",
    "for i in word:\n",
    "    print(i,end=\" \")"
   ]
  },
  {
   "cell_type": "code",
   "execution_count": 24,
   "metadata": {},
   "outputs": [
    {
     "name": "stdout",
     "output_type": "stream",
     "text": [
      "My name is komal gautam \n",
      "and  I am currently pursuing bca \n",
      "at babu banrasai  das  university\n"
     ]
    }
   ],
   "source": [
    "st='''My name is komal gautam \n",
    "and  I am currently pursuing bca \n",
    "at babu banrasai  das  university'''\n",
    "print(st)"
   ]
  },
  {
   "cell_type": "code",
   "execution_count": 34,
   "metadata": {},
   "outputs": [
    {
     "name": "stdout",
     "output_type": "stream",
     "text": [
      "to move to newline '\\n' is used \n"
     ]
    }
   ],
   "source": [
    "st=\"to move to newline '\\\\n' is used \"\n",
    "print(st)\n"
   ]
  },
  {
   "cell_type": "code",
   "execution_count": 36,
   "metadata": {},
   "outputs": [
    {
     "name": "stdout",
     "output_type": "stream",
     "text": [
      "the varible is  15\n"
     ]
    }
   ],
   "source": [
    "n='15'\n",
    "print(\"the varible is \",n)"
   ]
  },
  {
   "cell_type": "code",
   "execution_count": 41,
   "metadata": {},
   "outputs": [
    {
     "name": "stdout",
     "output_type": "stream",
     "text": [
      "python is great\n"
     ]
    }
   ],
   "source": [
    "s1='python'\n",
    "s2='is' \n",
    "s3='great'\n",
    "\n",
    "print(s1+ \" \"+s2+\" \"+s3 )"
   ]
  },
  {
   "cell_type": "code",
   "execution_count": 49,
   "metadata": {},
   "outputs": [
    {
     "name": "stdout",
     "output_type": "stream",
     "text": [
      "####################\n"
     ]
    }
   ],
   "source": [
    "s='#'\n",
    "print(s*20)"
   ]
  },
  {
   "cell_type": "code",
   "execution_count": 55,
   "metadata": {},
   "outputs": [
    {
     "name": "stdout",
     "output_type": "stream",
     "text": [
      "1.\n",
      "2.\n",
      "3.\n",
      "4.\n",
      "5.\n",
      "6.\n",
      "7.\n",
      "8.\n",
      "9.\n"
     ]
    }
   ],
   "source": [
    "for k in range(1,10):\n",
    "    print(k,end=\".\")\n",
    "    print()\n",
    " "
   ]
  },
  {
   "cell_type": "code",
   "execution_count": 56,
   "metadata": {},
   "outputs": [
    {
     "name": "stdout",
     "output_type": "stream",
     "text": [
      "my\n",
      "name\n",
      "is\n",
      "komal\n",
      "gauTAM\n"
     ]
    }
   ],
   "source": [
    "s=input(\"eneter a sentences\")\n",
    "for i in s.split():\n",
    "    print(i)\n"
   ]
  },
  {
   "cell_type": "code",
   "execution_count": 66,
   "metadata": {},
   "outputs": [
    {
     "name": "stdout",
     "output_type": "stream",
     "text": [
      "sentences is endswih ? \n"
     ]
    }
   ],
   "source": [
    "S=input(\"ENETER A STRINFG\")\n",
    "if S.endswith(\"?\"):\n",
    "    print(\"sentences is endswih ? \")\n"
   ]
  },
  {
   "cell_type": "code",
   "execution_count": 68,
   "metadata": {},
   "outputs": [
    {
     "name": "stdout",
     "output_type": "stream",
     "text": [
      "2\n",
      "komal e e ?\n"
     ]
    }
   ],
   "source": [
    "\n",
    "print(S.count(\"e\"))\n",
    "print(S)"
   ]
  },
  {
   "cell_type": "code",
   "execution_count": 70,
   "metadata": {},
   "outputs": [
    {
     "name": "stdout",
     "output_type": "stream",
     "text": [
      "this is not a good string\n"
     ]
    }
   ],
   "source": [
    "text= '       this is not a good string         '\n",
    "text1=text.strip()\n",
    "print(text1)\n"
   ]
  },
  {
   "cell_type": "code",
   "execution_count": 73,
   "metadata": {},
   "outputs": [
    {
     "name": "stdout",
     "output_type": "stream",
     "text": [
      "found\n"
     ]
    }
   ],
   "source": [
    "for i in \"Komal\":\n",
    "    if  i.isupper():\n",
    "        print('found')"
   ]
  },
  {
   "cell_type": "code",
   "execution_count": 81,
   "metadata": {},
   "outputs": [
    {
     "name": "stdout",
     "output_type": "stream",
     "text": [
      "['joe,', 'David,', 'Mark,', 'Tom,', 'Chris,Robert']\n"
     ]
    }
   ],
   "source": [
    "names='joe, David, Mark, Tom, Chris,Robert'\n",
    "l=names.split()\n",
    "print (l)"
   ]
  },
  {
   "cell_type": "code",
   "execution_count": 84,
   "metadata": {},
   "outputs": [
    {
     "name": "stdout",
     "output_type": "stream",
     "text": [
      "thisaye\n",
      "isaye\n",
      "somneaye\n",
      "textaye\n"
     ]
    }
   ],
   "source": [
    "text='this is somne text '\n",
    "word=text.split()\n",
    "for i in word:\n",
    "    print(i+\"aye\")"
   ]
  },
  {
   "cell_type": "code",
   "execution_count": 86,
   "metadata": {},
   "outputs": [
    {
     "ename": "TypeError",
     "evalue": "bad operand type for unary -: 'str'",
     "output_type": "error",
     "traceback": [
      "\u001b[1;31m---------------------------------------------------------------------------\u001b[0m",
      "\u001b[1;31mTypeError\u001b[0m                                 Traceback (most recent call last)",
      "\u001b[1;32mc:\\Users\\samsa\\OneDrive\\Documents\\GitHub\\python-course\\list_advance.ipynb Cell 38'\u001b[0m in \u001b[0;36m<module>\u001b[1;34m\u001b[0m\n\u001b[1;32m----> <a href='vscode-notebook-cell:/c%3A/Users/samsa/OneDrive/Documents/GitHub/python-course/list_advance.ipynb#ch0000037?line=0'>1</a>\u001b[0m k\u001b[39m=\u001b[39m\u001b[39m-\u001b[39;49m\u001b[39minput\u001b[39;49m(\u001b[39m\"\u001b[39;49m\u001b[39menetr a string \u001b[39;49m\u001b[39m\"\u001b[39;49m)\n\u001b[0;32m      <a href='vscode-notebook-cell:/c%3A/Users/samsa/OneDrive/Documents/GitHub/python-course/list_advance.ipynb#ch0000037?line=1'>2</a>\u001b[0m \u001b[39mif\u001b[39;00m \u001b[39m\"\u001b[39m\u001b[39mfyi\u001b[39m\u001b[39m\"\u001b[39m \u001b[39min\u001b[39;00m k:\n\u001b[0;32m      <a href='vscode-notebook-cell:/c%3A/Users/samsa/OneDrive/Documents/GitHub/python-course/list_advance.ipynb#ch0000037?line=2'>3</a>\u001b[0m     \u001b[39mprint\u001b[39m(\u001b[39m\"\u001b[39m\u001b[39mfound\u001b[39m\u001b[39m\"\u001b[39m)\n",
      "\u001b[1;31mTypeError\u001b[0m: bad operand type for unary -: 'str'"
     ]
    }
   ],
   "source": [
    "k=-input(\"enetr a string \")\n",
    "if \"fyi\" in k:\n",
    "    print(\"found\")"
   ]
  },
  {
   "cell_type": "code",
   "execution_count": null,
   "metadata": {},
   "outputs": [],
   "source": []
  }
 ],
 "metadata": {
  "interpreter": {
   "hash": "b3ba2566441a7c06988d0923437866b63cedc61552a5af99d1f4fb67d367b25f"
  },
  "kernelspec": {
   "display_name": "\"Python/Mu (mu_venv-38-20211012-125224)\"",
   "language": "python",
   "name": "python3"
  },
  "language_info": {
   "codemirror_mode": {
    "name": "ipython",
    "version": 3
   },
   "file_extension": ".py",
   "mimetype": "text/x-python",
   "name": "python",
   "nbconvert_exporter": "python",
   "pygments_lexer": "ipython3",
   "version": "3.7.4"
  },
  "orig_nbformat": 4
 },
 "nbformat": 4,
 "nbformat_minor": 2
}
