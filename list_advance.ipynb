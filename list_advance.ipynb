{
 "cells": [
  {
   "cell_type": "markdown",
   "metadata": {},
   "source": [
    "# what to learn \n",
    "- comprehension\n",
    "- lamda,mapand filter\n"
   ]
  },
  {
   "cell_type": "markdown",
   "metadata": {},
   "source": [
    "If you are doing a program where you need to get a list(sequence) of data from and existing data by performing some operation on existing data ,then you use the concept of comprehension or map/filter to make your code smaller and faster "
   ]
  },
  {
   "cell_type": "code",
   "execution_count": 1,
   "metadata": {},
   "outputs": [
    {
     "name": "stdout",
     "output_type": "stream",
     "text": [
      "[6, 7, 8, 9, 10, 11, 12]\n"
     ]
    }
   ],
   "source": [
    "x=[1,2,3,4,5,6,7]\n",
    "x5=[]# list empty \n",
    "for i in x:\n",
    "   o=i+5\n",
    "   x5.append(o)\n",
    "print(x5)"
   ]
  },
  {
   "cell_type": "markdown",
   "metadata": {},
   "source": [
    "# comprehension syntax\n",
    "- simple\n",
    "```\n",
    "newlist =[operation loop]\n",
    "```\n",
    "\n",
    "- condition\n",
    "```\n",
    "newlist=[operation loop condition]\n",
    "```"
   ]
  },
  {
   "cell_type": "code",
   "execution_count": 3,
   "metadata": {},
   "outputs": [
    {
     "name": "stdout",
     "output_type": "stream",
     "text": [
      "[6, 7, 8, 9, 10, 11, 12]\n"
     ]
    }
   ],
   "source": [
    "x5=[i+5 for i in x]\n",
    "print(x5)"
   ]
  },
  {
   "cell_type": "code",
   "execution_count": 4,
   "metadata": {},
   "outputs": [
    {
     "name": "stdout",
     "output_type": "stream",
     "text": [
      "[1, 4, 9, 16, 25, 36, 49]\n"
     ]
    }
   ],
   "source": [
    "xsqrt=[i**2 for i in x]\n",
    "print(xsqrt)"
   ]
  },
  {
   "cell_type": "markdown",
   "metadata": {},
   "source": [
    "### normal version"
   ]
  },
  {
   "cell_type": "code",
   "execution_count": 5,
   "metadata": {},
   "outputs": [
    {
     "name": "stdout",
     "output_type": "stream",
     "text": [
      "[4, 16, 36, 64, 100]\n"
     ]
    }
   ],
   "source": [
    "x=[1,2,3,4,5,6,7,8,9,10]\n",
    "xevensqr= []\n",
    "for  i in x:\n",
    "    if i%2==0:\n",
    "        xevensqr.append(i**2)\n",
    "print(xevensqr)"
   ]
  },
  {
   "cell_type": "code",
   "execution_count": 10,
   "metadata": {},
   "outputs": [
    {
     "name": "stdout",
     "output_type": "stream",
     "text": [
      "[4, 16, 36, 64, 100]\n"
     ]
    }
   ],
   "source": [
    "# pythonic version\n",
    "x=[1,2,3,4,5,6,7,8,9,10]\n",
    "xevencube=[]\n",
    "xevencube=[  i**2 for i in x if i%2==0 ]\n",
    "print(xevencube)"
   ]
  },
  {
   "cell_type": "code",
   "execution_count": 11,
   "metadata": {},
   "outputs": [
    {
     "name": "stdout",
     "output_type": "stream",
     "text": [
      "[-9, -7, -5, -3, -1]\n"
     ]
    }
   ],
   "source": [
    "xodd=[i-10 for i in x if i%2!=0 ]\n",
    "print(xodd)"
   ]
  },
  {
   "cell_type": "code",
   "execution_count": 23,
   "metadata": {},
   "outputs": [
    {
     "name": "stdout",
     "output_type": "stream",
     "text": [
      "['Mason', 'Grey', 'Lawson', 'Maxmillon']\n"
     ]
    }
   ],
   "source": [
    "names=['Alex Mason ' ,'Adam Grey ', 'Dana Lawson','Wax  Maxmillon']\n",
    "surnames=[]\n",
    "for n in names :\n",
    "    sn =n.split()[-1]# get the last word\n",
    "    surnames.append(sn)\n",
    "print(surnames)"
   ]
  },
  {
   "cell_type": "code",
   "execution_count": 20,
   "metadata": {},
   "outputs": [
    {
     "name": "stdout",
     "output_type": "stream",
     "text": [
      "['Mason', 'Grey', 'Lawson', 'Maxmillon']\n"
     ]
    }
   ],
   "source": [
    "surnames=[]\n",
    "surname=[n.split()[-1] for n in names ]\n",
    "print(surname)"
   ]
  },
  {
   "cell_type": "markdown",
   "metadata": {},
   "source": [
    "### task \n",
    "write a comprehension program that will return all the employee wih 'a'  in their list of 25 employee"
   ]
  },
  {
   "cell_type": "code",
   "execution_count": 29,
   "metadata": {},
   "outputs": [
    {
     "name": "stdout",
     "output_type": "stream",
     "text": [
      "['komal', 'yashi', 'shweta ', 'naushad', 'ravi', 'manoj', 'manish']\n"
     ]
    }
   ],
   "source": [
    "empolyee=['komal','yashi','shweta ','naushad','ravi','manoj','manish','rohit','physics',\"chemistry\",'biology']\n",
    "new=[]\n",
    "for i in empolyee:\n",
    "    \n",
    "    count=0\n",
    "    for k in i:\n",
    "        if k=='a':\n",
    "            count +=1\n",
    "    if count>0:\n",
    "        new.append(i)\n",
    "\n",
    "    \n",
    "print(new)\n"
   ]
  },
  {
   "cell_type": "code",
   "execution_count": 30,
   "metadata": {},
   "outputs": [
    {
     "name": "stdout",
     "output_type": "stream",
     "text": [
      "['komal', 'yashi', 'shweta ', 'naushad', 'ravi', 'manoj', 'manish']\n"
     ]
    }
   ],
   "source": [
    "new=[]\n",
    "new=[ i for i in empolyee if 'a' in i  ]\n",
    "print(new)"
   ]
  },
  {
   "cell_type": "markdown",
   "metadata": {},
   "source": [
    "# task\n"
   ]
  },
  {
   "cell_type": "markdown",
   "metadata": {},
   "source": [
    "### 1.Create a string and print it.\n",
    "\n",
    "\n",
    "\n"
   ]
  },
  {
   "cell_type": "code",
   "execution_count": 1,
   "metadata": {},
   "outputs": [
    {
     "name": "stdout",
     "output_type": "stream",
     "text": [
      "komal gautam \n"
     ]
    }
   ],
   "source": [
    "a=\"komal gautam \"\n",
    "print(a)"
   ]
  },
  {
   "cell_type": "markdown",
   "metadata": {},
   "source": [
    "### 2.Take a string inpiut and print it's length."
   ]
  },
  {
   "cell_type": "code",
   "execution_count": 2,
   "metadata": {},
   "outputs": [
    {
     "name": "stdout",
     "output_type": "stream",
     "text": [
      "12\n"
     ]
    }
   ],
   "source": [
    "b=input(\"Enter a string \")\n",
    "print(len(b))"
   ]
  },
  {
   "cell_type": "markdown",
   "metadata": {},
   "source": [
    "### 3.Print the last word of the string python is great using slices."
   ]
  },
  {
   "cell_type": "code",
   "execution_count": 7,
   "metadata": {},
   "outputs": [
    {
     "name": "stdout",
     "output_type": "stream",
     "text": [
      "great\n"
     ]
    }
   ],
   "source": [
    "st=\"python is great\"\n",
    "\n",
    "print(st[-5:])"
   ]
  },
  {
   "cell_type": "markdown",
   "metadata": {},
   "source": [
    "### 4.print the each word in different line of string python is everywhere."
   ]
  },
  {
   "cell_type": "code",
   "execution_count": 10,
   "metadata": {},
   "outputs": [
    {
     "name": "stdout",
     "output_type": "stream",
     "text": [
      "python\n",
      "is\n",
      "everywhere\n"
     ]
    }
   ],
   "source": [
    "s='python is everywhere'\n",
    "for i in s.split():\n",
    "    print(i)"
   ]
  },
  {
   "cell_type": "markdown",
   "metadata": {},
   "source": [
    "### 5.Print the string Hello Word! in reverse."
   ]
  },
  {
   "cell_type": "code",
   "execution_count": 17,
   "metadata": {},
   "outputs": [
    {
     "name": "stdout",
     "output_type": "stream",
     "text": [
      "dlrow olleh\n"
     ]
    }
   ],
   "source": [
    "p=\"hello world\"\n",
    "print(p[::-1])"
   ]
  },
  {
   "cell_type": "markdown",
   "metadata": {},
   "source": [
    "### 6.Convert the string How are you? in uppeecase."
   ]
  },
  {
   "cell_type": "code",
   "execution_count": 18,
   "metadata": {},
   "outputs": [
    {
     "name": "stdout",
     "output_type": "stream",
     "text": [
      "HOW ARE YOU ?\n"
     ]
    }
   ],
   "source": [
    "i= \"how are you ?\"\n",
    "print(i.upper())"
   ]
  },
  {
   "cell_type": "markdown",
   "metadata": {},
   "source": [
    "### 7.Convert the string How Is It Going? in lowercase"
   ]
  },
  {
   "cell_type": "code",
   "execution_count": 20,
   "metadata": {},
   "outputs": [
    {
     "name": "stdout",
     "output_type": "stream",
     "text": [
      "how is it going\n"
     ]
    }
   ],
   "source": [
    "w=\"HOW Is It GOING\"\n",
    "print(w.lower())"
   ]
  },
  {
   "cell_type": "markdown",
   "metadata": {},
   "source": [
    "### 8.Join the following list by spaces( ) and print the result. words = ['Python', 'is', 'easy', 'to', 'learn']"
   ]
  },
  {
   "cell_type": "code",
   "execution_count": 22,
   "metadata": {},
   "outputs": [
    {
     "name": "stdout",
     "output_type": "stream",
     "text": [
      "python is  easy to learn "
     ]
    }
   ],
   "source": [
    "word=['python', 'is ','easy', 'to', 'learn']\n",
    "for i in word:\n",
    "    print(i,end=\" \")"
   ]
  },
  {
   "cell_type": "markdown",
   "metadata": {},
   "source": [
    "### 9.Print a multiline string using a single print"
   ]
  },
  {
   "cell_type": "code",
   "execution_count": 24,
   "metadata": {},
   "outputs": [
    {
     "name": "stdout",
     "output_type": "stream",
     "text": [
      "My name is komal gautam \n",
      "and  I am currently pursuing bca \n",
      "at babu banrasai  das  university\n"
     ]
    }
   ],
   "source": [
    "st='''My name is komal gautam \n",
    "and  I am currently pursuing bca \n",
    "at babu banrasai  das  university'''\n",
    "print(st)"
   ]
  },
  {
   "cell_type": "markdown",
   "metadata": {},
   "source": [
    "### 10.Print this string to move to newline '\\n' is used. (results should look exactly like the provided string)"
   ]
  },
  {
   "cell_type": "code",
   "execution_count": 34,
   "metadata": {},
   "outputs": [
    {
     "name": "stdout",
     "output_type": "stream",
     "text": [
      "to move to newline '\\n' is used \n"
     ]
    }
   ],
   "source": [
    "st=\"to move to newline '\\\\n' is used \"\n",
    "print(st)\n"
   ]
  },
  {
   "cell_type": "markdown",
   "metadata": {},
   "source": [
    " ### 11.Print a variable with some text using a single print function, output should look like following. the variable is 15"
   ]
  },
  {
   "cell_type": "code",
   "execution_count": 36,
   "metadata": {},
   "outputs": [
    {
     "name": "stdout",
     "output_type": "stream",
     "text": [
      "the varible is  15\n"
     ]
    }
   ],
   "source": [
    "n='15'\n",
    "print(\"the varible is \",n)"
   ]
  },
  {
   "cell_type": "markdown",
   "metadata": {},
   "source": [
    "### 12.concatenate the following strings and print the result s1 = 'python ' s2 = 'is ' s3 = 'great.'"
   ]
  },
  {
   "cell_type": "code",
   "execution_count": 41,
   "metadata": {},
   "outputs": [
    {
     "name": "stdout",
     "output_type": "stream",
     "text": [
      "python is great\n"
     ]
    }
   ],
   "source": [
    "s1='python'\n",
    "s2='is' \n",
    "s3='great'\n",
    "\n",
    "print(s1+ \" \"+s2+\" \"+s3 )"
   ]
  },
  {
   "cell_type": "markdown",
   "metadata": {},
   "source": [
    "### 13.Print # 20 times without using a loop"
   ]
  },
  {
   "cell_type": "code",
   "execution_count": 49,
   "metadata": {},
   "outputs": [
    {
     "name": "stdout",
     "output_type": "stream",
     "text": [
      "####################\n"
     ]
    }
   ],
   "source": [
    "s='#'\n",
    "print(s*20)"
   ]
  },
  {
   "cell_type": "markdown",
   "metadata": {},
   "source": [
    "### 14.Print numbers from 1 to 9, each on a seperate line, followed by a dot, output should look like the following- -1 -2 -3\n"
   ]
  },
  {
   "cell_type": "code",
   "execution_count": 55,
   "metadata": {},
   "outputs": [
    {
     "name": "stdout",
     "output_type": "stream",
     "text": [
      "1.\n",
      "2.\n",
      "3.\n",
      "4.\n",
      "5.\n",
      "6.\n",
      "7.\n",
      "8.\n",
      "9.\n"
     ]
    }
   ],
   "source": [
    "for k in range(1,10):\n",
    "    print(k,end=\".\")\n",
    "    print()\n",
    " "
   ]
  },
  {
   "cell_type": "markdown",
   "metadata": {},
   "source": [
    "### 15.Ask user to input a sentence and print each word on a different line.\n"
   ]
  },
  {
   "cell_type": "code",
   "execution_count": 56,
   "metadata": {},
   "outputs": [
    {
     "name": "stdout",
     "output_type": "stream",
     "text": [
      "my\n",
      "name\n",
      "is\n",
      "komal\n",
      "gauTAM\n"
     ]
    }
   ],
   "source": [
    "s=input(\"eneter a sentences\")\n",
    "for i in s.split():\n",
    "    print(i)\n"
   ]
  },
  {
   "cell_type": "markdown",
   "metadata": {},
   "source": [
    " \n",
    "### 16.Ask user to input a string and check if the string ends with '?'"
   ]
  },
  {
   "cell_type": "code",
   "execution_count": 66,
   "metadata": {},
   "outputs": [
    {
     "name": "stdout",
     "output_type": "stream",
     "text": [
      "sentences is endswih ? \n"
     ]
    }
   ],
   "source": [
    "S=input(\"ENETER A STRINFG\")\n",
    "if S.endswith(\"?\"):\n",
    "    print(\"sentences is endswih ? \")\n"
   ]
  },
  {
   "cell_type": "markdown",
   "metadata": {},
   "source": [
    "### 17.Ask user to input a string and print how many times e appeared in the string"
   ]
  },
  {
   "cell_type": "code",
   "execution_count": 68,
   "metadata": {},
   "outputs": [
    {
     "name": "stdout",
     "output_type": "stream",
     "text": [
      "2\n",
      "komal e e ?\n"
     ]
    }
   ],
   "source": [
    "\n",
    "print(S.count(\"e\"))\n",
    "print(S)"
   ]
  },
  {
   "cell_type": "markdown",
   "metadata": {},
   "source": [
    "### 18. Check if the usser input is a number"
   ]
  },
  {
   "cell_type": "code",
   "execution_count": 22,
   "metadata": {},
   "outputs": [
    {
     "name": "stdout",
     "output_type": "stream",
     "text": [
      "entered data is number \n"
     ]
    }
   ],
   "source": [
    "n=input(\"enetr something\")\n",
    "if n.isnumeric():\n",
    "    print(\"entered data is number \")\n"
   ]
  },
  {
   "cell_type": "markdown",
   "metadata": {},
   "source": [
    "### 19.Remove the extra spaces in beginning and in the end of the following string-    text = ' this is not a good string"
   ]
  },
  {
   "cell_type": "code",
   "execution_count": 70,
   "metadata": {},
   "outputs": [
    {
     "name": "stdout",
     "output_type": "stream",
     "text": [
      "this is not a good string\n"
     ]
    }
   ],
   "source": [
    "text= '       this is not a good string         '\n",
    "text1=text.strip()\n",
    "print(text1)\n"
   ]
  },
  {
   "cell_type": "markdown",
   "metadata": {},
   "source": [
    "### 20.Ask user to input string, print found if any of the character is upper case."
   ]
  },
  {
   "cell_type": "code",
   "execution_count": 73,
   "metadata": {},
   "outputs": [
    {
     "name": "stdout",
     "output_type": "stream",
     "text": [
      "found\n"
     ]
    }
   ],
   "source": [
    "for i in \"Komal\":\n",
    "    if  i.isupper():\n",
    "        print('found')"
   ]
  },
  {
   "cell_type": "markdown",
   "metadata": {},
   "source": [
    "### 21.Extract names from the following string and store them in a list.\n",
    "\n",
    "### names = 'Joe, David, Mark, Tom, Chris, Robert'"
   ]
  },
  {
   "cell_type": "code",
   "execution_count": 81,
   "metadata": {},
   "outputs": [
    {
     "name": "stdout",
     "output_type": "stream",
     "text": [
      "['joe,', 'David,', 'Mark,', 'Tom,', 'Chris,Robert']\n"
     ]
    }
   ],
   "source": [
    "names='joe, David, Mark, Tom, Chris,Robert'\n",
    "l=names.split()\n",
    "print (l)"
   ]
  },
  {
   "cell_type": "markdown",
   "metadata": {},
   "source": [
    "### 22.In the following string, add aye in the end of every word and print the results.\n",
    "\n",
    "### text = 'this is some text'"
   ]
  },
  {
   "cell_type": "code",
   "execution_count": 84,
   "metadata": {},
   "outputs": [
    {
     "name": "stdout",
     "output_type": "stream",
     "text": [
      "thisaye\n",
      "isaye\n",
      "somneaye\n",
      "textaye\n"
     ]
    }
   ],
   "source": [
    "text='this is somne text '\n",
    "word=text.split()\n",
    "for i in word:\n",
    "    print(i+\"aye\")"
   ]
  },
  {
   "cell_type": "markdown",
   "metadata": {},
   "source": [
    "### 23.ask user to enter a string and check if the string contains fyi"
   ]
  },
  {
   "cell_type": "code",
   "execution_count": 6,
   "metadata": {},
   "outputs": [
    {
     "name": "stdout",
     "output_type": "stream",
     "text": [
      "found\n"
     ]
    }
   ],
   "source": [
    "st=input(\"enetr a string \")\n",
    "if \"fyi\" in st:\n",
    "    print(\"found\")"
   ]
  },
  {
   "cell_type": "markdown",
   "metadata": {},
   "source": [
    "### 24.Remove all the special characters and numbers from the following string\n",
    "\n",
    "### text = '%p34@y!-!t68h#&on404'"
   ]
  },
  {
   "cell_type": "code",
   "execution_count": 13,
   "metadata": {},
   "outputs": [
    {
     "name": "stdout",
     "output_type": "stream",
     "text": [
      "thhxbuh\n"
     ]
    }
   ],
   "source": [
    "text='~!@#$%^&*()__+)(*&%^$6323t23h#hxb4uh'\n",
    "juck='~!@#$%^&*()_+'\n",
    "for i in juck:\n",
    "   text=text.replace(i,'')\n",
    "for i in text :\n",
    "    if i.isnumeric():\n",
    "        text=text.replace(i,'')\n",
    "\n",
    "    \n",
    "print(text)\n",
    "\n"
   ]
  },
  {
   "cell_type": "markdown",
   "metadata": {},
   "source": [
    "### 25.calculate the average word length of the following paragraph.\n",
    "\n",
    "### this is a paragraph which is written just for the purpose of providing content to let the average word length"
   ]
  },
  {
   "cell_type": "code",
   "execution_count": 19,
   "metadata": {},
   "outputs": [
    {
     "name": "stdout",
     "output_type": "stream",
     "text": [
      "Average word lenth of the following paragraph  5.590909090909091\n"
     ]
    }
   ],
   "source": [
    "text='this is a paragraph which is written just for the purpose of providing content to let the average word length be calculated'\n",
    "li=text.split()\n",
    "length=len(li)\n",
    "count=0\n",
    "for i in text:\n",
    "    count+=1\n",
    "print(\"Average word lenth of the following paragraph \" ,(count/length))"
   ]
  },
  {
   "cell_type": "code",
   "execution_count": null,
   "metadata": {},
   "outputs": [],
   "source": []
  }
 ],
 "metadata": {
  "interpreter": {
   "hash": "b3ba2566441a7c06988d0923437866b63cedc61552a5af99d1f4fb67d367b25f"
  },
  "kernelspec": {
   "display_name": "\"Python/Mu (mu_venv-38-20211012-125224)\"",
   "language": "python",
   "name": "python3"
  },
  "language_info": {
   "codemirror_mode": {
    "name": "ipython",
    "version": 3
   },
   "file_extension": ".py",
   "mimetype": "text/x-python",
   "name": "python",
   "nbconvert_exporter": "python",
   "pygments_lexer": "ipython3",
   "version": "3.9.5"
  },
  "orig_nbformat": 4
 },
 "nbformat": 4,
 "nbformat_minor": 2
}
