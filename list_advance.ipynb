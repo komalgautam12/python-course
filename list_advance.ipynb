{
 "cells": [
  {
   "cell_type": "markdown",
   "metadata": {},
   "source": [
    "# what to learn \n",
    "- comprehension\n",
    "- lamda,mapand filter\n"
   ]
  },
  {
   "cell_type": "markdown",
   "metadata": {},
   "source": [
    "If you are doing a program where you need to get a list(sequence) of data from and existing data by performing some operation on existing data ,then you use the concept of comprehension or map/filter to make your code smaller and faster "
   ]
  },
  {
   "cell_type": "code",
   "execution_count": 1,
   "metadata": {},
   "outputs": [
    {
     "name": "stdout",
     "output_type": "stream",
     "text": [
      "[6, 7, 8, 9, 10, 11, 12]\n"
     ]
    }
   ],
   "source": [
    "x=[1,2,3,4,5,6,7]\n",
    "x5=[]# list empty \n",
    "for i in x:\n",
    "   o=i+5\n",
    "   x5.append(o)\n",
    "print(x5)"
   ]
  },
  {
   "cell_type": "markdown",
   "metadata": {},
   "source": [
    "# comprehension syntax\n",
    "- simple\n",
    "```\n",
    "newlist =[operation loop]\n",
    "```\n",
    "\n",
    "- condition\n",
    "```\n",
    "newlist=[operation loop condition]\n",
    "```"
   ]
  },
  {
   "cell_type": "code",
   "execution_count": 3,
   "metadata": {},
   "outputs": [
    {
     "name": "stdout",
     "output_type": "stream",
     "text": [
      "[6, 7, 8, 9, 10, 11, 12]\n"
     ]
    }
   ],
   "source": [
    "x5=[i+5 for i in x]\n",
    "print(x5)"
   ]
  },
  {
   "cell_type": "code",
   "execution_count": 4,
   "metadata": {},
   "outputs": [
    {
     "name": "stdout",
     "output_type": "stream",
     "text": [
      "[1, 4, 9, 16, 25, 36, 49]\n"
     ]
    }
   ],
   "source": [
    "xsqrt=[i**2 for i in x]\n",
    "print(xsqrt)\n"
   ]
  },
  {
   "cell_type": "markdown",
   "metadata": {},
   "source": [
    "### normal version"
   ]
  },
  {
   "cell_type": "code",
   "execution_count": 5,
   "metadata": {},
   "outputs": [
    {
     "name": "stdout",
     "output_type": "stream",
     "text": [
      "[4, 16, 36, 64, 100]\n"
     ]
    }
   ],
   "source": [
    "x=[1,2,3,4,5,6,7,8,9,10]\n",
    "xevensqr= []\n",
    "for  i in x:\n",
    "    if i%2==0:\n",
    "        xevensqr.append(i**2)\n",
    "print(xevensqr)"
   ]
  },
  {
   "cell_type": "code",
   "execution_count": 6,
   "metadata": {},
   "outputs": [
    {
     "name": "stdout",
     "output_type": "stream",
     "text": [
      "[4, 16, 36, 64, 100]\n"
     ]
    }
   ],
   "source": [
    "# pythonic version\n",
    "x=[1,2,3,4,5,6,7,8,9,10]\n",
    "xevencube=[]\n",
    "xevencube=[  i**2 for i in x if i%2==0 ]\n",
    "print(xevencube)"
   ]
  },
  {
   "cell_type": "code",
   "execution_count": 7,
   "metadata": {},
   "outputs": [
    {
     "name": "stdout",
     "output_type": "stream",
     "text": [
      "[-9, -7, -5, -3, -1]\n"
     ]
    }
   ],
   "source": [
    "xodd=[i-10 for i in x if i%2!=0 ]\n",
    "print(xodd)"
   ]
  },
  {
   "cell_type": "code",
   "execution_count": 8,
   "metadata": {},
   "outputs": [
    {
     "name": "stdout",
     "output_type": "stream",
     "text": [
      "['Mason', 'Grey', 'Lawson', 'Maxmillon']\n"
     ]
    }
   ],
   "source": [
    "names=['Alex Mason ' ,'Adam Grey ', 'Dana Lawson','Wax  Maxmillon']\n",
    "surnames=[]\n",
    "for n in names :\n",
    "    sn =n.split()[-1]# get the last word\n",
    "    surnames.append(sn)\n",
    "print(surnames)"
   ]
  },
  {
   "cell_type": "code",
   "execution_count": 9,
   "metadata": {},
   "outputs": [
    {
     "name": "stdout",
     "output_type": "stream",
     "text": [
      "['Mason', 'Grey', 'Lawson', 'Maxmillon']\n"
     ]
    }
   ],
   "source": [
    "surnames=[]\n",
    "surname=[n.split()[-1] for n in names ]\n",
    "print(surname)"
   ]
  },
  {
   "cell_type": "markdown",
   "metadata": {},
   "source": [
    "### task \n",
    "write a comprehension program that will return all the employee wih 'a'  in their list of 25 employee"
   ]
  },
  {
   "cell_type": "code",
   "execution_count": 10,
   "metadata": {},
   "outputs": [
    {
     "name": "stdout",
     "output_type": "stream",
     "text": [
      "['komal', 'yashi', 'shweta ', 'naushad', 'ravi', 'manoj', 'manish']\n"
     ]
    }
   ],
   "source": [
    "empolyee=['komal','yashi','shweta ','naushad','ravi','manoj','manish','rohit','physics',\"chemistry\",'biology']\n",
    "new=[]\n",
    "for i in empolyee:\n",
    "    \n",
    "    count=0\n",
    "    for k in i:\n",
    "        if k=='a':\n",
    "            count +=1\n",
    "    if count>0:\n",
    "        new.append(i)\n",
    "\n",
    "    \n",
    "print(new)"
   ]
  },
  {
   "cell_type": "code",
   "execution_count": 11,
   "metadata": {},
   "outputs": [
    {
     "name": "stdout",
     "output_type": "stream",
     "text": [
      "['komal', 'yashi', 'shweta ', 'naushad', 'ravi', 'manoj', 'manish']\n"
     ]
    }
   ],
   "source": [
    "new=[]\n",
    "new=[ i for i in empolyee if 'a' in i  ]\n",
    "print(new)"
   ]
  },
  {
   "cell_type": "code",
   "execution_count": null,
   "metadata": {},
   "outputs": [],
   "source": []
  }
 ],
 "metadata": {
  "interpreter": {
   "hash": "fed30e36df380b4e7b7d06a801b217955ec3fc3256658018197483620292ab6f"
  },
  "kernelspec": {
   "display_name": "Python 3.9.5 ('base')",
   "language": "python",
   "name": "python3"
  },
  "language_info": {
   "codemirror_mode": {
    "name": "ipython",
    "version": 3
   },
   "file_extension": ".py",
   "mimetype": "text/x-python",
   "name": "python",
   "nbconvert_exporter": "python",
   "pygments_lexer": "ipython3",
   "version": "3.9.5"
  },
  "orig_nbformat": 4
 },
 "nbformat": 4,
 "nbformat_minor": 2
}
