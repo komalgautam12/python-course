{
 "cells": [
  {
   "cell_type": "code",
   "execution_count": 39,
   "metadata": {},
   "outputs": [],
   "source": [
    "def check():\n",
    "    print(\"this is simple function \")\n",
    "\n"
   ]
  },
  {
   "cell_type": "code",
   "execution_count": 40,
   "metadata": {},
   "outputs": [
    {
     "name": "stdout",
     "output_type": "stream",
     "text": [
      "this is simple function \n"
     ]
    }
   ],
   "source": [
    "check()"
   ]
  },
  {
   "cell_type": "code",
   "execution_count": 41,
   "metadata": {},
   "outputs": [],
   "source": [
    "def divide(a,b):\n",
    "    ans=a/b\n",
    "    print(ans)"
   ]
  },
  {
   "cell_type": "code",
   "execution_count": 42,
   "metadata": {},
   "outputs": [
    {
     "ename": "TypeError",
     "evalue": "divide() missing 1 required positional argument: 'b'",
     "output_type": "error",
     "traceback": [
      "\u001b[1;31m---------------------------------------------------------------------------\u001b[0m",
      "\u001b[1;31mTypeError\u001b[0m                                 Traceback (most recent call last)",
      "\u001b[1;32mc:\\Users\\samsa\\OneDrive\\Documents\\GitHub\\python-course\\function.ipynb Cell 4'\u001b[0m in \u001b[0;36m<module>\u001b[1;34m\u001b[0m\n\u001b[1;32m----> <a href='vscode-notebook-cell:/c%3A/Users/samsa/OneDrive/Documents/GitHub/python-course/function.ipynb#ch0000003?line=0'>1</a>\u001b[0m divide(\u001b[39m100\u001b[39;49m)\n",
      "\u001b[1;31mTypeError\u001b[0m: divide() missing 1 required positional argument: 'b'"
     ]
    }
   ],
   "source": [
    "divide(100)# erroe"
   ]
  },
  {
   "cell_type": "code",
   "execution_count": null,
   "metadata": {},
   "outputs": [],
   "source": [
    "def update_salary(old_salary ):\n",
    "    new_salary=old_salary+old_salary*0.8\n",
    "    print(f\"{old_salary} -> {new_salary}\")\n",
    "def remove_hra(salary):\n",
    "    new_salary=salary-salary*0.5\n",
    "    print(f\"{salary} -> {new_salary}\")"
   ]
  },
  {
   "cell_type": "code",
   "execution_count": null,
   "metadata": {},
   "outputs": [
    {
     "name": "stdout",
     "output_type": "stream",
     "text": [
      "100000 -> 180000.0\n",
      "None\n",
      "10800 -> 5400.0\n",
      "None\n"
     ]
    }
   ],
   "source": [
    "print(update_salary(100000))\n",
    "print(remove_hra(10800))"
   ]
  },
  {
   "cell_type": "markdown",
   "metadata": {},
   "source": [
    "function with return value and parameters"
   ]
  },
  {
   "cell_type": "code",
   "execution_count": null,
   "metadata": {},
   "outputs": [],
   "source": [
    "def update_salary(old_salary ):\n",
    "    new_salary=old_salary+old_salary*0.8\n",
    "    return new_salary\n",
    "def remove_hra(salary):\n",
    "    new_salary=salary-salary*0.5\n",
    "    \n",
    "    return new_salary\n"
   ]
  },
  {
   "cell_type": "code",
   "execution_count": null,
   "metadata": {},
   "outputs": [
    {
     "name": "stdout",
     "output_type": "stream",
     "text": [
      "18000.0\n"
     ]
    }
   ],
   "source": [
    "print(update_salary(10000))\n"
   ]
  },
  {
   "cell_type": "code",
   "execution_count": null,
   "metadata": {},
   "outputs": [
    {
     "name": "stdout",
     "output_type": "stream",
     "text": [
      "36000.0\n"
     ]
    }
   ],
   "source": [
    "salary=update_salary(20000)\n",
    "print(salary)"
   ]
  },
  {
   "cell_type": "code",
   "execution_count": null,
   "metadata": {},
   "outputs": [
    {
     "data": {
      "text/plain": [
       "68000.0"
      ]
     },
     "execution_count": 21,
     "metadata": {},
     "output_type": "execute_result"
    }
   ],
   "source": [
    "update_salary(10000)+50000"
   ]
  },
  {
   "cell_type": "code",
   "execution_count": null,
   "metadata": {},
   "outputs": [
    {
     "data": {
      "text/plain": [
       "135000.0"
      ]
     },
     "execution_count": 22,
     "metadata": {},
     "output_type": "execute_result"
    }
   ],
   "source": [
    "remove_hra(update_salary(150000))"
   ]
  },
  {
   "cell_type": "markdown",
   "metadata": {},
   "source": [
    "- waf to return true or false, if a number is even or not\n",
    "- waf to remove all vowels from a sentence given in a function\n",
    "- waf to return the second highest value from a list given as parameter"
   ]
  },
  {
   "cell_type": "code",
   "execution_count": null,
   "metadata": {},
   "outputs": [
    {
     "data": {
      "text/plain": [
       "False"
      ]
     },
     "execution_count": 26,
     "metadata": {},
     "output_type": "execute_result"
    }
   ],
   "source": [
    "def evenorodd(num):\n",
    "    \n",
    "    if num%2==0:\n",
    "        return True\n",
    "    else :\n",
    "        return False\n",
    "evenorodd()\n"
   ]
  },
  {
   "cell_type": "code",
   "execution_count": 44,
   "metadata": {},
   "outputs": [
    {
     "data": {
      "text/plain": [
       "'MY NM S KML GTM'"
      ]
     },
     "execution_count": 44,
     "metadata": {},
     "output_type": "execute_result"
    }
   ],
   "source": [
    "def vowel(st):\n",
    "    for i in \"aeiouAEOIU\":\n",
    "       st=st.replace(i,'')\n",
    "    return st\n",
    "vowel('MY NAME IS KOMAL GAUTAM')"
   ]
  },
  {
   "cell_type": "code",
   "execution_count": null,
   "metadata": {},
   "outputs": [],
   "source": [
    "def max2(num_list):\n",
    "    num_list.sort()\n",
    "    return num_list[-2]\n",
    "\n"
   ]
  },
  {
   "cell_type": "code",
   "execution_count": null,
   "metadata": {},
   "outputs": [
    {
     "name": "stdout",
     "output_type": "stream",
     "text": [
      "95\n"
     ]
    }
   ],
   "source": [
    "print(max2([2,3,4,5,6,6,7,889,95,4,34,3,2]))"
   ]
  },
  {
   "cell_type": "code",
   "execution_count": 45,
   "metadata": {},
   "outputs": [],
   "source": [
    "def q(x,y,z):\n",
    "    return x**y -z*x"
   ]
  },
  {
   "cell_type": "code",
   "execution_count": 53,
   "metadata": {},
   "outputs": [
    {
     "name": "stdout",
     "output_type": "stream",
     "text": [
      "702\n",
      "531426\n",
      "35831664\n"
     ]
    }
   ],
   "source": [
    "q(2,3,4)# normal way\n",
    "print(q(x=3,y=6,z=9))# names parameters/ keyword argument\n",
    "print(q(y=12,x=3,z=5))# named parameter /keyword argument\n",
    "print(q(12,z=12,y=7))\n"
   ]
  },
  {
   "cell_type": "code",
   "execution_count": 51,
   "metadata": {},
   "outputs": [
    {
     "name": "stdout",
     "output_type": "stream",
     "text": [
      "helo.    .is.    .not.    .hello\n"
     ]
    }
   ],
   "source": [
    "print(\"helo\",'is','not','hello', sep='.    .')"
   ]
  },
  {
   "cell_type": "code",
   "execution_count": 49,
   "metadata": {},
   "outputs": [
    {
     "data": {
      "text/plain": [
       "['we are g', 'ing t', ' st', 'p writing']"
      ]
     },
     "execution_count": 49,
     "metadata": {},
     "output_type": "execute_result"
    }
   ],
   "source": [
    "\"we are going to stop writing\".split('o')"
   ]
  },
  {
   "cell_type": "code",
   "execution_count": 52,
   "metadata": {},
   "outputs": [],
   "source": [
    "def add4(x,y,z=0,z2=0):\n",
    "    return x+y+z+z2"
   ]
  },
  {
   "cell_type": "code",
   "execution_count": 55,
   "metadata": {},
   "outputs": [
    {
     "name": "stdout",
     "output_type": "stream",
     "text": [
      "3\n",
      "6\n",
      "13\n"
     ]
    }
   ],
   "source": [
    "print(add4(1,2))\n",
    "print(add4(1,2,3))\n",
    "print(add4(1,3,4,5))"
   ]
  },
  {
   "cell_type": "code",
   "execution_count": 56,
   "metadata": {},
   "outputs": [],
   "source": [
    "def count_zero(*num):\n",
    "    if len(num)>0:\n",
    "        return num.count(0)"
   ]
  },
  {
   "cell_type": "code",
   "execution_count": 58,
   "metadata": {},
   "outputs": [
    {
     "name": "stdout",
     "output_type": "stream",
     "text": [
      "6\n"
     ]
    }
   ],
   "source": [
    "print(count_zero(1,3,4,5,67,87,9,0,0,0,0,0,0))"
   ]
  },
  {
   "cell_type": "code",
   "execution_count": 59,
   "metadata": {},
   "outputs": [],
   "source": [
    "def adder(*args):\n",
    "    if len(args)>0:\n",
    "         return sum(args)\n",
    "    return 0"
   ]
  },
  {
   "cell_type": "code",
   "execution_count": 61,
   "metadata": {},
   "outputs": [
    {
     "name": "stdout",
     "output_type": "stream",
     "text": [
      "46\n"
     ]
    }
   ],
   "source": [
    "print(adder(2,4,7,9,6,5,4,3,6))"
   ]
  },
  {
   "cell_type": "code",
   "execution_count": null,
   "metadata": {},
   "outputs": [],
   "source": []
  }
 ],
 "metadata": {
  "interpreter": {
   "hash": "fed30e36df380b4e7b7d06a801b217955ec3fc3256658018197483620292ab6f"
  },
  "kernelspec": {
   "display_name": "Python 3.9.5 ('base')",
   "language": "python",
   "name": "python3"
  },
  "language_info": {
   "codemirror_mode": {
    "name": "ipython",
    "version": 3
   },
   "file_extension": ".py",
   "mimetype": "text/x-python",
   "name": "python",
   "nbconvert_exporter": "python",
   "pygments_lexer": "ipython3",
   "version": "3.9.5"
  },
  "orig_nbformat": 4
 },
 "nbformat": 4,
 "nbformat_minor": 2
}
