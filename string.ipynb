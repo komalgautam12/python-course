{
 "cells": [
  {
   "cell_type": "code",
   "execution_count": 1,
   "metadata": {},
   "outputs": [],
   "source": [
    "a='hello'\n",
    "b=\"hello\"\n",
    "c=''' hello i  am \n",
    "komal '''"
   ]
  },
  {
   "cell_type": "code",
   "execution_count": 6,
   "metadata": {},
   "outputs": [
    {
     "name": "stdout",
     "output_type": "stream",
     "text": [
      " hello i  am \n",
      "komal  type of c is <class 'str'>\n",
      "hello\n",
      "hello\n"
     ]
    }
   ],
   "source": [
    "print(f\"{c} type of c is {type(c)}\")\n",
    "print(a)\n",
    "print(b)"
   ]
  },
  {
   "cell_type": "code",
   "execution_count": 8,
   "metadata": {},
   "outputs": [
    {
     "name": "stdout",
     "output_type": "stream",
     "text": [
      "the monster was 20' feet tall\n"
     ]
    }
   ],
   "source": [
    "s=\"the monster was 20' feet tall\"\n",
    "print(s)"
   ]
  },
  {
   "cell_type": "code",
   "execution_count": 11,
   "metadata": {},
   "outputs": [
    {
     "name": "stdout",
     "output_type": "stream",
     "text": [
      "i shrank the monster to 1\"by my shrinking gun\n"
     ]
    }
   ],
   "source": [
    "x='i shrank the monster to 1\"by my shrinking gun'\n",
    "print(x)"
   ]
  },
  {
   "cell_type": "markdown",
   "metadata": {},
   "source": [
    "### string -> what u need to know \n",
    "1. indexing and slicing \n",
    "2. functions "
   ]
  },
  {
   "cell_type": "code",
   "execution_count": 16,
   "metadata": {},
   "outputs": [
    {
     "name": "stdout",
     "output_type": "stream",
     "text": [
      "str= digipodium\n",
      "str[0]= d\n",
      "str[1]= i\n",
      "str[-1]= m\n",
      "str[-2]= u\n"
     ]
    }
   ],
   "source": [
    "#Accessing element of string\n",
    "str=\"digipodium\"\n",
    "print(\"str=\",str)\n",
    "#first character \n",
    "print(\"str[0]=\",str[0])\n",
    "#first character\n",
    "print(\"str[1]=\",str[1])\n",
    "#last character \n",
    "print(\"str[-1]=\",str[-1])\n",
    "#second last character \n",
    "print(\"str[-2]=\",str[-2])"
   ]
  },
  {
   "cell_type": "code",
   "execution_count": 11,
   "metadata": {},
   "outputs": [],
   "source": [
    "name=\"komal gautam\""
   ]
  },
  {
   "cell_type": "markdown",
   "metadata": {},
   "source": [
    "## getting a slice "
   ]
  },
  {
   "cell_type": "code",
   "execution_count": 18,
   "metadata": {},
   "outputs": [
    {
     "name": "stdout",
     "output_type": "stream",
     "text": [
      "pod\n"
     ]
    }
   ],
   "source": [
    "s=\"digipodium\"\n",
    "slices=s[4:7]\n",
    "print(slices)"
   ]
  },
  {
   "cell_type": "code",
   "execution_count": 20,
   "metadata": {},
   "outputs": [
    {
     "name": "stdout",
     "output_type": "stream",
     "text": [
      "d\n"
     ]
    }
   ],
   "source": [
    "print(slices[2:8])"
   ]
  },
  {
   "cell_type": "code",
   "execution_count": 21,
   "metadata": {},
   "outputs": [],
   "source": [
    "name=\"william shakespeare\""
   ]
  },
  {
   "cell_type": "code",
   "execution_count": 23,
   "metadata": {},
   "outputs": [
    {
     "name": "stdout",
     "output_type": "stream",
     "text": [
      "shakespeare\n"
     ]
    }
   ],
   "source": [
    "s=name[8:]\n",
    "print(s)"
   ]
  },
  {
   "cell_type": "code",
   "execution_count": 29,
   "metadata": {},
   "outputs": [
    {
     "name": "stdout",
     "output_type": "stream",
     "text": [
      "peare\n"
     ]
    }
   ],
   "source": [
    "s1=name[14:]\n",
    "print(s1)"
   ]
  },
  {
   "cell_type": "code",
   "execution_count": 41,
   "metadata": {},
   "outputs": [
    {
     "name": "stdout",
     "output_type": "stream",
     "text": [
      "podium\n",
      "digi\n",
      "podium\n"
     ]
    }
   ],
   "source": [
    "s=\"digipodium\"\n",
    "slice1=s[4:]\n",
    "slice2=s[:4]\n",
    "slice3=s[4:len(s)]\n",
    "print(slice1)\n",
    "print(slice2)\n",
    "print(slice3)"
   ]
  },
  {
   "cell_type": "markdown",
   "metadata": {},
   "source": [
    "## built in function\n"
   ]
  },
  {
   "cell_type": "code",
   "execution_count": 1,
   "metadata": {},
   "outputs": [
    {
     "name": "stdout",
     "output_type": "stream",
     "text": [
      "A\n",
      "ऽ\n",
      "き\n"
     ]
    }
   ],
   "source": [
    "x=chr(65)\n",
    "print(x)\n",
    "x=chr(2365)\n",
    "print(x)\n",
    "x=chr(12365)\n",
    "print(x)"
   ]
  },
  {
   "cell_type": "code",
   "execution_count": 5,
   "metadata": {},
   "outputs": [
    {
     "name": "stdout",
     "output_type": "stream",
     "text": [
      "0:\u0000\t1:\u0001\t2:\u0002\t3:\u0003\t4:\u0004\t5:\u0005\t6:\u0006\t7:\u0007\t8\t9:\t\t10:\n",
      "\t14:\u000e\t12:\f\t13:"
     ]
    }
   ],
   "source": [
    "for i in range(15):\n",
    "    print (f\"{i}:{chr(i)}\",end=\"\\t\")\n"
   ]
  },
  {
   "cell_type": "code",
   "execution_count": 22,
   "metadata": {},
   "outputs": [
    {
     "name": "stdout",
     "output_type": "stream",
     "text": [
      "8\n",
      "5\n",
      "4\n"
     ]
    }
   ],
   "source": [
    "print(len(\"amazing \"))\n",
    "print(len(\"world\"))\n",
    "\n",
    "size=len(\"hope\")\n",
    "print(size)"
   ]
  },
  {
   "cell_type": "code",
   "execution_count": 13,
   "metadata": {},
   "outputs": [
    {
     "name": "stdout",
     "output_type": "stream",
     "text": [
      "komal gautam\n"
     ]
    }
   ],
   "source": [
    "s=name[:]#0->end\n",
    "print(s)"
   ]
  },
  {
   "cell_type": "code",
   "execution_count": 21,
   "metadata": {},
   "outputs": [
    {
     "name": "stdout",
     "output_type": "stream",
     "text": [
      "matuag lamok\n"
     ]
    }
   ],
   "source": [
    "s=name[::-1]#reverse\n",
    "print(s)"
   ]
  },
  {
   "cell_type": "code",
   "execution_count": 20,
   "metadata": {},
   "outputs": [
    {
     "name": "stdout",
     "output_type": "stream",
     "text": [
      "mta ao\n"
     ]
    }
   ],
   "source": [
    "s=name[::-2]\n",
    "print(s)"
   ]
  },
  {
   "cell_type": "code",
   "execution_count": 54,
   "metadata": {},
   "outputs": [
    {
     "name": "stdout",
     "output_type": "stream",
     "text": [
      "wikipedia\n"
     ]
    }
   ],
   "source": [
    "w1=\"wikinews\"\n",
    "w2=\"encylopedia\"\n",
    "w3=w1[:4]+w2[-5:]\n",
    "print(w3)"
   ]
  },
  {
   "cell_type": "markdown",
   "metadata": {},
   "source": [
    "# String function \n",
    "- formatting\n",
    "  - upper\n",
    "  - lower\n",
    "  - title\n",
    "  - capitalize\n",
    "  \n",
    "  - swapcase \n",
    "  - casefold\n",
    "  - format \n",
    "  - ljust\n",
    "  - rjust\n",
    "  - center \n",
    "- validation \n",
    "   - isalpha\n",
    "   - isalnum\n",
    "   - isdigit \n",
    "   - isnummeric \n",
    "   - isprintable\n",
    "   - isupper\n",
    "   - islower\n",
    "   - startwith\n",
    "   - endswith\n",
    "   - etc.,\n",
    "- utility\n",
    "   - count\n",
    "   - replace\n",
    "   - strip\n",
    "   -  join \n",
    "   - split"
   ]
  },
  {
   "cell_type": "code",
   "execution_count": 40,
   "metadata": {},
   "outputs": [
    {
     "name": "stdout",
     "output_type": "stream",
     "text": [
      "this________is__________me_komal\n"
     ]
    }
   ],
   "source": [
    "junk_str= \"this!@#$%^&*is()_+{}|:>?me<komal\"\n",
    "pun=\"!@#$%^&*()_+{}|:?><\"\n",
    "for char in pun:\n",
    "    junk_str=junk_str.replace(char,\"_\")\n",
    "print(junk_str)"
   ]
  },
  {
   "cell_type": "code",
   "execution_count": 2,
   "metadata": {},
   "outputs": [],
   "source": [
    "quote = \"life before death ,hopes before despair , journey before destination \""
   ]
  },
  {
   "cell_type": "markdown",
   "metadata": {},
   "source": [
    "# remove all \"a\" character from the quote "
   ]
  },
  {
   "cell_type": "code",
   "execution_count": 27,
   "metadata": {},
   "outputs": [
    {
     "data": {
      "text/plain": [
       "'life before deth,hpes before despir, journey before destintion'"
      ]
     },
     "execution_count": 27,
     "metadata": {},
     "output_type": "execute_result"
    }
   ],
   "source": [
    "quote.replace(\"a\",\"\")"
   ]
  },
  {
   "cell_type": "markdown",
   "metadata": {},
   "source": [
    "### remove all the vowels from the string "
   ]
  },
  {
   "cell_type": "code",
   "execution_count": 39,
   "metadata": {},
   "outputs": [
    {
     "name": "stdout",
     "output_type": "stream",
     "text": [
      "original life before death,hpes before despair, journey before destination\n",
      "no vowels lf bfr dth,hps bfr dspr, jrny bfr dstntn\n"
     ]
    }
   ],
   "source": [
    "q=quote\n",
    "\n",
    "for k in \"aeiou\":\n",
    "   q=q.replace(k,\"\")\n",
    "print(\"original\",quote)\n",
    "print(\"no vowels\",q)"
   ]
  },
  {
   "cell_type": "markdown",
   "metadata": {},
   "source": [
    "### count  all the special character "
   ]
  },
  {
   "cell_type": "code",
   "execution_count": null,
   "metadata": {},
   "outputs": [],
   "source": []
  },
  {
   "cell_type": "markdown",
   "metadata": {},
   "source": [
    "### count all the charcter in a string"
   ]
  },
  {
   "cell_type": "code",
   "execution_count": 42,
   "metadata": {},
   "outputs": [
    {
     "data": {
      "text/plain": [
       "12"
      ]
     },
     "execution_count": 42,
     "metadata": {},
     "output_type": "execute_result"
    }
   ],
   "source": [
    "quote.count(\"e\")"
   ]
  },
  {
   "cell_type": "code",
   "execution_count": 53,
   "metadata": {},
   "outputs": [
    {
     "name": "stdout",
     "output_type": "stream",
     "text": [
      "abcdefghijklmnopqrstuvwxyz\n",
      "a->3\n",
      "b->3\n",
      "d->3\n",
      "e->12\n",
      "f->4\n",
      "h->2\n",
      "i->4\n",
      "j->1\n",
      "l->1\n",
      "n->3\n",
      "o->5\n",
      "p->2\n",
      "r->5\n",
      "s->3\n",
      "t->3\n",
      "u->1\n",
      "y->1\n"
     ]
    }
   ],
   "source": [
    "from string import ascii_lowercase\n",
    "print(ascii_lowercase)\n",
    "for letter in ascii_lowercase:\n",
    "    occurs=quote.lower().count(letter)\n",
    "    if occurs:\n",
    "       print(f\"{letter}->{occurs}\")"
   ]
  },
  {
   "cell_type": "markdown",
   "metadata": {},
   "source": [
    "### write a program to count all the words in a string "
   ]
  },
  {
   "cell_type": "code",
   "execution_count": 62,
   "metadata": {},
   "outputs": [
    {
     "ename": "TypeError",
     "evalue": "'ends' is an invalid keyword argument for print()",
     "output_type": "error",
     "traceback": [
      "\u001b[1;31m---------------------------------------------------------------------------\u001b[0m",
      "\u001b[1;31mTypeError\u001b[0m                                 Traceback (most recent call last)",
      "\u001b[1;32mc:\\Users\\samsa\\OneDrive\\Documents\\GitHub\\python-course\\string.ipynb Cell 36'\u001b[0m in \u001b[0;36m<module>\u001b[1;34m\u001b[0m\n\u001b[0;32m      <a href='vscode-notebook-cell:/c%3A/Users/samsa/OneDrive/Documents/GitHub/python-course/string.ipynb#ch0000036?line=1'>2</a>\u001b[0m \u001b[39mfor\u001b[39;00m i \u001b[39min\u001b[39;00m quote :\n\u001b[0;32m      <a href='vscode-notebook-cell:/c%3A/Users/samsa/OneDrive/Documents/GitHub/python-course/string.ipynb#ch0000036?line=2'>3</a>\u001b[0m     \u001b[39mif\u001b[39;00m i \u001b[39m!=\u001b[39m\u001b[39m\"\u001b[39m\u001b[39m \u001b[39m\u001b[39m\"\u001b[39m:\n\u001b[1;32m----> <a href='vscode-notebook-cell:/c%3A/Users/samsa/OneDrive/Documents/GitHub/python-course/string.ipynb#ch0000036?line=3'>4</a>\u001b[0m         \u001b[39mprint\u001b[39;49m(\u001b[39m\"\u001b[39;49m\u001b[39m\"\u001b[39;49m,ends\u001b[39m=\u001b[39;49m\u001b[39m\"\u001b[39;49m\u001b[39m\"\u001b[39;49m)\n\u001b[0;32m      <a href='vscode-notebook-cell:/c%3A/Users/samsa/OneDrive/Documents/GitHub/python-course/string.ipynb#ch0000036?line=5'>6</a>\u001b[0m     \u001b[39melse\u001b[39;00m:\n\u001b[0;32m      <a href='vscode-notebook-cell:/c%3A/Users/samsa/OneDrive/Documents/GitHub/python-course/string.ipynb#ch0000036?line=6'>7</a>\u001b[0m         count\u001b[39m=\u001b[39mcount\u001b[39m+\u001b[39m\u001b[39m1\u001b[39m\n",
      "\u001b[1;31mTypeError\u001b[0m: 'ends' is an invalid keyword argument for print()"
     ]
    }
   ],
   "source": [
    "count =0\n",
    "for i in quote :\n",
    "    if i !=\" \":\n",
    "        print(\"\",ends=\"\")\n",
    "\n",
    "    else:\n",
    "        count=count+1\n",
    "print(\"the \",count)"
   ]
  },
  {
   "cell_type": "code",
   "execution_count": 64,
   "metadata": {},
   "outputs": [
    {
     "name": "stdout",
     "output_type": "stream",
     "text": [
      "we have  8 word\n"
     ]
    }
   ],
   "source": [
    "words=quote.split()\n",
    "print(\"we have \",len(words),\"word\")\n"
   ]
  },
  {
   "cell_type": "code",
   "execution_count": 72,
   "metadata": {},
   "outputs": [
    {
     "data": {
      "text/plain": [
       "['life before death ', 'hopes before despair ', ' journey before destination ']"
      ]
     },
     "execution_count": 72,
     "metadata": {},
     "output_type": "execute_result"
    }
   ],
   "source": [
    "quote.split(\",\")"
   ]
  },
  {
   "cell_type": "code",
   "execution_count": 74,
   "metadata": {},
   "outputs": [
    {
     "data": {
      "text/plain": [
       "['lif',\n",
       " ' b',\n",
       " 'for',\n",
       " ' d',\n",
       " 'ath ,hop',\n",
       " 's b',\n",
       " 'for',\n",
       " ' d',\n",
       " 'spair , journ',\n",
       " 'y b',\n",
       " 'for',\n",
       " ' d',\n",
       " 'stination ']"
      ]
     },
     "execution_count": 74,
     "metadata": {},
     "output_type": "execute_result"
    }
   ],
   "source": [
    "quote.split(\"e\")"
   ]
  },
  {
   "cell_type": "code",
   "execution_count": 3,
   "metadata": {},
   "outputs": [
    {
     "data": {
      "text/plain": [
       "'life before death ,hopes before despair , journey before destination '"
      ]
     },
     "execution_count": 3,
     "metadata": {},
     "output_type": "execute_result"
    }
   ],
   "source": [
    "quote"
   ]
  },
  {
   "cell_type": "code",
   "execution_count": 4,
   "metadata": {},
   "outputs": [],
   "source": [
    "qu=quote.upper()"
   ]
  },
  {
   "cell_type": "code",
   "execution_count": 5,
   "metadata": {},
   "outputs": [
    {
     "name": "stdout",
     "output_type": "stream",
     "text": [
      "LIFE BEFORE DEATH ,HOPES BEFORE DESPAIR , JOURNEY BEFORE DESTINATION \n"
     ]
    }
   ],
   "source": [
    "print(qu)"
   ]
  },
  {
   "cell_type": "code",
   "execution_count": 6,
   "metadata": {},
   "outputs": [
    {
     "data": {
      "text/plain": [
       "'life before death ,hopes before despair , journey before destination '"
      ]
     },
     "execution_count": 6,
     "metadata": {},
     "output_type": "execute_result"
    }
   ],
   "source": [
    "quote.lower()"
   ]
  },
  {
   "cell_type": "markdown",
   "metadata": {},
   "source": []
  },
  {
   "cell_type": "code",
   "execution_count": 7,
   "metadata": {},
   "outputs": [
    {
     "data": {
      "text/plain": [
       "'Life Before Death ,Hopes Before Despair , Journey Before Destination '"
      ]
     },
     "execution_count": 7,
     "metadata": {},
     "output_type": "execute_result"
    }
   ],
   "source": [
    "quote.title()"
   ]
  },
  {
   "cell_type": "code",
   "execution_count": 10,
   "metadata": {},
   "outputs": [
    {
     "data": {
      "text/plain": [
       "'LIFE BEFORE DEATH ,HOPES BEFORE DESPAIR , JOURNEY BEFORE DESTINATION '"
      ]
     },
     "execution_count": 10,
     "metadata": {},
     "output_type": "execute_result"
    }
   ],
   "source": [
    "quote.swapcase()\n"
   ]
  },
  {
   "cell_type": "markdown",
   "metadata": {},
   "source": [
    "### Wap to take user input and check the data ,if the data is numeric , convert it to number else the data is alphanumeric then extract only  numbers and convert it \n",
    "\n",
    " "
   ]
  },
  {
   "cell_type": "code",
   "execution_count": 15,
   "metadata": {},
   "outputs": [
    {
     "name": "stdout",
     "output_type": "stream",
     "text": [
      "data converted to number 789\n"
     ]
    }
   ],
   "source": [
    "data =input (\"please enter some data :\")\n",
    "if data.isnumeric():\n",
    "    num=int (data)\n",
    "    print(\"dATA CONVERTED TO NUMBER :\",num)\n",
    "elif data .isalnum():\n",
    "    temp=\"\"\n",
    "    for char in data:\n",
    "        if char.isnumeric ():\n",
    "            temp+=char\n",
    "    if temp:\n",
    "        num =int(temp)\n",
    "        print(\"data converted to number\",num)\n",
    "    else:\n",
    "            print(\"data is only aplhabets\") \n",
    "else :\n",
    "        print(\"dATA is werid \")"
   ]
  },
  {
   "cell_type": "markdown",
   "metadata": {},
   "source": [
    "## WRITE A SIMPLE PROGRAM TEXT MENU BASED CALCULATOR FOR DOING BASIC OPTION LIKE ADDITION ,SUBSTRACTION ,MULTIPLICATION\n"
   ]
  },
  {
   "cell_type": "code",
   "execution_count": 20,
   "metadata": {},
   "outputs": [
    {
     "name": "stdout",
     "output_type": "stream",
     "text": [
      "here is boring calcultor menu\n",
      "1. add number \n",
      "2. substact\n",
      "3. multiplication\n",
      "difference is : 110\n",
      "invalid choice |\n"
     ]
    }
   ],
   "source": [
    "print(\"here is boring calcultor menu\")\n",
    "print(\"1. add number \")\n",
    "print(\"2. substact\")\n",
    "print(\"3. multiplication\")\n",
    "ch=input(\"please , enter your choice :\")\n",
    "if ch=='1':\n",
    "    num1=int(input(\"enter first number :\"))\n",
    "    num2=int(input(\"enter second number:\"))\n",
    "    print(\"difference is :\",num1+num2)\n",
    "elif ch==\"2\":\n",
    "    num1=int(input(\"enter first number :\"))\n",
    "    num2=int(input(\"enter second number:\"))\n",
    "    print(\"difference is :\",num1-num2)\n",
    "elif ch==\"3\":\n",
    "    num1=int(input(\"enter first number:\"))\n",
    "    num2=int(input(\"enter second number:\"))\n",
    "    print(\"difference is :\",num1*num2)\n",
    "yelse : print (\"invalid choice |\")"
   ]
  },
  {
   "cell_type": "markdown",
   "metadata": {},
   "source": [
    "## String is immutable\n"
   ]
  },
  {
   "cell_type": "code",
   "execution_count": 21,
   "metadata": {},
   "outputs": [],
   "source": [
    "nume= \"adolin\""
   ]
  },
  {
   "cell_type": "code",
   "execution_count": 22,
   "metadata": {},
   "outputs": [
    {
     "ename": "NameError",
     "evalue": "name 'name' is not defined",
     "output_type": "error",
     "traceback": [
      "\u001b[1;31m---------------------------------------------------------------------------\u001b[0m",
      "\u001b[1;31mNameError\u001b[0m                                 Traceback (most recent call last)",
      "\u001b[1;32mc:\\Users\\samsa\\OneDrive\\Documents\\GitHub\\python-course\\string.ipynb Cell 53'\u001b[0m in \u001b[0;36m<module>\u001b[1;34m\u001b[0m\n\u001b[1;32m----> <a href='vscode-notebook-cell:/c%3A/Users/samsa/OneDrive/Documents/GitHub/python-course/string.ipynb#ch0000049?line=0'>1</a>\u001b[0m name[\u001b[39m3\u001b[39m]\u001b[39m=\u001b[39m\u001b[39m\"\u001b[39m\u001b[39mk\u001b[39m\u001b[39m\"\u001b[39m\n",
      "\u001b[1;31mNameError\u001b[0m: name 'name' is not defined"
     ]
    }
   ],
   "source": [
    "\n",
    "name[3]=\"k\""
   ]
  },
  {
   "cell_type": "code",
   "execution_count": null,
   "metadata": {},
   "outputs": [],
   "source": [
    "\n"
   ]
  },
  {
   "cell_type": "code",
   "execution_count": null,
   "metadata": {},
   "outputs": [],
   "source": []
  }
 ],
 "metadata": {
  "interpreter": {
   "hash": "feb5410b972a84561cf38b0fe3aceb480d942002c0e798026e87d39a79c73f3a"
  },
  "kernelspec": {
   "display_name": "Python 3.9.7 64-bit",
   "language": "python",
   "name": "python3"
  },
  "language_info": {
   "codemirror_mode": {
    "name": "ipython",
    "version": 3
   },
   "file_extension": ".py",
   "mimetype": "text/x-python",
   "name": "python",
   "nbconvert_exporter": "python",
   "pygments_lexer": "ipython3",
   "version": "3.9.5"
  },
  "orig_nbformat": 4
 },
 "nbformat": 4,
 "nbformat_minor": 2
}
