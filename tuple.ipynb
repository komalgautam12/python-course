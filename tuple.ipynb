{
 "cells": [
  {
   "cell_type": "code",
   "execution_count": 2,
   "metadata": {},
   "outputs": [],
   "source": [
    "x=(1,2,3,4,5,6,7,8,9,10)\n"
   ]
  },
  {
   "cell_type": "code",
   "execution_count": 3,
   "metadata": {},
   "outputs": [
    {
     "name": "stdout",
     "output_type": "stream",
     "text": [
      "1 10 7\n"
     ]
    }
   ],
   "source": [
    "print(x[0],x[-1],x[6])\n"
   ]
  },
  {
   "cell_type": "code",
   "execution_count": 4,
   "metadata": {},
   "outputs": [
    {
     "name": "stdout",
     "output_type": "stream",
     "text": [
      "first five  (1, 2, 3, 4, 5)\n",
      "last five  (6, 7, 8, 9, 10)\n",
      "reverse (10, 9, 8, 7, 6, 5, 4, 3, 2, 1)\n"
     ]
    }
   ],
   "source": [
    "print(\"first five \",x[:5])\n",
    "print(\"last five \", x[-5:])\n",
    "print(\"reverse\",x[::-1])"
   ]
  },
  {
   "cell_type": "code",
   "execution_count": 5,
   "metadata": {},
   "outputs": [
    {
     "name": "stdout",
     "output_type": "stream",
     "text": [
      "[1, 2, 5, 4, 6]\n",
      "[10, 2, 5, 4, 6]\n"
     ]
    }
   ],
   "source": [
    "y=[1,2,5,4,6]\n",
    "\n",
    "print(y)\n",
    "y[0]=10# update \n",
    "print(y)\n"
   ]
  },
  {
   "cell_type": "code",
   "execution_count": 6,
   "metadata": {},
   "outputs": [
    {
     "data": {
      "text/plain": [
       "2"
      ]
     },
     "execution_count": 6,
     "metadata": {},
     "output_type": "execute_result"
    }
   ],
   "source": [
    "y.index(5)"
   ]
  },
  {
   "cell_type": "code",
   "execution_count": 8,
   "metadata": {},
   "outputs": [
    {
     "name": "stdout",
     "output_type": "stream",
     "text": [
      "4\n"
     ]
    }
   ],
   "source": [
    "if 6 in y:\n",
    "   print( y.index(6))\n",
    "else :\n",
    "    print(\" 6 is not present in y\")\n",
    "\n"
   ]
  },
  {
   "cell_type": "code",
   "execution_count": 9,
   "metadata": {},
   "outputs": [
    {
     "name": "stdout",
     "output_type": "stream",
     "text": [
      "1\n",
      "0\n",
      "1\n",
      "2\n"
     ]
    }
   ],
   "source": [
    "x=(11,2,4,5,6,76,2,3,4,5,6,7,8,9)\n",
    "print(x.count(3))\n",
    "print(x.count(1))\n",
    "print(x.count(11))\n",
    "print(x.count(5))"
   ]
  },
  {
   "cell_type": "markdown",
   "metadata": {},
   "source": [
    "### conversion from list to tuple and vice versa"
   ]
  },
  {
   "cell_type": "code",
   "execution_count": 10,
   "metadata": {},
   "outputs": [
    {
     "name": "stdout",
     "output_type": "stream",
     "text": [
      "[1, 2, 3, 4, 5, 6, 7, 8, 9, 0] <class 'list'>\n",
      "(1, 2, 3, 4, 5, 6, 7, 8, 9, 0) <class 'tuple'>\n"
     ]
    }
   ],
   "source": [
    "x=[1,2,3,4,5,6,7,8,9,0]\n",
    "xt=tuple(x)\n",
    "print(x,type(x))\n",
    "print(xt,type(xt))"
   ]
  },
  {
   "cell_type": "code",
   "execution_count": 11,
   "metadata": {},
   "outputs": [
    {
     "name": "stdout",
     "output_type": "stream",
     "text": [
      "(1, 2, 3, 4, 5, 6, 7, 8, 9, 0) <class 'tuple'>\n",
      "[1, 2, 3, 4, 5, 6, 7, 8, 9, 0] <class 'list'>\n"
     ]
    }
   ],
   "source": [
    "x1=list(xt)\n",
    "print(xt,type(xt))\n",
    "print(x1,type(x1))"
   ]
  },
  {
   "cell_type": "code",
   "execution_count": 13,
   "metadata": {},
   "outputs": [
    {
     "name": "stdout",
     "output_type": "stream",
     "text": [
      "valhalla\n",
      "['v', 'a', 'l', 'h', 'a', 'l', 'l', 'a']\n",
      "('v', 'a', 'l', 'h', 'a', 'l', 'l', 'a')\n"
     ]
    }
   ],
   "source": [
    "word=\"valhalla\"\n",
    "word_char_list=list(word)\n",
    "word_char_tuple=tuple(word)\n",
    "print(word)\n",
    "print(word_char_list)\n",
    "print(word_char_tuple)\n"
   ]
  },
  {
   "cell_type": "code",
   "execution_count": null,
   "metadata": {},
   "outputs": [],
   "source": []
  }
 ],
 "metadata": {
  "interpreter": {
   "hash": "feb5410b972a84561cf38b0fe3aceb480d942002c0e798026e87d39a79c73f3a"
  },
  "kernelspec": {
   "display_name": "Python 3.9.7 64-bit",
   "language": "python",
   "name": "python3"
  },
  "language_info": {
   "codemirror_mode": {
    "name": "ipython",
    "version": 3
   },
   "file_extension": ".py",
   "mimetype": "text/x-python",
   "name": "python",
   "nbconvert_exporter": "python",
   "pygments_lexer": "ipython3",
   "version": "3.9.7"
  },
  "orig_nbformat": 4
 },
 "nbformat": 4,
 "nbformat_minor": 2
}
