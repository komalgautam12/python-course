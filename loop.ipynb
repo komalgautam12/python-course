{
 "cells": [
  {
   "cell_type": "markdown",
   "metadata": {},
   "source": [
    "# loop\n"
   ]
  },
  {
   "cell_type": "code",
   "execution_count": 6,
   "metadata": {},
   "outputs": [
    {
     "name": "stdout",
     "output_type": "stream",
     "text": [
      "p\n",
      "y\n",
      "t\n",
      "h\n",
      "o\n",
      "n\n",
      " \n",
      "i\n",
      "s\n",
      " \n",
      "a\n",
      "w\n",
      "e\n",
      "s\n",
      "o\n",
      "m\n",
      "e\n",
      " \n"
     ]
    }
   ],
   "source": [
    "x=\"python is awesome \"\n",
    "for i in x:\n",
    "    print(i)\n"
   ]
  },
  {
   "cell_type": "code",
   "execution_count": 1,
   "metadata": {},
   "outputs": [
    {
     "name": "stdout",
     "output_type": "stream",
     "text": [
      "i have apple\n",
      "i have banana\n",
      "i have lemon\n"
     ]
    }
   ],
   "source": [
    "fruits= [\"apple\",\"banana\",\"lemon\"]\n",
    "for item in fruits:\n",
    "    print(f\"i have {item}\")"
   ]
  },
  {
   "cell_type": "code",
   "execution_count": 7,
   "metadata": {},
   "outputs": [],
   "source": [
    "movies=[\"the holy grail\",\"the life of grain \",\"the meaning of life \",\"terminator\",\"pulp fiction \"]"
   ]
  },
  {
   "cell_type": "code",
   "execution_count": 8,
   "metadata": {},
   "outputs": [
    {
     "name": "stdout",
     "output_type": "stream",
     "text": [
      "the holy grail 14\n",
      "the life of grain  18\n",
      "the meaning of life  20\n",
      "terminator 10\n",
      "pulp fiction  13\n"
     ]
    }
   ],
   "source": [
    "for movie in movies:\n",
    "    print(movie,len(movie))\n"
   ]
  },
  {
   "cell_type": "markdown",
   "metadata": {},
   "source": [
    "## for loop with counter "
   ]
  },
  {
   "cell_type": "code",
   "execution_count": 9,
   "metadata": {},
   "outputs": [
    {
     "name": "stdout",
     "output_type": "stream",
     "text": [
      "0-the holy grail\n",
      "1-the life of grain \n",
      "2-the meaning of life \n",
      "3-terminator\n",
      "4-pulp fiction \n"
     ]
    }
   ],
   "source": [
    "for i ,name in enumerate (movies):\n",
    "    print(f\"{i}-{name}\")"
   ]
  },
  {
   "cell_type": "markdown",
   "metadata": {},
   "source": [
    "## range() function"
   ]
  },
  {
   "cell_type": "code",
   "execution_count": 10,
   "metadata": {},
   "outputs": [
    {
     "name": "stdout",
     "output_type": "stream",
     "text": [
      "you got point  0\n",
      "you got point  1\n",
      "you got point  2\n",
      "you got point  3\n",
      "you got point  4\n",
      "you got point  5\n"
     ]
    }
   ],
   "source": [
    "for i in range (6):\n",
    "    print(\"you got point \",i)"
   ]
  },
  {
   "cell_type": "code",
   "execution_count": 11,
   "metadata": {},
   "outputs": [
    {
     "name": "stdout",
     "output_type": "stream",
     "text": [
      "level 1\n",
      "level 4\n",
      "level 7\n"
     ]
    }
   ],
   "source": [
    "for num in range(1,10,3):\n",
    "    print(\"level\",num) "
   ]
  },
  {
   "cell_type": "code",
   "execution_count": 13,
   "metadata": {},
   "outputs": [
    {
     "name": "stdout",
     "output_type": "stream",
     "text": [
      "level 2\n",
      "level 3\n",
      "level 4\n",
      "level 5\n",
      "level 6\n",
      "level 7\n",
      "level 8\n",
      "level 9\n",
      "level 10\n",
      "level 11\n",
      "level 12\n",
      "level 13\n",
      "level 14\n",
      "level 15\n",
      "level 16\n",
      "level 17\n",
      "level 18\n",
      "level 19\n",
      "level 20\n",
      "level 21\n",
      "level 22\n",
      "level 23\n",
      "level 24\n",
      "level 25\n",
      "level 26\n",
      "level 27\n",
      "level 28\n",
      "level 29\n",
      "level 30\n",
      "level 31\n",
      "level 32\n",
      "level 33\n",
      "level 34\n",
      "level 35\n",
      "level 36\n",
      "level 37\n",
      "level 38\n",
      "level 39\n",
      "level 40\n",
      "level 41\n",
      "level 42\n",
      "level 43\n"
     ]
    }
   ],
   "source": [
    "for num in range (2,44):\n",
    "    print (\"level\",num)"
   ]
  },
  {
   "cell_type": "markdown",
   "metadata": {},
   "source": [
    "## reverse loop"
   ]
  },
  {
   "cell_type": "code",
   "execution_count": 15,
   "metadata": {},
   "outputs": [
    {
     "name": "stdout",
     "output_type": "stream",
     "text": [
      "10\n",
      "9\n",
      "8\n",
      "7\n",
      "6\n"
     ]
    }
   ],
   "source": [
    "for num in range (10,5,-1):\n",
    "    print(num)"
   ]
  },
  {
   "cell_type": "markdown",
   "metadata": {},
   "source": [
    "### pattern loop"
   ]
  },
  {
   "cell_type": "code",
   "execution_count": 19,
   "metadata": {},
   "outputs": [
    {
     "name": "stdout",
     "output_type": "stream",
     "text": [
      "\n",
      "Na\n",
      "NaNa\n",
      "NaNaNa\n",
      "NaNaNaNa\n",
      "NaNaNaNaNa\n",
      "NaNaNaNaNaNa\n",
      "NaNaNaNaNaNaNa\n",
      "NaNaNaNaNaNaNaNa\n",
      "NaNaNaNaNaNaNaNaNa\n"
     ]
    }
   ],
   "source": [
    "for i in range (10):\n",
    "   print (i*\"Na\")"
   ]
  },
  {
   "cell_type": "code",
   "execution_count": 25,
   "metadata": {},
   "outputs": [
    {
     "name": "stdout",
     "output_type": "stream",
     "text": [
      "\n",
      "koaml\n",
      "koamlkoaml\n",
      "koamlkoamlkoaml\n",
      "koamlkoamlkoamlkoaml\n"
     ]
    }
   ],
   "source": [
    "for  i in  range (5):\n",
    "   print(i*\"koaml\")"
   ]
  },
  {
   "cell_type": "markdown",
   "metadata": {},
   "source": [
    "### 1. wap to print if number are even or odd from 1,100\n",
    "### 2. wap to print the sum of all even number from 2 to 100\n",
    "### 3.wap to print the average of all odd number from 1 to 100"
   ]
  },
  {
   "cell_type": "markdown",
   "metadata": {},
   "source": [
    "### 1.\n"
   ]
  },
  {
   "cell_type": "code",
   "execution_count": 10,
   "metadata": {},
   "outputs": [
    {
     "name": "stdout",
     "output_type": "stream",
     "text": [
      "number is odd  1\n",
      "number is even 2\n",
      "number is odd  3\n",
      "number is even 4\n",
      "number is odd  5\n",
      "number is even 6\n",
      "number is odd  7\n",
      "number is even 8\n",
      "number is odd  9\n",
      "number is even 10\n",
      "number is odd  11\n",
      "number is even 12\n",
      "number is odd  13\n",
      "number is even 14\n",
      "number is odd  15\n",
      "number is even 16\n",
      "number is odd  17\n",
      "number is even 18\n",
      "number is odd  19\n",
      "number is even 20\n",
      "number is odd  21\n",
      "number is even 22\n",
      "number is odd  23\n",
      "number is even 24\n",
      "number is odd  25\n",
      "number is even 26\n",
      "number is odd  27\n",
      "number is even 28\n",
      "number is odd  29\n",
      "number is even 30\n",
      "number is odd  31\n",
      "number is even 32\n",
      "number is odd  33\n",
      "number is even 34\n",
      "number is odd  35\n",
      "number is even 36\n",
      "number is odd  37\n",
      "number is even 38\n",
      "number is odd  39\n",
      "number is even 40\n",
      "number is odd  41\n",
      "number is even 42\n",
      "number is odd  43\n",
      "number is even 44\n",
      "number is odd  45\n",
      "number is even 46\n",
      "number is odd  47\n",
      "number is even 48\n",
      "number is odd  49\n",
      "number is even 50\n",
      "number is odd  51\n",
      "number is even 52\n",
      "number is odd  53\n",
      "number is even 54\n",
      "number is odd  55\n",
      "number is even 56\n",
      "number is odd  57\n",
      "number is even 58\n",
      "number is odd  59\n",
      "number is even 60\n",
      "number is odd  61\n",
      "number is even 62\n",
      "number is odd  63\n",
      "number is even 64\n",
      "number is odd  65\n",
      "number is even 66\n",
      "number is odd  67\n",
      "number is even 68\n",
      "number is odd  69\n",
      "number is even 70\n",
      "number is odd  71\n",
      "number is even 72\n",
      "number is odd  73\n",
      "number is even 74\n",
      "number is odd  75\n",
      "number is even 76\n",
      "number is odd  77\n",
      "number is even 78\n",
      "number is odd  79\n",
      "number is even 80\n",
      "number is odd  81\n",
      "number is even 82\n",
      "number is odd  83\n",
      "number is even 84\n",
      "number is odd  85\n",
      "number is even 86\n",
      "number is odd  87\n",
      "number is even 88\n",
      "number is odd  89\n",
      "number is even 90\n",
      "number is odd  91\n",
      "number is even 92\n",
      "number is odd  93\n",
      "number is even 94\n",
      "number is odd  95\n",
      "number is even 96\n",
      "number is odd  97\n",
      "number is even 98\n",
      "number is odd  99\n",
      "number is even 100\n"
     ]
    }
   ],
   "source": [
    "\n",
    "for i in range(1,101):\n",
    "    if i%2==0:\n",
    "        print(\"number is even\",i)\n",
    "    else:\n",
    "        print(\"number is odd \",i)\n",
    "\n"
   ]
  },
  {
   "cell_type": "markdown",
   "metadata": {},
   "source": [
    "### 2."
   ]
  },
  {
   "cell_type": "code",
   "execution_count": 2,
   "metadata": {},
   "outputs": [
    {
     "name": "stdout",
     "output_type": "stream",
     "text": [
      "2550\n"
     ]
    }
   ],
   "source": [
    "sum=0\n",
    "for i in range (2,101):\n",
    "    if i%2==0:\n",
    "        sum=sum+i\n",
    "print(sum)\n"
   ]
  },
  {
   "cell_type": "markdown",
   "metadata": {},
   "source": [
    "### 3."
   ]
  },
  {
   "cell_type": "code",
   "execution_count": 1,
   "metadata": {},
   "outputs": [
    {
     "name": "stdout",
     "output_type": "stream",
     "text": [
      "50.0\n"
     ]
    }
   ],
   "source": [
    "sum=0\n",
    "count =0\n",
    "for i in range (1,100):\n",
    "    if i%2!=0:\n",
    "        sum=sum+i\n",
    "        count=count+1\n",
    "\n",
    "print(sum/count)"
   ]
  },
  {
   "cell_type": "code",
   "execution_count": 21,
   "metadata": {},
   "outputs": [
    {
     "name": "stdout",
     "output_type": "stream",
     "text": [
      "1,2,3,4,5\n",
      "2,4,6,8,10\n",
      "3,6,9,12,15\n",
      "4,8,12,16,20\n",
      "5,10,15,20,25\n"
     ]
    }
   ],
   "source": [
    "for i in range (1,6):\n",
    "    print(1*i,2*i,3*i,4*i,5*i,sep=\",\")"
   ]
  },
  {
   "cell_type": "code",
   "execution_count": 25,
   "metadata": {},
   "outputs": [
    {
     "name": "stdout",
     "output_type": "stream",
     "text": [
      "1   2   3   4   5   \n",
      "2   4   6   8   10   \n",
      "3   6   9   12   15   \n",
      "4   8   12   16   20   \n",
      "5   10   15   20   25   \n"
     ]
    }
   ],
   "source": [
    "\n",
    "for i in range (1,6):\n",
    "    for k in range (1,6):\n",
    "        print(i*k,end=\"   \")\n",
    "    print()"
   ]
  },
  {
   "cell_type": "code",
   "execution_count": 26,
   "metadata": {},
   "outputs": [
    {
     "name": "stdout",
     "output_type": "stream",
     "text": [
      "1 2 3 4 5\n",
      "2 4 6 8 10\n",
      "3 6 9 12 15\n",
      "4 8 12 16 20\n",
      "5 10 15 20 25\n"
     ]
    }
   ],
   "source": [
    "print(1,2,3,4,5 ,sep=\" \")\n",
    "print(2,4,6,8,10 ,sep=\" \")\n",
    "print(3,6,9,12,15,sep=\" \")\n",
    "print(4,8,12,16,20 ,sep=\" \")\n",
    "print(5,10,15,20,25 ,sep=\" \")"
   ]
  },
  {
   "cell_type": "markdown",
   "metadata": {},
   "source": [
    "# while loop"
   ]
  },
  {
   "cell_type": "markdown",
   "metadata": {},
   "source": [
    "### example of while loop"
   ]
  },
  {
   "cell_type": "code",
   "execution_count": 27,
   "metadata": {},
   "outputs": [
    {
     "name": "stdout",
     "output_type": "stream",
     "text": [
      "run\n",
      "run\n",
      "run\n",
      "run\n",
      "stop\n"
     ]
    }
   ],
   "source": [
    "x=1\n",
    "while x<5:\n",
    "    print(\"run\")\n",
    "    x=x+1\n",
    "print(\"stop\")"
   ]
  },
  {
   "cell_type": "code",
   "execution_count": 28,
   "metadata": {},
   "outputs": [
    {
     "name": "stdout",
     "output_type": "stream",
     "text": [
      " the sum is  55\n"
     ]
    }
   ],
   "source": [
    "n=10\n",
    "sum=0\n",
    "i=1\n",
    "while i<=n:\n",
    "    sum=sum+i\n",
    "    i=i+1\n",
    "print (\" the sum is \",sum)"
   ]
  },
  {
   "cell_type": "code",
   "execution_count": 32,
   "metadata": {},
   "outputs": [
    {
     "name": "stdout",
     "output_type": "stream",
     "text": [
      "total char in poem is 74\n"
     ]
    }
   ],
   "source": [
    "poem =\"\"\n",
    "while input(\"you want to write another line?[y,n]\")==\"y\":\n",
    "    line=input(\">>>\")\n",
    "    poem=poem+line\n",
    "chars =len(poem)\n",
    "print(f\"total char in poem is {chars}\")"
   ]
  },
  {
   "cell_type": "code",
   "execution_count": 33,
   "metadata": {},
   "outputs": [
    {
     "name": "stdout",
     "output_type": "stream",
     "text": [
      "there was aboy who went to complete bca from babu banarasi das university \n"
     ]
    }
   ],
   "source": [
    "print(poem)"
   ]
  },
  {
   "cell_type": "code",
   "execution_count": 48,
   "metadata": {},
   "outputs": [
    {
     "name": "stdout",
     "output_type": "stream",
     "text": [
      "total chars  39\n",
      "blah b lah blah \n",
      "cha cha vha \n",
      "lalalala\n",
      "\n"
     ]
    }
   ],
   "source": [
    "poem=\"\"\n",
    "while True:\n",
    "    line= input(\"enter poem line >>\")\n",
    "    if line:\n",
    "        poem+=line+\"\\n\"\n",
    "    else :\n",
    "        break\n",
    "print(\"total chars \",len(poem))\n",
    "print(poem)"
   ]
  },
  {
   "cell_type": "markdown",
   "metadata": {},
   "source": [
    "# break and continue keywords "
   ]
  },
  {
   "cell_type": "markdown",
   "metadata": {},
   "source": [
    "### continue"
   ]
  },
  {
   "cell_type": "code",
   "execution_count": 41,
   "metadata": {},
   "outputs": [
    {
     "name": "stdout",
     "output_type": "stream",
     "text": [
      "45\n"
     ]
    }
   ],
   "source": [
    "x=[1,2,'',3,4,5,'',6,7,8,'',9,10]\n",
    "total=0\n",
    "for i in x:\n",
    "    if isinstance(i,str):\n",
    "        continue\n",
    "    if i in [1,2,3,4]:\n",
    "        continue\n",
    "    total +=i\n",
    "print(total)"
   ]
  },
  {
   "cell_type": "code",
   "execution_count": 46,
   "metadata": {},
   "outputs": [
    {
     "name": "stdout",
     "output_type": "stream",
     "text": [
      "45\n"
     ]
    }
   ],
   "source": [
    "x=[1,2,'',3,4,5,'',6,7,8,'',9,10]\n",
    "total=0\n",
    "for i in x:\n",
    "   \n",
    "    if i in [1,2,3,4]:\n",
    "     continue\n",
    "    if isinstance(i,int):\n",
    "     total +=i\n",
    "    \n",
    "print(total)"
   ]
  },
  {
   "cell_type": "code",
   "execution_count": 49,
   "metadata": {},
   "outputs": [
    {
     "name": "stdout",
     "output_type": "stream",
     "text": [
      "total chars  38\n",
      "blaH BLAH BLAH\n",
      "LLLALALALA\n",
      "CHA HA CHA \n",
      "\n"
     ]
    }
   ],
   "source": [
    "poem=\"\"\n",
    "while True:\n",
    "    line= input(\"enter poem line >>\")\n",
    "    if line:\n",
    "        poem+=line+\"\\n\"\n",
    "    else :\n",
    "        break\n",
    "print(\"total chars \",len(poem))\n",
    "print(poem)"
   ]
  },
  {
   "cell_type": "code",
   "execution_count": null,
   "metadata": {},
   "outputs": [],
   "source": []
  }
 ],
 "metadata": {
  "interpreter": {
   "hash": "fed30e36df380b4e7b7d06a801b217955ec3fc3256658018197483620292ab6f"
  },
  "kernelspec": {
   "display_name": "Python 3.9.5 ('base')",
   "language": "python",
   "name": "python3"
  },
  "language_info": {
   "codemirror_mode": {
    "name": "ipython",
    "version": 3
   },
   "file_extension": ".py",
   "mimetype": "text/x-python",
   "name": "python",
   "nbconvert_exporter": "python",
   "pygments_lexer": "ipython3",
   "version": "3.7.4"
  },
  "orig_nbformat": 4
 },
 "nbformat": 4,
 "nbformat_minor": 2
}
