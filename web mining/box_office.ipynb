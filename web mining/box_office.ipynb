{
 "cells": [
  {
   "cell_type": "code",
   "execution_count": 2,
   "metadata": {},
   "outputs": [],
   "source": [
    "from bs4 import BeautifulSoup\n",
    "import requests\n",
    "import pandas as pd\n"
   ]
  },
  {
   "cell_type": "code",
   "execution_count": 3,
   "metadata": {},
   "outputs": [],
   "source": [
    "response=requests.get(\"https://www.imdb.com/chart/boxoffice/?ref_=nv_ch_cht\")"
   ]
  },
  {
   "cell_type": "code",
   "execution_count": 4,
   "metadata": {},
   "outputs": [
    {
     "data": {
      "text/plain": [
       "200"
      ]
     },
     "execution_count": 4,
     "metadata": {},
     "output_type": "execute_result"
    }
   ],
   "source": [
    "response.status_code"
   ]
  },
  {
   "cell_type": "code",
   "execution_count": 5,
   "metadata": {},
   "outputs": [],
   "source": [
    "soup=BeautifulSoup(response.text,'lxml')\n"
   ]
  },
  {
   "cell_type": "code",
   "execution_count": 6,
   "metadata": {},
   "outputs": [
    {
     "data": {
      "text/plain": [
       "<table class=\"chart full-width\" data-caller-name=\"chart-boxoffice\">\n",
       "<colgroup>\n",
       "<col class=\"chartTableColumnPoster\"/>\n",
       "<col class=\"chartTableColumnTitle\"/>\n",
       "<col class=\"chartTableGross\"/>\n",
       "<col class=\"chartTableGross\"/>\n",
       "<col class=\"chartTableWeeks\"/>\n",
       "<col class=\"chartTableColumnWatchlistRibbon\"/>\n",
       "</colgroup>\n",
       "<thead>\n",
       "<tr>\n",
       "<th></th>\n",
       "<th>Title</th>\n",
       "<th>Weekend</th>\n",
       "<th>Gross</th>\n",
       "<th>Weeks</th>\n",
       "<th></th>\n",
       "</tr>\n",
       "</thead>\n",
       "<tbody>\n",
       "<tr>\n",
       "<td class=\"posterColumn\">\n",
       "<a href=\"/title/tt4123432\"> <img alt=\"Fantastic Beasts: The Secrets of Dumbledore\" height=\"67\" src=\"https://m.media-amazon.com/images/M/MV5BZGQ1NjQyNDMtNzFlZS00ZGIzLTliMWUtNGJkMGMzNTBjNDg0XkEyXkFqcGdeQXVyMTE1NDI5MDQx._V1_UY67_CR0,0,45,67_AL_.jpg\" width=\"45\"/>\n",
       "</a> </td><td class=\"titleColumn\">\n",
       "<a href=\"/title/tt4123432\" title=\"David Yates (dir.), Eddie Redmayne, Jude Law\">Fantastic Beasts: The Secrets of Dumbledore</a>\n",
       "</td>\n",
       "<td class=\"ratingColumn\">\n",
       "                            $42.2M\n",
       "                    </td>\n",
       "<td class=\"ratingColumn\">\n",
       "<span class=\"secondaryInfo\">$42.2M</span>\n",
       "</td>\n",
       "<td class=\"weeksColumn\">1</td>\n",
       "<td class=\"watchlistColumn\"><div class=\"wlb_ribbon\" data-tconst=\"tt4123432\"></div></td>\n",
       "</tr>\n",
       "<tr>\n",
       "<td class=\"posterColumn\">\n",
       "<a href=\"/title/tt12412888\"> <img alt=\"Sonic the Hedgehog 2\" height=\"67\" src=\"https://m.media-amazon.com/images/M/MV5BNzAyNmEzNzQtYzQyMy00ZmY2LWIyOTctMDU2OTI5MzRiMmIyXkEyXkFqcGdeQXVyNzY1NTk4MTA@._V1_UY67_CR2,0,45,67_AL_.jpg\" width=\"45\"/>\n",
       "</a> </td><td class=\"titleColumn\">\n",
       "<a href=\"/title/tt12412888\" title=\"Jeff Fowler (dir.), James Marsden, Jim Carrey\">Sonic the Hedgehog 2</a>\n",
       "</td>\n",
       "<td class=\"ratingColumn\">\n",
       "                            $29.3M\n",
       "                    </td>\n",
       "<td class=\"ratingColumn\">\n",
       "<span class=\"secondaryInfo\">$118.9M</span>\n",
       "</td>\n",
       "<td class=\"weeksColumn\">2</td>\n",
       "<td class=\"watchlistColumn\"><div class=\"wlb_ribbon\" data-tconst=\"tt12412888\"></div></td>\n",
       "</tr>\n",
       "<tr>\n",
       "<td class=\"posterColumn\">\n",
       "<a href=\"/title/tt13320622\"> <img alt=\"The Lost City\" height=\"67\" src=\"https://m.media-amazon.com/images/M/MV5BMmIwYzFhODAtY2I1YS00ZDdmLTkyYWQtZjI5NDIwMDc2MjEyXkEyXkFqcGdeQXVyODk4OTc3MTY@._V1_UY67_CR0,0,45,67_AL_.jpg\" width=\"45\"/>\n",
       "</a> </td><td class=\"titleColumn\">\n",
       "<a href=\"/title/tt13320622\" title=\"Aaron Nee (dir.), Sandra Bullock, Channing Tatum\">The Lost City</a>\n",
       "</td>\n",
       "<td class=\"ratingColumn\">\n",
       "                            $6.2M\n",
       "                    </td>\n",
       "<td class=\"ratingColumn\">\n",
       "<span class=\"secondaryInfo\">$78.3M</span>\n",
       "</td>\n",
       "<td class=\"weeksColumn\">4</td>\n",
       "<td class=\"watchlistColumn\"><div class=\"wlb_ribbon\" data-tconst=\"tt13320622\"></div></td>\n",
       "</tr>\n",
       "<tr>\n",
       "<td class=\"posterColumn\">\n",
       "<a href=\"/title/tt6710474\"> <img alt=\"Everything Everywhere All at Once\" height=\"67\" src=\"https://m.media-amazon.com/images/M/MV5BYTdiOTIyZTQtNmQ1OS00NjZlLWIyMTgtYzk5Y2M3ZDVmMDk1XkEyXkFqcGdeQXVyMTAzMDg4NzU0._V1_UY67_CR0,0,45,67_AL_.jpg\" width=\"45\"/>\n",
       "</a> </td><td class=\"titleColumn\">\n",
       "<a href=\"/title/tt6710474\" title=\"Dan Kwan (dir.), Michelle Yeoh, Stephanie Hsu\">Everything Everywhere All at Once</a>\n",
       "</td>\n",
       "<td class=\"ratingColumn\">\n",
       "                            $6.2M\n",
       "                    </td>\n",
       "<td class=\"ratingColumn\">\n",
       "<span class=\"secondaryInfo\">$17.7M</span>\n",
       "</td>\n",
       "<td class=\"weeksColumn\">4</td>\n",
       "<td class=\"watchlistColumn\"><div class=\"wlb_ribbon\" data-tconst=\"tt6710474\"></div></td>\n",
       "</tr>\n",
       "<tr>\n",
       "<td class=\"posterColumn\">\n",
       "<a href=\"/title/tt14439896\"> <img alt=\"Father Stu\" height=\"67\" src=\"https://m.media-amazon.com/images/M/MV5BNGYwOTI1MTUtYmY0Mi00OTAxLTkwNDEtOTI5YTkyZTVhN2JiXkEyXkFqcGdeQXVyMTAxNDE3MTE5._V1_UY67_CR4,0,45,67_AL_.jpg\" width=\"45\"/>\n",
       "</a> </td><td class=\"titleColumn\">\n",
       "<a href=\"/title/tt14439896\" title=\"Rosalind Ross (dir.), Mark Wahlberg, Mel Gibson\">Father Stu</a>\n",
       "</td>\n",
       "<td class=\"ratingColumn\">\n",
       "                            $5.4M\n",
       "                    </td>\n",
       "<td class=\"ratingColumn\">\n",
       "<span class=\"secondaryInfo\">$7.7M</span>\n",
       "</td>\n",
       "<td class=\"weeksColumn\">1</td>\n",
       "<td class=\"watchlistColumn\"><div class=\"wlb_ribbon\" data-tconst=\"tt14439896\"></div></td>\n",
       "</tr>\n",
       "<tr>\n",
       "<td class=\"posterColumn\">\n",
       "<a href=\"/title/tt5108870\"> <img alt=\"Morbius\" height=\"67\" src=\"https://m.media-amazon.com/images/M/MV5BNWExYzEwY2UtZTNhYi00MDRjLTg4YzYtN2QzN2E3MjIwY2Q5XkEyXkFqcGdeQXVyMDA4NzMyOA@@._V1_UY67_CR0,0,45,67_AL_.jpg\" width=\"45\"/>\n",
       "</a> </td><td class=\"titleColumn\">\n",
       "<a href=\"/title/tt5108870\" title=\"Daniel Espinosa (dir.), Jared Leto, Matt Smith\">Morbius</a>\n",
       "</td>\n",
       "<td class=\"ratingColumn\">\n",
       "                            $4.7M\n",
       "                    </td>\n",
       "<td class=\"ratingColumn\">\n",
       "<span class=\"secondaryInfo\">$65.1M</span>\n",
       "</td>\n",
       "<td class=\"weeksColumn\">3</td>\n",
       "<td class=\"watchlistColumn\"><div class=\"wlb_ribbon\" data-tconst=\"tt5108870\"></div></td>\n",
       "</tr>\n",
       "<tr>\n",
       "<td class=\"posterColumn\">\n",
       "<a href=\"/title/tt4998632\"> <img alt=\"Ambulance\" height=\"67\" src=\"https://m.media-amazon.com/images/M/MV5BYjUyN2VlZGEtNGEyZC00YjViLTgwYmQtZDJiM2FlOTU3Mjg2XkEyXkFqcGdeQXVyMjMxOTE0ODA@._V1_UX45_CR0,0,45,67_AL_.jpg\" width=\"45\"/>\n",
       "</a> </td><td class=\"titleColumn\">\n",
       "<a href=\"/title/tt4998632\" title=\"Michael Bay (dir.), Jake Gyllenhaal, Yahya Abdul-Mateen II\">Ambulance</a>\n",
       "</td>\n",
       "<td class=\"ratingColumn\">\n",
       "                            $4.1M\n",
       "                    </td>\n",
       "<td class=\"ratingColumn\">\n",
       "<span class=\"secondaryInfo\">$15.7M</span>\n",
       "</td>\n",
       "<td class=\"weeksColumn\">2</td>\n",
       "<td class=\"watchlistColumn\"><div class=\"wlb_ribbon\" data-tconst=\"tt4998632\"></div></td>\n",
       "</tr>\n",
       "<tr>\n",
       "<td class=\"posterColumn\">\n",
       "<a href=\"/title/tt1877830\"> <img alt=\"The Batman\" height=\"67\" src=\"https://m.media-amazon.com/images/M/MV5BMDdmMTBiNTYtMDIzNi00NGVlLWIzMDYtZTk3MTQ3NGQxZGEwXkEyXkFqcGdeQXVyMzMwOTU5MDk@._V1_UY67_CR0,0,45,67_AL_.jpg\" width=\"45\"/>\n",
       "</a> </td><td class=\"titleColumn\">\n",
       "<a href=\"/title/tt1877830\" title=\"Matt Reeves (dir.), Robert Pattinson, Zoë Kravitz\">The Batman</a>\n",
       "</td>\n",
       "<td class=\"ratingColumn\">\n",
       "                            $3.8M\n",
       "                    </td>\n",
       "<td class=\"ratingColumn\">\n",
       "<span class=\"secondaryInfo\">$365.0M</span>\n",
       "</td>\n",
       "<td class=\"weeksColumn\">7</td>\n",
       "<td class=\"watchlistColumn\"><div class=\"wlb_ribbon\" data-tconst=\"tt1877830\"></div></td>\n",
       "</tr>\n",
       "<tr>\n",
       "<td class=\"posterColumn\">\n",
       "<a href=\"/title/tt10698680\"> <img alt=\"K.G.F: Chapter 2\" height=\"67\" src=\"https://m.media-amazon.com/images/M/MV5BMjMwMDgyOGQtMWZjNC00MDUwLTllZDYtZWM3NDBmN2YzNGZmXkEyXkFqcGdeQXVyMTQzNjkzMzEw._V1_UY67_CR0,0,45,67_AL_.jpg\" width=\"45\"/>\n",
       "</a> </td><td class=\"titleColumn\">\n",
       "<a href=\"/title/tt10698680\" title=\"Prashanth Neel (dir.), Yash, Sanjay Dutt\">K.G.F: Chapter 2</a>\n",
       "</td>\n",
       "<td class=\"ratingColumn\">\n",
       "                            $2.9M\n",
       "                    </td>\n",
       "<td class=\"ratingColumn\">\n",
       "<span class=\"secondaryInfo\">$2.9M</span>\n",
       "</td>\n",
       "<td class=\"weeksColumn\">1</td>\n",
       "<td class=\"watchlistColumn\"><div class=\"wlb_ribbon\" data-tconst=\"tt10698680\"></div></td>\n",
       "</tr>\n",
       "<tr>\n",
       "<td class=\"posterColumn\">\n",
       "<a href=\"/title/tt1464335\"> <img alt=\"Uncharted\" height=\"67\" src=\"https://m.media-amazon.com/images/M/MV5BMWEwNjhkYzYtNjgzYy00YTY2LThjYWYtYzViMGJkZTI4Y2MyXkEyXkFqcGdeQXVyNTM0OTY1OQ@@._V1_UY67_CR0,0,45,67_AL_.jpg\" width=\"45\"/>\n",
       "</a> </td><td class=\"titleColumn\">\n",
       "<a href=\"/title/tt1464335\" title=\"Ruben Fleischer (dir.), Tom Holland, Mark Wahlberg\">Uncharted</a>\n",
       "</td>\n",
       "<td class=\"ratingColumn\">\n",
       "                            $1.2M\n",
       "                    </td>\n",
       "<td class=\"ratingColumn\">\n",
       "<span class=\"secondaryInfo\">$145.0M</span>\n",
       "</td>\n",
       "<td class=\"weeksColumn\">9</td>\n",
       "<td class=\"watchlistColumn\"><div class=\"wlb_ribbon\" data-tconst=\"tt1464335\"></div></td>\n",
       "</tr>\n",
       "</tbody>\n",
       "</table>"
      ]
     },
     "execution_count": 6,
     "metadata": {},
     "output_type": "execute_result"
    }
   ],
   "source": [
    "target=soup.find('table',attrs={'class':'chart'})\n",
    "target"
   ]
  },
  {
   "cell_type": "code",
   "execution_count": 7,
   "metadata": {},
   "outputs": [
    {
     "data": {
      "text/plain": [
       "11"
      ]
     },
     "execution_count": 7,
     "metadata": {},
     "output_type": "execute_result"
    }
   ],
   "source": [
    "rows=target.find_all('tr')\n",
    "len(rows)"
   ]
  },
  {
   "cell_type": "code",
   "execution_count": 13,
   "metadata": {},
   "outputs": [
    {
     "ename": "IndexError",
     "evalue": "list index out of range",
     "output_type": "error",
     "traceback": [
      "\u001b[1;31m---------------------------------------------------------------------------\u001b[0m",
      "\u001b[1;31mIndexError\u001b[0m                                Traceback (most recent call last)",
      "\u001b[1;32mc:\\Users\\samsa\\OneDrive\\Documents\\GitHub\\python-course\\web mining\\box_office.ipynb Cell 7'\u001b[0m in \u001b[0;36m<module>\u001b[1;34m\u001b[0m\n\u001b[0;32m      <a href='vscode-notebook-cell:/c%3A/Users/samsa/OneDrive/Documents/GitHub/python-course/web%20mining/box_office.ipynb#ch0000006?line=2'>3</a>\u001b[0m title\u001b[39m=\u001b[39mrow\u001b[39m.\u001b[39mfind(\u001b[39m'\u001b[39m\u001b[39mtd\u001b[39m\u001b[39m'\u001b[39m,attrs\u001b[39m=\u001b[39m{\u001b[39m'\u001b[39m\u001b[39mclass\u001b[39m\u001b[39m'\u001b[39m:\u001b[39m'\u001b[39m\u001b[39mtitleColumn\u001b[39m\u001b[39m'\u001b[39m})\n\u001b[0;32m      <a href='vscode-notebook-cell:/c%3A/Users/samsa/OneDrive/Documents/GitHub/python-course/web%20mining/box_office.ipynb#ch0000006?line=3'>4</a>\u001b[0m weeked\u001b[39m=\u001b[39mrow\u001b[39m.\u001b[39mfind(\u001b[39m'\u001b[39m\u001b[39mtd\u001b[39m\u001b[39m'\u001b[39m,attrs\u001b[39m=\u001b[39m{\u001b[39m'\u001b[39m\u001b[39mclass\u001b[39m\u001b[39m'\u001b[39m:\u001b[39m'\u001b[39m\u001b[39mratingColumn\u001b[39m\u001b[39m'\u001b[39m})\n\u001b[1;32m----> <a href='vscode-notebook-cell:/c%3A/Users/samsa/OneDrive/Documents/GitHub/python-course/web%20mining/box_office.ipynb#ch0000006?line=4'>5</a>\u001b[0m gross\u001b[39m=\u001b[39mrow\u001b[39m.\u001b[39;49mfind_all(\u001b[39m'\u001b[39;49m\u001b[39mtd\u001b[39;49m\u001b[39m'\u001b[39;49m,attrs\u001b[39m=\u001b[39;49m{\u001b[39m'\u001b[39;49m\u001b[39mclass\u001b[39;49m\u001b[39m'\u001b[39;49m:\u001b[39m'\u001b[39;49m\u001b[39mratingColumn\u001b[39;49m\u001b[39m'\u001b[39;49m})[\u001b[39m-\u001b[39;49m\u001b[39m1\u001b[39;49m]\n\u001b[0;32m      <a href='vscode-notebook-cell:/c%3A/Users/samsa/OneDrive/Documents/GitHub/python-course/web%20mining/box_office.ipynb#ch0000006?line=5'>6</a>\u001b[0m week\u001b[39m=\u001b[39mrow\u001b[39m.\u001b[39mfind(\u001b[39m'\u001b[39m\u001b[39mtd\u001b[39m\u001b[39m'\u001b[39m,attrs\u001b[39m=\u001b[39m{\u001b[39m'\u001b[39m\u001b[39mclass\u001b[39m\u001b[39m'\u001b[39m:\u001b[39m'\u001b[39m\u001b[39mweeksColumn\u001b[39m\u001b[39m'\u001b[39m})\n\u001b[0;32m      <a href='vscode-notebook-cell:/c%3A/Users/samsa/OneDrive/Documents/GitHub/python-course/web%20mining/box_office.ipynb#ch0000006?line=6'>7</a>\u001b[0m movie\u001b[39m.\u001b[39mappend({\n\u001b[0;32m      <a href='vscode-notebook-cell:/c%3A/Users/samsa/OneDrive/Documents/GitHub/python-course/web%20mining/box_office.ipynb#ch0000006?line=7'>8</a>\u001b[0m     \u001b[39m'\u001b[39m\u001b[39mtitle\u001b[39m\u001b[39m'\u001b[39m:title\u001b[39m.\u001b[39mtext\u001b[39m.\u001b[39mstrip(),\n\u001b[0;32m      <a href='vscode-notebook-cell:/c%3A/Users/samsa/OneDrive/Documents/GitHub/python-course/web%20mining/box_office.ipynb#ch0000006?line=8'>9</a>\u001b[0m     \u001b[39m'\u001b[39m\u001b[39mweeked\u001b[39m\u001b[39m'\u001b[39m:weeked\u001b[39m.\u001b[39mtext\u001b[39m.\u001b[39mstrip(),\n\u001b[0;32m     <a href='vscode-notebook-cell:/c%3A/Users/samsa/OneDrive/Documents/GitHub/python-course/web%20mining/box_office.ipynb#ch0000006?line=9'>10</a>\u001b[0m     \u001b[39m'\u001b[39m\u001b[39mgross\u001b[39m\u001b[39m'\u001b[39m:gross\u001b[39m.\u001b[39mtext\u001b[39m.\u001b[39mstrip(),\n\u001b[0;32m     <a href='vscode-notebook-cell:/c%3A/Users/samsa/OneDrive/Documents/GitHub/python-course/web%20mining/box_office.ipynb#ch0000006?line=10'>11</a>\u001b[0m     \u001b[39m'\u001b[39m\u001b[39mweek\u001b[39m\u001b[39m'\u001b[39m:week\u001b[39m.\u001b[39mtext\u001b[39m.\u001b[39mstrip(),\n\u001b[0;32m     <a href='vscode-notebook-cell:/c%3A/Users/samsa/OneDrive/Documents/GitHub/python-course/web%20mining/box_office.ipynb#ch0000006?line=11'>12</a>\u001b[0m }) \n",
      "\u001b[1;31mIndexError\u001b[0m: list index out of range"
     ]
    }
   ],
   "source": [
    "movie=[]\n",
    "for row in rows:\n",
    "    title=row.find('td',attrs={'class':'titleColumn'})\n",
    "    weeked=row.find('td',attrs={'class':'ratingColumn'})\n",
    "    gross=row.find_all('td',attrs={'class':'ratingColumn'})[-1]\n",
    "    week=row.find('td',attrs={'class':'weeksColumn'})\n",
    "    movie.append({\n",
    "        'title':title.text.strip(),\n",
    "        'weeked':weeked.text.strip(),\n",
    "        'gross':gross.text.strip(),\n",
    "        'week':week.text.strip(),\n",
    "    }) \n",
    "data=pd.dataframe(movie)\n",
    "data.to_csv"
   ]
  },
  {
   "cell_type": "code",
   "execution_count": 14,
   "metadata": {},
   "outputs": [
    {
     "data": {
      "text/plain": [
       "11"
      ]
     },
     "execution_count": 14,
     "metadata": {},
     "output_type": "execute_result"
    }
   ],
   "source": [
    "rows=target.find_all('tr')\n",
    "\n",
    "len(rows)"
   ]
  },
  {
   "cell_type": "code",
   "execution_count": 12,
   "metadata": {},
   "outputs": [
    {
     "ename": "TypeError",
     "evalue": "'NoneType' object is not subscriptable",
     "output_type": "error",
     "traceback": [
      "\u001b[1;31m---------------------------------------------------------------------------\u001b[0m",
      "\u001b[1;31mTypeError\u001b[0m                                 Traceback (most recent call last)",
      "\u001b[1;32mc:\\Users\\samsa\\OneDrive\\Documents\\GitHub\\python-course\\web mining\\box_office.ipynb Cell 9'\u001b[0m in \u001b[0;36m<module>\u001b[1;34m\u001b[0m\n\u001b[0;32m      <a href='vscode-notebook-cell:/c%3A/Users/samsa/OneDrive/Documents/GitHub/python-course/web%20mining/box_office.ipynb#ch0000008?line=2'>3</a>\u001b[0m  title\u001b[39m=\u001b[39mrow\u001b[39m.\u001b[39mfind(\u001b[39m'\u001b[39m\u001b[39mtd\u001b[39m\u001b[39m'\u001b[39m,attrs\u001b[39m=\u001b[39m{\u001b[39m'\u001b[39m\u001b[39mclass\u001b[39m\u001b[39m'\u001b[39m:\u001b[39m'\u001b[39m\u001b[39mtitleColumn\u001b[39m\u001b[39m'\u001b[39m})\n\u001b[0;32m      <a href='vscode-notebook-cell:/c%3A/Users/samsa/OneDrive/Documents/GitHub/python-course/web%20mining/box_office.ipynb#ch0000008?line=3'>4</a>\u001b[0m  weeked\u001b[39m=\u001b[39mrow\u001b[39m.\u001b[39mfind(\u001b[39m'\u001b[39m\u001b[39mtd\u001b[39m\u001b[39m'\u001b[39m,attrs\u001b[39m=\u001b[39m{\u001b[39m'\u001b[39m\u001b[39mclass\u001b[39m\u001b[39m'\u001b[39m:\u001b[39m'\u001b[39m\u001b[39mratingColumn\u001b[39m\u001b[39m'\u001b[39m})\n\u001b[1;32m----> <a href='vscode-notebook-cell:/c%3A/Users/samsa/OneDrive/Documents/GitHub/python-course/web%20mining/box_office.ipynb#ch0000008?line=4'>5</a>\u001b[0m  gross\u001b[39m=\u001b[39mrow\u001b[39m.\u001b[39;49mfind(\u001b[39m'\u001b[39;49m\u001b[39mtd\u001b[39;49m\u001b[39m'\u001b[39;49m,attrs\u001b[39m=\u001b[39;49m{\u001b[39m'\u001b[39;49m\u001b[39mclass\u001b[39;49m\u001b[39m'\u001b[39;49m:\u001b[39m'\u001b[39;49m\u001b[39mratingColumn\u001b[39;49m\u001b[39m'\u001b[39;49m})[\u001b[39m-\u001b[39;49m\u001b[39m1\u001b[39;49m]\n\u001b[0;32m      <a href='vscode-notebook-cell:/c%3A/Users/samsa/OneDrive/Documents/GitHub/python-course/web%20mining/box_office.ipynb#ch0000008?line=5'>6</a>\u001b[0m  week\u001b[39m=\u001b[39mrow\u001b[39m.\u001b[39mfind(\u001b[39m'\u001b[39m\u001b[39mtd\u001b[39m\u001b[39m'\u001b[39m,attrs\u001b[39m=\u001b[39m{\u001b[39m'\u001b[39m\u001b[39mclass\u001b[39m\u001b[39m'\u001b[39m:\u001b[39m'\u001b[39m\u001b[39mweeksColumn\u001b[39m\u001b[39m'\u001b[39m})\n\u001b[0;32m      <a href='vscode-notebook-cell:/c%3A/Users/samsa/OneDrive/Documents/GitHub/python-course/web%20mining/box_office.ipynb#ch0000008?line=6'>7</a>\u001b[0m  movie\u001b[39m.\u001b[39mappend({\n\u001b[0;32m      <a href='vscode-notebook-cell:/c%3A/Users/samsa/OneDrive/Documents/GitHub/python-course/web%20mining/box_office.ipynb#ch0000008?line=7'>8</a>\u001b[0m      \u001b[39m'\u001b[39m\u001b[39mtitle\u001b[39m\u001b[39m'\u001b[39m:title\u001b[39m.\u001b[39mtext\u001b[39m.\u001b[39mstrip(),\n\u001b[0;32m      <a href='vscode-notebook-cell:/c%3A/Users/samsa/OneDrive/Documents/GitHub/python-course/web%20mining/box_office.ipynb#ch0000008?line=8'>9</a>\u001b[0m      \u001b[39m'\u001b[39m\u001b[39mweeked\u001b[39m\u001b[39m'\u001b[39m:weeked\u001b[39m.\u001b[39mtext\u001b[39m.\u001b[39mstrip(),\n\u001b[0;32m     <a href='vscode-notebook-cell:/c%3A/Users/samsa/OneDrive/Documents/GitHub/python-course/web%20mining/box_office.ipynb#ch0000008?line=9'>10</a>\u001b[0m      \u001b[39m'\u001b[39m\u001b[39mgross\u001b[39m\u001b[39m'\u001b[39m:gross\u001b[39m.\u001b[39mtext\u001b[39m.\u001b[39mstrip(),\n\u001b[0;32m     <a href='vscode-notebook-cell:/c%3A/Users/samsa/OneDrive/Documents/GitHub/python-course/web%20mining/box_office.ipynb#ch0000008?line=10'>11</a>\u001b[0m      \u001b[39m'\u001b[39m\u001b[39mweek\u001b[39m\u001b[39m'\u001b[39m:week\u001b[39m.\u001b[39mtext\u001b[39m.\u001b[39mstrip()\n\u001b[0;32m     <a href='vscode-notebook-cell:/c%3A/Users/samsa/OneDrive/Documents/GitHub/python-course/web%20mining/box_office.ipynb#ch0000008?line=11'>12</a>\u001b[0m }) \n",
      "\u001b[1;31mTypeError\u001b[0m: 'NoneType' object is not subscriptable"
     ]
    }
   ],
   "source": [
    "movie=[]\n",
    "for row in rows:\n",
    "    title=row.find('td',attrs={'class':'titleColumn'})\n",
    "    weeked=row.find('td',attrs={'class':'ratingColumn'})\n",
    "    gross=row.find('td',attrs={'class':'ratingColumn'})[-1]\n",
    "    week=row.find('td',attrs={'class':'weeksColumn'})\n",
    "    movie.append({\n",
    "        'title':title.text.strip(),\n",
    "        'weeked':weeked.text.strip(),\n",
    "        'gross':gross.text.strip(),\n",
    "        'week':week.text.strip()\n",
    "   }) \n",
    "data=pd.DataFrame(movie)\n",
    "data.to_csv"
   ]
  },
  {
   "cell_type": "code",
   "execution_count": null,
   "metadata": {},
   "outputs": [],
   "source": []
  }
 ],
 "metadata": {
  "interpreter": {
   "hash": "fed30e36df380b4e7b7d06a801b217955ec3fc3256658018197483620292ab6f"
  },
  "kernelspec": {
   "display_name": "Python 3.9.5 ('base')",
   "language": "python",
   "name": "python3"
  },
  "language_info": {
   "codemirror_mode": {
    "name": "ipython",
    "version": 3
   },
   "file_extension": ".py",
   "mimetype": "text/x-python",
   "name": "python",
   "nbconvert_exporter": "python",
   "pygments_lexer": "ipython3",
   "version": "3.9.5"
  },
  "orig_nbformat": 4
 },
 "nbformat": 4,
 "nbformat_minor": 2
}
