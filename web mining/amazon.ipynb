{
 "cells": [
  {
   "cell_type": "code",
   "execution_count": 1,
   "metadata": {},
   "outputs": [],
   "source": [
    "import requests\n",
    "from bs4 import BeautifulSoup\n",
    "import pandas as pd\n"
   ]
  },
  {
   "cell_type": "code",
   "execution_count": 2,
   "metadata": {},
   "outputs": [],
   "source": [
    "page=1\n",
    "query=''\n",
    "datalist=[]\n",
    "link=f'https://www.amazon.in/s?k={query}&page={page}&qid=1650612914&ref=sr_pg_2'"
   ]
  },
  {
   "cell_type": "code",
   "execution_count": 3,
   "metadata": {},
   "outputs": [],
   "source": [
    "def getpage(link):\n",
    "    try:\n",
    "        page=requests.get(link)\n",
    "        return BeautifulSoup(page.text,'lxml')\n",
    "    except  Exception as error:\n",
    "        print('error',error)\n",
    "\n",
    "    \n"
   ]
  },
  {
   "cell_type": "code",
   "execution_count": 10,
   "metadata": {},
   "outputs": [
    {
     "name": "stdout",
     "output_type": "stream",
     "text": [
      "error Invalid URL '1': No schema supplied. Perhaps you meant http://1?\n"
     ]
    }
   ],
   "source": [
    "soup=getpage(page)\n",
    "soup"
   ]
  },
  {
   "cell_type": "code",
   "execution_count": 5,
   "metadata": {},
   "outputs": [],
   "source": [
    "def extract(page):\n",
    "     \n",
    "    card=soup.find_all('div',{'class':'a-section a-spacing-small s-padding-left-small s-padding-right-small'})\n",
    "    size=len(card)\n",
    "    if size>0:\n",
    "          for pr in card:\n",
    "               name=pr.find('a',{'class':'a-section a-spacing-none a-spacing-top-small s-title-instructions-style'}).text\n",
    "               price=pr.find('a',{'class':'a-size-base a-link-normal s-underline-text s-underline-link-text s-link-style a-text-normal'}).text\n",
    "               \n",
    "               datalist.append({\n",
    "                   'name':name,\n",
    "                   'price':price\n",
    "                   \n",
    "               })\n",
    "          return  True\n",
    "    else:\n",
    "          print('no product found')\n",
    "          return False\n",
    "    "
   ]
  },
  {
   "cell_type": "code",
   "execution_count": 6,
   "metadata": {},
   "outputs": [],
   "source": [
    "def save(filebname):\n",
    "  df=pd.DataFrame(datalist)\n",
    "  df.to_csv(f'{filebname}.csv')\n",
    "  return df\n",
    "  print('saved')"
   ]
  },
  {
   "cell_type": "code",
   "execution_count": 7,
   "metadata": {},
   "outputs": [
    {
     "name": "stdout",
     "output_type": "stream",
     "text": [
      "data extracted from page  1\n",
      "no product found\n",
      "product extracted\n"
     ]
    }
   ],
   "source": [
    "while True:\n",
    "    link=f\"https://www.amazon.in/s?k={query}&page={page}&qid=1650612914&ref=sr_pg_2\"\n",
    "    print('data extracted from page ',page)\n",
    "    soup=getpage(link)\n",
    "    if soup:\n",
    "        status=extract(soup)\n",
    "        if  not status:\n",
    "            print('product extracted')\n",
    "            break\n",
    "        else:\n",
    "            page+=1"
   ]
  },
  {
   "cell_type": "code",
   "execution_count": 8,
   "metadata": {},
   "outputs": [
    {
     "data": {
      "text/html": [
       "<div>\n",
       "<style scoped>\n",
       "    .dataframe tbody tr th:only-of-type {\n",
       "        vertical-align: middle;\n",
       "    }\n",
       "\n",
       "    .dataframe tbody tr th {\n",
       "        vertical-align: top;\n",
       "    }\n",
       "\n",
       "    .dataframe thead th {\n",
       "        text-align: right;\n",
       "    }\n",
       "</style>\n",
       "<table border=\"1\" class=\"dataframe\">\n",
       "  <thead>\n",
       "    <tr style=\"text-align: right;\">\n",
       "      <th></th>\n",
       "    </tr>\n",
       "  </thead>\n",
       "  <tbody>\n",
       "  </tbody>\n",
       "</table>\n",
       "</div>"
      ],
      "text/plain": [
       "Empty DataFrame\n",
       "Columns: []\n",
       "Index: []"
      ]
     },
     "execution_count": 8,
     "metadata": {},
     "output_type": "execute_result"
    }
   ],
   "source": [
    "out=save('amazon bags')\n",
    "out"
   ]
  },
  {
   "cell_type": "code",
   "execution_count": 9,
   "metadata": {},
   "outputs": [
    {
     "data": {
      "text/plain": [
       "0"
      ]
     },
     "execution_count": 9,
     "metadata": {},
     "output_type": "execute_result"
    }
   ],
   "source": [
    "card=soup.find_all('div',{'class':'a-section a-spacing-small s-padding-left-small s-padding-right-small'})\n",
    "size=len(card)\n",
    "size"
   ]
  },
  {
   "cell_type": "code",
   "execution_count": null,
   "metadata": {},
   "outputs": [],
   "source": []
  }
 ],
 "metadata": {
  "interpreter": {
   "hash": "fed30e36df380b4e7b7d06a801b217955ec3fc3256658018197483620292ab6f"
  },
  "kernelspec": {
   "display_name": "Python 3.9.5 ('base')",
   "language": "python",
   "name": "python3"
  },
  "language_info": {
   "codemirror_mode": {
    "name": "ipython",
    "version": 3
   },
   "file_extension": ".py",
   "mimetype": "text/x-python",
   "name": "python",
   "nbconvert_exporter": "python",
   "pygments_lexer": "ipython3",
   "version": "3.9.5"
  },
  "orig_nbformat": 4
 },
 "nbformat": 4,
 "nbformat_minor": 2
}
