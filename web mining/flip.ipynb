{
 "cells": [
  {
   "cell_type": "code",
   "execution_count": 1,
   "metadata": {},
   "outputs": [],
   "source": [
    "import requests\n",
    "import pandas as pd\n",
    "from bs4 import BeautifulSoup"
   ]
  },
  {
   "cell_type": "code",
   "execution_count": 2,
   "metadata": {},
   "outputs": [],
   "source": [
    "query = 'speakers'\n",
    "page = 1\n",
    "datalist = [] # empty"
   ]
  },
  {
   "cell_type": "code",
   "execution_count": 3,
   "metadata": {},
   "outputs": [],
   "source": [
    "link = f'https://www.flipkart.com/search?q={query}&page={page}'"
   ]
  },
  {
   "cell_type": "code",
   "execution_count": 4,
   "metadata": {},
   "outputs": [],
   "source": [
    "def getpage(link):\n",
    "    try:\n",
    "        page = requests.get(link)\n",
    "        print('data loaded')\n",
    "        return BeautifulSoup(page.text,'lxml')\n",
    "    except Exception as error:\n",
    "        print('Error',error)"
   ]
  },
  {
   "cell_type": "code",
   "execution_count": 5,
   "metadata": {},
   "outputs": [],
   "source": [
    "def extract(pagedata):\n",
    "    cards =  soup.find_all('div',{'class':'_4ddWXP'})\n",
    "    size = len(cards)\n",
    "    if size > 0: # if products are found\n",
    "        for pr in cards: # pr is single product\n",
    "            name = pr.find('a',{'class':'s1Q9rs'}).text\n",
    "            price = pr.find('div',{'class':'_30jeq3'}).text[1:] # start from 2 char\n",
    "            try: \n",
    "                rating = pr.find('div',{'class':'_3LWZlK'}).text\n",
    "            except:\n",
    "                rating = 0\n",
    "            datalist.append({\n",
    "                'name':name,\n",
    "                'price':price,\n",
    "                'rating':rating\n",
    "            })\n",
    "        return True\n",
    "    else:\n",
    "        print('no product found')\n",
    "        return False"
   ]
  },
  {
   "cell_type": "code",
   "execution_count": 6,
   "metadata": {},
   "outputs": [],
   "source": [
    "def save(filename):\n",
    "    df = pd.DataFrame(datalist)\n",
    "    df.to_csv(f'{filename}.csv')\n",
    "    return df\n",
    "    print('saved')"
   ]
  },
  {
   "cell_type": "code",
   "execution_count": 7,
   "metadata": {},
   "outputs": [
    {
     "name": "stdout",
     "output_type": "stream",
     "text": [
      "extracting data from page : 1\n",
      "data loaded\n",
      "extracting data from page : 2\n",
      "data loaded\n",
      "extracting data from page : 3\n",
      "data loaded\n",
      "extracting data from page : 4\n",
      "data loaded\n",
      "extracting data from page : 5\n",
      "data loaded\n",
      "extracting data from page : 6\n",
      "data loaded\n",
      "extracting data from page : 7\n",
      "data loaded\n",
      "extracting data from page : 8\n",
      "data loaded\n",
      "extracting data from page : 9\n",
      "data loaded\n",
      "extracting data from page : 10\n",
      "data loaded\n",
      "extracting data from page : 11\n",
      "data loaded\n",
      "extracting data from page : 12\n",
      "data loaded\n",
      "extracting data from page : 13\n",
      "data loaded\n",
      "extracting data from page : 14\n",
      "data loaded\n",
      "extracting data from page : 15\n",
      "data loaded\n",
      "extracting data from page : 16\n",
      "data loaded\n",
      "extracting data from page : 17\n",
      "data loaded\n",
      "extracting data from page : 18\n",
      "data loaded\n",
      "extracting data from page : 19\n",
      "data loaded\n",
      "extracting data from page : 20\n",
      "data loaded\n",
      "extracting data from page : 21\n",
      "data loaded\n",
      "extracting data from page : 22\n",
      "data loaded\n",
      "extracting data from page : 23\n",
      "data loaded\n",
      "extracting data from page : 24\n",
      "data loaded\n",
      "extracting data from page : 25\n",
      "data loaded\n",
      "extracting data from page : 26\n",
      "data loaded\n",
      "no product found\n",
      "products extracted\n"
     ]
    }
   ],
   "source": [
    "page = 1\n",
    "query = 'speakers'\n",
    "datalist = [] # empty\n",
    "while True:\n",
    "    link = f'https://www.flipkart.com/search?q={query}&page={page}'\n",
    "    print('extracting data from page :',page)\n",
    "    soup = getpage(link)\n",
    "    if soup:                                # if we get page data\n",
    "        status =  extract(soup)\n",
    "        if not status:\n",
    "            print('products extracted')\n",
    "            break\n",
    "        else:\n",
    "            page += 1"
   ]
  },
  {
   "cell_type": "code",
   "execution_count": 8,
   "metadata": {},
   "outputs": [],
   "source": [
    "out = save('flipkart_speaker_prices')"
   ]
  },
  {
   "cell_type": "code",
   "execution_count": 9,
   "metadata": {},
   "outputs": [
    {
     "data": {
      "text/html": [
       "<div>\n",
       "<style scoped>\n",
       "    .dataframe tbody tr th:only-of-type {\n",
       "        vertical-align: middle;\n",
       "    }\n",
       "\n",
       "    .dataframe tbody tr th {\n",
       "        vertical-align: top;\n",
       "    }\n",
       "\n",
       "    .dataframe thead th {\n",
       "        text-align: right;\n",
       "    }\n",
       "</style>\n",
       "<table border=\"1\" class=\"dataframe\">\n",
       "  <thead>\n",
       "    <tr style=\"text-align: right;\">\n",
       "      <th></th>\n",
       "      <th>name</th>\n",
       "      <th>price</th>\n",
       "      <th>rating</th>\n",
       "    </tr>\n",
       "  </thead>\n",
       "  <tbody>\n",
       "    <tr>\n",
       "      <th>0</th>\n",
       "      <td>SONY HT-S20R Dolby Digital 400 W Bluetooth Sou...</td>\n",
       "      <td>17,990</td>\n",
       "      <td>4.4</td>\n",
       "    </tr>\n",
       "    <tr>\n",
       "      <th>1</th>\n",
       "      <td>PHILIPS SPA9120B/94 120 W Bluetooth Tower Speaker</td>\n",
       "      <td>24,090</td>\n",
       "      <td>4.4</td>\n",
       "    </tr>\n",
       "    <tr>\n",
       "      <th>2</th>\n",
       "      <td>boAt Stone 350 10 W Bluetooth Speaker</td>\n",
       "      <td>1,599</td>\n",
       "      <td>4.3</td>\n",
       "    </tr>\n",
       "    <tr>\n",
       "      <th>3</th>\n",
       "      <td>F FERONS Wireless rechargeable portable Premiu...</td>\n",
       "      <td>362</td>\n",
       "      <td>3.9</td>\n",
       "    </tr>\n",
       "    <tr>\n",
       "      <th>4</th>\n",
       "      <td>F FERONS Wireless rechargeable portable Premiu...</td>\n",
       "      <td>362</td>\n",
       "      <td>3.9</td>\n",
       "    </tr>\n",
       "    <tr>\n",
       "      <th>...</th>\n",
       "      <td>...</td>\n",
       "      <td>...</td>\n",
       "      <td>...</td>\n",
       "    </tr>\n",
       "    <tr>\n",
       "      <th>995</th>\n",
       "      <td>IMPEX RHYTHM B 45 W Bluetooth Home Theatre</td>\n",
       "      <td>4,249</td>\n",
       "      <td>4</td>\n",
       "    </tr>\n",
       "    <tr>\n",
       "      <th>996</th>\n",
       "      <td>Qexle WS-887Wireless with Memory Card Slot, US...</td>\n",
       "      <td>284</td>\n",
       "      <td>3.8</td>\n",
       "    </tr>\n",
       "    <tr>\n",
       "      <th>997</th>\n",
       "      <td>CIHLEX TOP SELLING |3D Ultra sound| Splashproo...</td>\n",
       "      <td>379</td>\n",
       "      <td>3.8</td>\n",
       "    </tr>\n",
       "    <tr>\n",
       "      <th>998</th>\n",
       "      <td>saregama Carvaan Mini SCM02/SCM04 3 W Bluetoot...</td>\n",
       "      <td>2,099</td>\n",
       "      <td>4.3</td>\n",
       "    </tr>\n",
       "    <tr>\n",
       "      <th>999</th>\n",
       "      <td>Mivi Play 5 W Portable Bluetooth Speaker</td>\n",
       "      <td>799</td>\n",
       "      <td>4.2</td>\n",
       "    </tr>\n",
       "  </tbody>\n",
       "</table>\n",
       "<p>1000 rows × 3 columns</p>\n",
       "</div>"
      ],
      "text/plain": [
       "                                                  name   price rating\n",
       "0    SONY HT-S20R Dolby Digital 400 W Bluetooth Sou...  17,990    4.4\n",
       "1    PHILIPS SPA9120B/94 120 W Bluetooth Tower Speaker  24,090    4.4\n",
       "2                boAt Stone 350 10 W Bluetooth Speaker   1,599    4.3\n",
       "3    F FERONS Wireless rechargeable portable Premiu...     362    3.9\n",
       "4    F FERONS Wireless rechargeable portable Premiu...     362    3.9\n",
       "..                                                 ...     ...    ...\n",
       "995         IMPEX RHYTHM B 45 W Bluetooth Home Theatre   4,249      4\n",
       "996  Qexle WS-887Wireless with Memory Card Slot, US...     284    3.8\n",
       "997  CIHLEX TOP SELLING |3D Ultra sound| Splashproo...     379    3.8\n",
       "998  saregama Carvaan Mini SCM02/SCM04 3 W Bluetoot...   2,099    4.3\n",
       "999           Mivi Play 5 W Portable Bluetooth Speaker     799    4.2\n",
       "\n",
       "[1000 rows x 3 columns]"
      ]
     },
     "execution_count": 9,
     "metadata": {},
     "output_type": "execute_result"
    }
   ],
   "source": [
    "out"
   ]
  },
  {
   "cell_type": "code",
   "execution_count": null,
   "metadata": {},
   "outputs": [],
   "source": []
  }
 ],
 "metadata": {
  "interpreter": {
   "hash": "fed30e36df380b4e7b7d06a801b217955ec3fc3256658018197483620292ab6f"
  },
  "kernelspec": {
   "display_name": "Python 3.9.5 ('base')",
   "language": "python",
   "name": "python3"
  },
  "language_info": {
   "codemirror_mode": {
    "name": "ipython",
    "version": 3
   },
   "file_extension": ".py",
   "mimetype": "text/x-python",
   "name": "python",
   "nbconvert_exporter": "python",
   "pygments_lexer": "ipython3",
   "version": "3.9.5"
  },
  "orig_nbformat": 4
 },
 "nbformat": 4,
 "nbformat_minor": 2
}
