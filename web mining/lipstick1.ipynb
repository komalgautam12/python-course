{
 "cells": [
  {
   "cell_type": "code",
   "execution_count": 55,
   "metadata": {},
   "outputs": [],
   "source": [
    "import requests\n",
    "from bs4 import BeautifulSoup\n",
    "import pandas as pd"
   ]
  },
  {
   "cell_type": "code",
   "execution_count": 56,
   "metadata": {},
   "outputs": [],
   "source": [
    "\n",
    "query = 'lipstick'\n",
    "\n",
    "\n",
    "link = 'https://www.flipkart.com/search?q=lipstick&page=1'"
   ]
  },
  {
   "cell_type": "code",
   "execution_count": 57,
   "metadata": {},
   "outputs": [],
   "source": [
    "def getpage(link):\n",
    "    try:\n",
    "        page = requests.get(link)\n",
    "        print('data loaded')\n",
    "        return BeautifulSoup(page.text,'lxml')\n",
    "    except Exception as error:\n",
    "        print('Error',error)"
   ]
  },
  {
   "cell_type": "code",
   "execution_count": 58,
   "metadata": {},
   "outputs": [
    {
     "name": "stdout",
     "output_type": "stream",
     "text": [
      "data loaded\n"
     ]
    }
   ],
   "source": [
    "soup=getpage(link)\n",
    "\n",
    "card=a.find_all('div',{'class':'_4ddWXP'})\n"
   ]
  },
  {
   "cell_type": "code",
   "execution_count": 59,
   "metadata": {},
   "outputs": [],
   "source": [
    "datalist=[]\n"
   ]
  },
  {
   "cell_type": "code",
   "execution_count": 60,
   "metadata": {},
   "outputs": [],
   "source": [
    "def extract(pagedata):\n",
    "    card =  soup.find_all('div',{'class':'_4ddWXP'})\n",
    "    size = len(card)\n",
    "    if size>0:\n",
    "        for i in card:\n",
    "\n",
    "            name=i.find('a',{'class':'s1Q9rs'}).text\n",
    "            price=i.find('div',{'class':'_30jeq3'}).text\n",
    "            try: \n",
    "               discount=i.find('div',{'class':'_3Ay6Sb'}).text\n",
    "            except:\n",
    "               discount = 0\n",
    "            datalist.append({\n",
    "              'name':name,\n",
    "              'price':price,\n",
    "              'discount':discount\n",
    "\n",
    "        })\n",
    "        return  True\n",
    "    else:\n",
    "          print('no product found')\n",
    "          return False\n",
    "    \n",
    "    print(name,price,discount)\n"
   ]
  },
  {
   "cell_type": "code",
   "execution_count": 61,
   "metadata": {},
   "outputs": [],
   "source": [
    "def save(filename):\n",
    "    df = pd.DataFrame(datalist)\n",
    "    df.to_csv(f'{filename}.csv')\n",
    "    return df\n",
    "    print('saved')"
   ]
  },
  {
   "cell_type": "code",
   "execution_count": 62,
   "metadata": {},
   "outputs": [
    {
     "name": "stdout",
     "output_type": "stream",
     "text": [
      "extracting data from page : 1\n",
      "data loaded\n",
      "extracting data from page : 2\n",
      "data loaded\n",
      "extracting data from page : 3\n",
      "data loaded\n",
      "extracting data from page : 4\n",
      "data loaded\n",
      "extracting data from page : 5\n",
      "data loaded\n",
      "extracting data from page : 6\n",
      "data loaded\n",
      "extracting data from page : 7\n",
      "data loaded\n",
      "extracting data from page : 8\n",
      "data loaded\n",
      "extracting data from page : 9\n",
      "data loaded\n",
      "extracting data from page : 10\n",
      "data loaded\n",
      "extracting data from page : 11\n",
      "data loaded\n",
      "extracting data from page : 12\n",
      "data loaded\n",
      "extracting data from page : 13\n",
      "data loaded\n",
      "extracting data from page : 14\n",
      "data loaded\n",
      "extracting data from page : 15\n",
      "data loaded\n",
      "extracting data from page : 16\n",
      "data loaded\n",
      "extracting data from page : 17\n",
      "data loaded\n",
      "extracting data from page : 18\n",
      "data loaded\n",
      "extracting data from page : 19\n",
      "data loaded\n",
      "extracting data from page : 20\n",
      "data loaded\n",
      "extracting data from page : 21\n",
      "data loaded\n",
      "extracting data from page : 22\n",
      "data loaded\n",
      "extracting data from page : 23\n",
      "data loaded\n",
      "extracting data from page : 24\n",
      "data loaded\n",
      "extracting data from page : 25\n",
      "data loaded\n",
      "extracting data from page : 26\n",
      "data loaded\n",
      "no product found\n",
      "products extracted\n"
     ]
    }
   ],
   "source": [
    "page = 1\n",
    "query = 'lipstick'\n",
    "datalist = [] # empty\n",
    "while True:\n",
    "    link = f'https://www.flipkart.com/search?q={query}&page={page}'\n",
    "    print('extracting data from page :',page)\n",
    "    soup = getpage(link)\n",
    "    if soup:                                # if we get page data\n",
    "        status =  extract(soup)\n",
    "        if not status:\n",
    "            print('products extracted')\n",
    "            break\n",
    "        else:\n",
    "            page += 1"
   ]
  },
  {
   "cell_type": "code",
   "execution_count": 63,
   "metadata": {},
   "outputs": [
    {
     "data": {
      "text/html": [
       "<div>\n",
       "<style scoped>\n",
       "    .dataframe tbody tr th:only-of-type {\n",
       "        vertical-align: middle;\n",
       "    }\n",
       "\n",
       "    .dataframe tbody tr th {\n",
       "        vertical-align: top;\n",
       "    }\n",
       "\n",
       "    .dataframe thead th {\n",
       "        text-align: right;\n",
       "    }\n",
       "</style>\n",
       "<table border=\"1\" class=\"dataframe\">\n",
       "  <thead>\n",
       "    <tr style=\"text-align: right;\">\n",
       "      <th></th>\n",
       "      <th>name</th>\n",
       "      <th>price</th>\n",
       "      <th>discount</th>\n",
       "    </tr>\n",
       "  </thead>\n",
       "  <tbody>\n",
       "    <tr>\n",
       "      <th>0</th>\n",
       "      <td>SUGAR Cosmetics Smudge Me Not Liquid Lipstick</td>\n",
       "      <td>₹499</td>\n",
       "      <td>0</td>\n",
       "    </tr>\n",
       "    <tr>\n",
       "      <th>1</th>\n",
       "      <td>MAYBELLINE NEW YORK Sensational Liquid Matte L...</td>\n",
       "      <td>₹266</td>\n",
       "      <td>23% off</td>\n",
       "    </tr>\n",
       "    <tr>\n",
       "      <th>2</th>\n",
       "      <td>Sh.Huda 12 pc set Liquid matte lipstick</td>\n",
       "      <td>₹359</td>\n",
       "      <td>64% off</td>\n",
       "    </tr>\n",
       "    <tr>\n",
       "      <th>3</th>\n",
       "      <td>NYN HUDA Insta Beauty Sensational Liquid Matte...</td>\n",
       "      <td>₹196</td>\n",
       "      <td>60% off</td>\n",
       "    </tr>\n",
       "    <tr>\n",
       "      <th>4</th>\n",
       "      <td>SWISS BEAUTY Lipstick SB-S6 Shade-222</td>\n",
       "      <td>₹158</td>\n",
       "      <td>31% off</td>\n",
       "    </tr>\n",
       "    <tr>\n",
       "      <th>...</th>\n",
       "      <td>...</td>\n",
       "      <td>...</td>\n",
       "      <td>...</td>\n",
       "    </tr>\n",
       "    <tr>\n",
       "      <th>995</th>\n",
       "      <td>Renee Black Magic PH Stick - Madness, 3g</td>\n",
       "      <td>₹469</td>\n",
       "      <td>6% off</td>\n",
       "    </tr>\n",
       "    <tr>\n",
       "      <th>996</th>\n",
       "      <td>Perpaa Power Stay Liquid Matte Lipstick - Wate...</td>\n",
       "      <td>₹403</td>\n",
       "      <td>59% off</td>\n",
       "    </tr>\n",
       "    <tr>\n",
       "      <th>997</th>\n",
       "      <td>NYKAA Matte To Last ! Liquid Lipstick - Maharani</td>\n",
       "      <td>₹567</td>\n",
       "      <td>5% off</td>\n",
       "    </tr>\n",
       "    <tr>\n",
       "      <th>998</th>\n",
       "      <td>Insight Non Transfer Waterproof Liquid Lip Col...</td>\n",
       "      <td>₹175</td>\n",
       "      <td>7% off</td>\n",
       "    </tr>\n",
       "    <tr>\n",
       "      <th>999</th>\n",
       "      <td>SUGAR Cosmetics Smudge Me Not Liquid Lipstick</td>\n",
       "      <td>₹499</td>\n",
       "      <td>0</td>\n",
       "    </tr>\n",
       "  </tbody>\n",
       "</table>\n",
       "<p>1000 rows × 3 columns</p>\n",
       "</div>"
      ],
      "text/plain": [
       "                                                  name price discount\n",
       "0        SUGAR Cosmetics Smudge Me Not Liquid Lipstick  ₹499        0\n",
       "1    MAYBELLINE NEW YORK Sensational Liquid Matte L...  ₹266  23% off\n",
       "2              Sh.Huda 12 pc set Liquid matte lipstick  ₹359  64% off\n",
       "3    NYN HUDA Insta Beauty Sensational Liquid Matte...  ₹196  60% off\n",
       "4                SWISS BEAUTY Lipstick SB-S6 Shade-222  ₹158  31% off\n",
       "..                                                 ...   ...      ...\n",
       "995           Renee Black Magic PH Stick - Madness, 3g  ₹469   6% off\n",
       "996  Perpaa Power Stay Liquid Matte Lipstick - Wate...  ₹403  59% off\n",
       "997   NYKAA Matte To Last ! Liquid Lipstick - Maharani  ₹567   5% off\n",
       "998  Insight Non Transfer Waterproof Liquid Lip Col...  ₹175   7% off\n",
       "999      SUGAR Cosmetics Smudge Me Not Liquid Lipstick  ₹499        0\n",
       "\n",
       "[1000 rows x 3 columns]"
      ]
     },
     "execution_count": 63,
     "metadata": {},
     "output_type": "execute_result"
    }
   ],
   "source": [
    "out=save('lipstick names ')\n",
    "out"
   ]
  },
  {
   "cell_type": "code",
   "execution_count": null,
   "metadata": {},
   "outputs": [],
   "source": []
  }
 ],
 "metadata": {
  "interpreter": {
   "hash": "fed30e36df380b4e7b7d06a801b217955ec3fc3256658018197483620292ab6f"
  },
  "kernelspec": {
   "display_name": "Python 3.9.5 ('base')",
   "language": "python",
   "name": "python3"
  },
  "language_info": {
   "codemirror_mode": {
    "name": "ipython",
    "version": 3
   },
   "file_extension": ".py",
   "mimetype": "text/x-python",
   "name": "python",
   "nbconvert_exporter": "python",
   "pygments_lexer": "ipython3",
   "version": "3.9.5"
  },
  "orig_nbformat": 4
 },
 "nbformat": 4,
 "nbformat_minor": 2
}
