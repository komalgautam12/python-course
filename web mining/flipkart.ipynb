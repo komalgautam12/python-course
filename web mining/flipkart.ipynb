{
 "cells": [
  {
   "cell_type": "code",
   "execution_count": 1,
   "metadata": {},
   "outputs": [],
   "source": [
    "import requests\n",
    "from bs4 import BeautifulSoup\n",
    "import pandas as pd"
   ]
  },
  {
   "cell_type": "code",
   "execution_count": 2,
   "metadata": {},
   "outputs": [],
   "source": [
    "query='shoes'\n",
    "page=1\n",
    "datalist=[]\n"
   ]
  },
  {
   "cell_type": "code",
   "execution_count": 3,
   "metadata": {},
   "outputs": [],
   "source": [
    "link=f'https://www.flipkart.com/search?q={query}&page={page}'"
   ]
  },
  {
   "cell_type": "code",
   "execution_count": 4,
   "metadata": {},
   "outputs": [],
   "source": [
    "def getpage(link):\n",
    "    try:\n",
    "        page=requests.get(link)\n",
    "        print('data loaded')\n",
    "        return BeautifulSoup(page.text,'lxml')\n",
    "    except Exception as error:\n",
    "        print('Error',error)"
   ]
  },
  {
   "cell_type": "code",
   "execution_count": 5,
   "metadata": {},
   "outputs": [
    {
     "name": "stdout",
     "output_type": "stream",
     "text": [
      "data loaded\n"
     ]
    }
   ],
   "source": [
    "soup=getpage(link)"
   ]
  },
  {
   "cell_type": "code",
   "execution_count": 6,
   "metadata": {},
   "outputs": [],
   "source": [
    "def extract(pagedata):\n",
    "    \n",
    "    card=soup.find_all('div',{'class':'_1xHGtK _373qXS'})\n",
    "    size=len(card)\n",
    "    if size>0:\n",
    "          for pr in card:\n",
    "               name=pr.find('a',{'class':'IRpwTa'}).text\n",
    "               price=pr.find('div',{'class':'_30jeq3'}).text\n",
    "               try: \n",
    "                discount=pr.find('div',{'class':'_3Ay6Sb'}).text\n",
    "               except:\n",
    "                discount = 0\n",
    "               \n",
    "               datalist.append({\n",
    "                   'name':name,\n",
    "                   'price':price,\n",
    "                   'discount':discount\n",
    "               })\n",
    "          return  True\n",
    "    else:\n",
    "          print('no product found')\n",
    "          return False"
   ]
  },
  {
   "cell_type": "code",
   "execution_count": 7,
   "metadata": {},
   "outputs": [],
   "source": [
    "def save(filebname):\n",
    "  df=pd.DataFrame(datalist)\n",
    "  df.to_csv(f'{filebname}.csv')\n",
    "  return df\n",
    "  print('saved')"
   ]
  },
  {
   "cell_type": "code",
   "execution_count": 8,
   "metadata": {},
   "outputs": [
    {
     "name": "stdout",
     "output_type": "stream",
     "text": [
      "data extracted from page  1\n",
      "data loaded\n",
      "data extracted from page  2\n",
      "data loaded\n",
      "data extracted from page  3\n",
      "data loaded\n",
      "data extracted from page  4\n",
      "data loaded\n",
      "data extracted from page  5\n",
      "data loaded\n",
      "data extracted from page  6\n",
      "data loaded\n",
      "data extracted from page  7\n",
      "data loaded\n",
      "data extracted from page  8\n",
      "data loaded\n",
      "data extracted from page  9\n",
      "data loaded\n",
      "data extracted from page  10\n",
      "data loaded\n",
      "data extracted from page  11\n",
      "data loaded\n",
      "data extracted from page  12\n",
      "data loaded\n",
      "data extracted from page  13\n",
      "data loaded\n",
      "data extracted from page  14\n",
      "data loaded\n",
      "data extracted from page  15\n",
      "data loaded\n",
      "data extracted from page  16\n",
      "data loaded\n",
      "data extracted from page  17\n",
      "data loaded\n",
      "data extracted from page  18\n",
      "data loaded\n",
      "data extracted from page  19\n",
      "data loaded\n",
      "data extracted from page  20\n",
      "data loaded\n",
      "data extracted from page  21\n",
      "data loaded\n",
      "data extracted from page  22\n",
      "data loaded\n",
      "data extracted from page  23\n",
      "data loaded\n",
      "data extracted from page  24\n",
      "data loaded\n",
      "data extracted from page  25\n",
      "data loaded\n",
      "no product found\n",
      "product extracted\n"
     ]
    }
   ],
   "source": [
    "while True:\n",
    "    link=f\"https://www.flipkart.com/search?q={query}&page={page}\"\n",
    "    print('data extracted from page ',page)\n",
    "    soup=getpage(link)\n",
    "    if soup:\n",
    "        status=extract(soup)\n",
    "        if  not status:\n",
    "            print('product extracted')\n",
    "            break\n",
    "        else:\n",
    "            \n",
    "            page+=1"
   ]
  },
  {
   "cell_type": "code",
   "execution_count": 9,
   "metadata": {},
   "outputs": [
    {
     "data": {
      "text/html": [
       "<div>\n",
       "<style scoped>\n",
       "    .dataframe tbody tr th:only-of-type {\n",
       "        vertical-align: middle;\n",
       "    }\n",
       "\n",
       "    .dataframe tbody tr th {\n",
       "        vertical-align: top;\n",
       "    }\n",
       "\n",
       "    .dataframe thead th {\n",
       "        text-align: right;\n",
       "    }\n",
       "</style>\n",
       "<table border=\"1\" class=\"dataframe\">\n",
       "  <thead>\n",
       "    <tr style=\"text-align: right;\">\n",
       "      <th></th>\n",
       "      <th>name</th>\n",
       "      <th>price</th>\n",
       "      <th>discount</th>\n",
       "    </tr>\n",
       "  </thead>\n",
       "  <tbody>\n",
       "    <tr>\n",
       "      <th>0</th>\n",
       "      <td>Spider-01 White Sports,Casual,Walking,Gym, Run...</td>\n",
       "      <td>₹1,149</td>\n",
       "      <td>42% off</td>\n",
       "    </tr>\n",
       "    <tr>\n",
       "      <th>1</th>\n",
       "      <td>Crystal-13 Black sky Sports Transparent Sole T...</td>\n",
       "      <td>₹1,348</td>\n",
       "      <td>41% off</td>\n",
       "    </tr>\n",
       "    <tr>\n",
       "      <th>2</th>\n",
       "      <td>Exclusive Range of Stylish Casual Walking Comf...</td>\n",
       "      <td>₹192</td>\n",
       "      <td>72% off</td>\n",
       "    </tr>\n",
       "    <tr>\n",
       "      <th>3</th>\n",
       "      <td>Revolution 6 Next Nature Road s Running Shoes ...</td>\n",
       "      <td>₹2,277</td>\n",
       "      <td>38% off</td>\n",
       "    </tr>\n",
       "    <tr>\n",
       "      <th>4</th>\n",
       "      <td>Exclusive Range of Stylish Comfortable Sports ...</td>\n",
       "      <td>₹249</td>\n",
       "      <td>75% off</td>\n",
       "    </tr>\n",
       "    <tr>\n",
       "      <th>...</th>\n",
       "      <td>...</td>\n",
       "      <td>...</td>\n",
       "      <td>...</td>\n",
       "    </tr>\n",
       "    <tr>\n",
       "      <th>955</th>\n",
       "      <td>Hustle V2 Wns Running Shoes For Women</td>\n",
       "      <td>₹1,139</td>\n",
       "      <td>71% off</td>\n",
       "    </tr>\n",
       "    <tr>\n",
       "      <th>956</th>\n",
       "      <td>Athleisure Sneakers For Men</td>\n",
       "      <td>₹939</td>\n",
       "      <td>71% off</td>\n",
       "    </tr>\n",
       "    <tr>\n",
       "      <th>957</th>\n",
       "      <td>Casuals For Men</td>\n",
       "      <td>₹1,710</td>\n",
       "      <td>61% off</td>\n",
       "    </tr>\n",
       "    <tr>\n",
       "      <th>958</th>\n",
       "      <td>SHP3008 Loafers For Men</td>\n",
       "      <td>₹649</td>\n",
       "      <td>61% off</td>\n",
       "    </tr>\n",
       "    <tr>\n",
       "      <th>959</th>\n",
       "      <td>Casuals For Men</td>\n",
       "      <td>₹269</td>\n",
       "      <td>73% off</td>\n",
       "    </tr>\n",
       "  </tbody>\n",
       "</table>\n",
       "<p>960 rows × 3 columns</p>\n",
       "</div>"
      ],
      "text/plain": [
       "                                                  name   price discount\n",
       "0    Spider-01 White Sports,Casual,Walking,Gym, Run...  ₹1,149  42% off\n",
       "1    Crystal-13 Black sky Sports Transparent Sole T...  ₹1,348  41% off\n",
       "2    Exclusive Range of Stylish Casual Walking Comf...    ₹192  72% off\n",
       "3    Revolution 6 Next Nature Road s Running Shoes ...  ₹2,277  38% off\n",
       "4    Exclusive Range of Stylish Comfortable Sports ...    ₹249  75% off\n",
       "..                                                 ...     ...      ...\n",
       "955              Hustle V2 Wns Running Shoes For Women  ₹1,139  71% off\n",
       "956                        Athleisure Sneakers For Men    ₹939  71% off\n",
       "957                                    Casuals For Men  ₹1,710  61% off\n",
       "958                            SHP3008 Loafers For Men    ₹649  61% off\n",
       "959                                    Casuals For Men    ₹269  73% off\n",
       "\n",
       "[960 rows x 3 columns]"
      ]
     },
     "execution_count": 9,
     "metadata": {},
     "output_type": "execute_result"
    }
   ],
   "source": [
    "out=save('flipkart shoes names ')\n",
    "out"
   ]
  },
  {
   "cell_type": "code",
   "execution_count": null,
   "metadata": {},
   "outputs": [],
   "source": []
  },
  {
   "cell_type": "code",
   "execution_count": null,
   "metadata": {},
   "outputs": [],
   "source": []
  },
  {
   "cell_type": "code",
   "execution_count": null,
   "metadata": {},
   "outputs": [],
   "source": []
  }
 ],
 "metadata": {
  "interpreter": {
   "hash": "fed30e36df380b4e7b7d06a801b217955ec3fc3256658018197483620292ab6f"
  },
  "kernelspec": {
   "display_name": "Python 3.9.5 ('base')",
   "language": "python",
   "name": "python3"
  },
  "language_info": {
   "codemirror_mode": {
    "name": "ipython",
    "version": 3
   },
   "file_extension": ".py",
   "mimetype": "text/x-python",
   "name": "python",
   "nbconvert_exporter": "python",
   "pygments_lexer": "ipython3",
   "version": "3.9.5"
  },
  "orig_nbformat": 4
 },
 "nbformat": 4,
 "nbformat_minor": 2
}
