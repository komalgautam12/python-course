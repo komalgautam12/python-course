{
 "cells": [
  {
   "cell_type": "code",
   "execution_count": 197,
   "metadata": {},
   "outputs": [
    {
     "name": "stdout",
     "output_type": "stream",
     "text": [
      "flipkart.com?1\n",
      "flipkart.com?2\n",
      "flipkart.com?3\n",
      "flipkart.com?4\n",
      "flipkart.com?5\n",
      "flipkart.com?6\n",
      "flipkart.com?7\n",
      "flipkart.com?8\n",
      "flipkart.com?9\n",
      "flipkart.com?10\n"
     ]
    }
   ],
   "source": [
    "for i in  range(10):\n",
    "    print(f'flipkart.com?{i+1}')\n",
    "\n"
   ]
  },
  {
   "cell_type": "code",
   "execution_count": 198,
   "metadata": {},
   "outputs": [],
   "source": [
    "import requests\n",
    "from bs4 import BeautifulSoup\n",
    "import pandas as pd"
   ]
  },
  {
   "cell_type": "code",
   "execution_count": 199,
   "metadata": {},
   "outputs": [],
   "source": [
    "query='shoes'\n",
    "page=1\n",
    "datalist=[]\n"
   ]
  },
  {
   "cell_type": "code",
   "execution_count": 200,
   "metadata": {},
   "outputs": [],
   "source": [
    "link=f'https://www.flipkart.com/search?q={query}&page={page}'"
   ]
  },
  {
   "cell_type": "code",
   "execution_count": 201,
   "metadata": {},
   "outputs": [],
   "source": [
    "def getpage(link):\n",
    "    try:\n",
    "        page=requests.get(link)\n",
    "        print('data loaded')\n",
    "        return BeautifulSoup(page.text,'lxml')\n",
    "    except Exception as error:\n",
    "        print('Error',error)"
   ]
  },
  {
   "cell_type": "code",
   "execution_count": 202,
   "metadata": {},
   "outputs": [
    {
     "name": "stdout",
     "output_type": "stream",
     "text": [
      "data loaded\n"
     ]
    }
   ],
   "source": [
    "soup=getpage(link)"
   ]
  },
  {
   "cell_type": "code",
   "execution_count": 203,
   "metadata": {},
   "outputs": [],
   "source": [
    "def extract(pagedata):\n",
    "    card=soup.find_all('div',{'class':'_1xHGtK _373qXS'})\n",
    "    size=len(card)\n",
    "    if size>0:\n",
    "          for pr in card:\n",
    "               name=pr.find('a',{'class':'IRpwTa'}).text\n",
    "               price=pr.find('div',{'class':'_30jeq3'}).text\n",
    "               discount=pr.find('div',{'class':'_3Ay6Sb'}).text\n",
    "               datalist.append({\n",
    "                   'name':name,\n",
    "                   'price':price,\n",
    "                   'discount':discount\n",
    "               })\n",
    "          return  True\n",
    "    else:\n",
    "          print('no product found')\n",
    "          return False"
   ]
  },
  {
   "cell_type": "code",
   "execution_count": 204,
   "metadata": {},
   "outputs": [],
   "source": [
    "def save(filebname):\n",
    "  df=pd.DataFrame(datalist)\n",
    "  df.to_csv(f'{filebname}.csv')\n",
    "  return df\n",
    "  print('saved')"
   ]
  },
  {
   "cell_type": "code",
   "execution_count": 205,
   "metadata": {},
   "outputs": [
    {
     "name": "stdout",
     "output_type": "stream",
     "text": [
      "data extracted from page  1\n",
      "data loaded\n",
      "data extracted from page  2\n",
      "data loaded\n",
      "data extracted from page  3\n",
      "data loaded\n",
      "data extracted from page  4\n",
      "data loaded\n",
      "no product found\n",
      "product extracted\n"
     ]
    }
   ],
   "source": [
    "while True:\n",
    "    link=f\"https://www.flipkart.com/search?q={query}&page={page}\"\n",
    "    print('data extracted from page ',page)\n",
    "    soup=getpage(link)\n",
    "    if soup:\n",
    "        status=extract(soup)\n",
    "        if  not status:\n",
    "            print('product extracted')\n",
    "            break\n",
    "        else:\n",
    "            page+=1"
   ]
  },
  {
   "cell_type": "code",
   "execution_count": 208,
   "metadata": {},
   "outputs": [],
   "source": [
    "out=save('flipkart shoes names ')"
   ]
  },
  {
   "cell_type": "code",
   "execution_count": 209,
   "metadata": {},
   "outputs": [
    {
     "data": {
      "text/html": [
       "<div>\n",
       "<style scoped>\n",
       "    .dataframe tbody tr th:only-of-type {\n",
       "        vertical-align: middle;\n",
       "    }\n",
       "\n",
       "    .dataframe tbody tr th {\n",
       "        vertical-align: top;\n",
       "    }\n",
       "\n",
       "    .dataframe thead th {\n",
       "        text-align: right;\n",
       "    }\n",
       "</style>\n",
       "<table border=\"1\" class=\"dataframe\">\n",
       "  <thead>\n",
       "    <tr style=\"text-align: right;\">\n",
       "      <th></th>\n",
       "      <th>name</th>\n",
       "      <th>price</th>\n",
       "      <th>discount</th>\n",
       "    </tr>\n",
       "  </thead>\n",
       "  <tbody>\n",
       "    <tr>\n",
       "      <th>0</th>\n",
       "      <td>Comfortable and Stylish Boys Sports Shoes Runn...</td>\n",
       "      <td>₹289</td>\n",
       "      <td>42% off</td>\n",
       "    </tr>\n",
       "    <tr>\n",
       "      <th>1</th>\n",
       "      <td>Running Shoes For Men</td>\n",
       "      <td>₹1,509</td>\n",
       "      <td>63% off</td>\n",
       "    </tr>\n",
       "    <tr>\n",
       "      <th>2</th>\n",
       "      <td>Socks Stylish Cricket , Walking Shoes , Light ...</td>\n",
       "      <td>₹248</td>\n",
       "      <td>75% off</td>\n",
       "    </tr>\n",
       "    <tr>\n",
       "      <th>3</th>\n",
       "      <td>Exclusive Range of Stylish Casual Walking Comf...</td>\n",
       "      <td>₹191</td>\n",
       "      <td>72% off</td>\n",
       "    </tr>\n",
       "    <tr>\n",
       "      <th>4</th>\n",
       "      <td>Exclusive Range of Stylish Comfortable Sports ...</td>\n",
       "      <td>₹247</td>\n",
       "      <td>75% off</td>\n",
       "    </tr>\n",
       "    <tr>\n",
       "      <th>...</th>\n",
       "      <td>...</td>\n",
       "      <td>...</td>\n",
       "      <td>...</td>\n",
       "    </tr>\n",
       "    <tr>\n",
       "      <th>115</th>\n",
       "      <td>Boots For Men</td>\n",
       "      <td>₹444</td>\n",
       "      <td>55% off</td>\n",
       "    </tr>\n",
       "    <tr>\n",
       "      <th>116</th>\n",
       "      <td>Royal Look Party Wear Shoes For Men ll Casual ...</td>\n",
       "      <td>₹669</td>\n",
       "      <td>48% off</td>\n",
       "    </tr>\n",
       "    <tr>\n",
       "      <th>117</th>\n",
       "      <td>casual for men Sneakers For Men</td>\n",
       "      <td>₹399</td>\n",
       "      <td>60% off</td>\n",
       "    </tr>\n",
       "    <tr>\n",
       "      <th>118</th>\n",
       "      <td>Synthetic Leather Loafers For Men</td>\n",
       "      <td>₹949</td>\n",
       "      <td>52% off</td>\n",
       "    </tr>\n",
       "    <tr>\n",
       "      <th>119</th>\n",
       "      <td>BLACK SHARK Training &amp; Gym Shoes For Men</td>\n",
       "      <td>₹374</td>\n",
       "      <td>62% off</td>\n",
       "    </tr>\n",
       "  </tbody>\n",
       "</table>\n",
       "<p>120 rows × 3 columns</p>\n",
       "</div>"
      ],
      "text/plain": [
       "                                                  name   price discount\n",
       "0    Comfortable and Stylish Boys Sports Shoes Runn...    ₹289  42% off\n",
       "1                                Running Shoes For Men  ₹1,509  63% off\n",
       "2    Socks Stylish Cricket , Walking Shoes , Light ...    ₹248  75% off\n",
       "3    Exclusive Range of Stylish Casual Walking Comf...    ₹191  72% off\n",
       "4    Exclusive Range of Stylish Comfortable Sports ...    ₹247  75% off\n",
       "..                                                 ...     ...      ...\n",
       "115                                      Boots For Men    ₹444  55% off\n",
       "116  Royal Look Party Wear Shoes For Men ll Casual ...    ₹669  48% off\n",
       "117                    casual for men Sneakers For Men    ₹399  60% off\n",
       "118                  Synthetic Leather Loafers For Men    ₹949  52% off\n",
       "119           BLACK SHARK Training & Gym Shoes For Men    ₹374  62% off\n",
       "\n",
       "[120 rows x 3 columns]"
      ]
     },
     "execution_count": 209,
     "metadata": {},
     "output_type": "execute_result"
    }
   ],
   "source": [
    "out"
   ]
  },
  {
   "cell_type": "code",
   "execution_count": null,
   "metadata": {},
   "outputs": [],
   "source": []
  }
 ],
 "metadata": {
  "interpreter": {
   "hash": "fed30e36df380b4e7b7d06a801b217955ec3fc3256658018197483620292ab6f"
  },
  "kernelspec": {
   "display_name": "Python 3.9.5 ('base')",
   "language": "python",
   "name": "python3"
  },
  "language_info": {
   "codemirror_mode": {
    "name": "ipython",
    "version": 3
   },
   "file_extension": ".py",
   "mimetype": "text/x-python",
   "name": "python",
   "nbconvert_exporter": "python",
   "pygments_lexer": "ipython3",
   "version": "3.9.5"
  },
  "orig_nbformat": 4
 },
 "nbformat": 4,
 "nbformat_minor": 2
}
